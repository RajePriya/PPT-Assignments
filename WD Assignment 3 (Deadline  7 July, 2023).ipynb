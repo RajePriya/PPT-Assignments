{
 "cells": [
  {
   "cell_type": "markdown",
   "id": "c85811b0",
   "metadata": {},
   "source": [
    "# Q1"
   ]
  },
  {
   "cell_type": "code",
   "execution_count": null,
   "id": "948c5447",
   "metadata": {},
   "outputs": [],
   "source": [
    "Q.1 What is a Media Query in CSS, and what is its purpose?"
   ]
  },
  {
   "cell_type": "markdown",
   "id": "7b0e4659",
   "metadata": {},
   "source": [
    "Ans:- \n",
    "    \n",
    "    In CSS, a media query is a feature that allows you to apply different styles and rules to a web page based on specific characteristics of the device or viewport that the page is being viewed on. Media queries enable you to create responsive designs that adapt and adjust to different screen sizes and device capabilities.\n",
    "\n",
    "The purpose of media queries is to provide a way to customize the appearance and layout of a web page based on the properties of the device or medium it is being displayed on. This helps ensure that the content is presented in an optimal way, providing a better user experience across various devices such as desktop computers, laptops, tablets, and smartphones.\n",
    "\n",
    "Media queries are particularly useful for implementing responsive web design, which aims to create websites that can adapt and respond to different screen sizes and orientations. By defining different sets of CSS rules for different conditions, you can control how the layout, typography, and other design elements of your web page respond to changes in the viewport.\n",
    "\n",
    "For example, you can define a media query to target devices with a maximum width of 600 pixels and apply specific styling for that range. This allows you to create a layout that is optimized for smaller screens, such as hiding certain elements, adjusting font sizes, or rearranging the page structure.\n",
    "\n",
    "Media queries support a wide range of conditions based on properties like width, height, aspect ratio, orientation, resolution, and more. They can be used in CSS files or directly within HTML using the style attribute. By using media queries effectively, you can create a more flexible and adaptive design that enhances the user experience across different devices and platforms."
   ]
  },
  {
   "cell_type": "markdown",
   "id": "6457c85b",
   "metadata": {},
   "source": [
    "# Q2"
   ]
  },
  {
   "cell_type": "code",
   "execution_count": null,
   "id": "bb505d3d",
   "metadata": {},
   "outputs": [],
   "source": [
    "Q.2 How do you define a media query in CSS?"
   ]
  },
  {
   "cell_type": "markdown",
   "id": "d0cd5a8d",
   "metadata": {},
   "source": [
    "Ans:- \n",
    "    To define a media query in CSS, you use the @media rule followed by one or more conditions that specify when the associated CSS rules should be applied. "
   ]
  },
  {
   "cell_type": "code",
   "execution_count": null,
   "id": "d484ddc5",
   "metadata": {},
   "outputs": [],
   "source": [
    "@media media_type and (media_feature: value) {\n",
    "  /* CSS rules to be applied */\n",
    "}\n"
   ]
  },
  {
   "cell_type": "markdown",
   "id": "985f155b",
   "metadata": {},
   "source": [
    "Let's break down the components of a media query:\n",
    "\n",
    "- @media: This is the keyword that indicates the beginning of a media query rule.\n",
    "\n",
    "- media_type: It represents the type of media being targeted. The most common media type is screen, which applies to devices with screens such as computers, tablets, and smartphones. Other media types include print (for printers) and speech (for screen readers).\n",
    "\n",
    "- and: It's a logical operator used to combine multiple conditions in a media query. It specifies that all conditions must be true for the associated styles to be applied. You can also use or and not as logical operators.\n",
    "\n",
    "- media_feature: It represents a specific characteristic or property of the targeted media. Examples of media features include width, height, orientation, resolution, and aspect-ratio. You can use different media features to define the conditions under which the styles should be applied.\n",
    "\n",
    "- value: It's the value associated with the media feature. For example, if you're targeting a maximum width of 600 pixels, the value would be 600px.\n",
    "\n",
    "Here's an example of a media query that applies specific styles when the viewport width is less than or equal to 600 pixels:"
   ]
  },
  {
   "cell_type": "code",
   "execution_count": null,
   "id": "e2082cb3",
   "metadata": {},
   "outputs": [],
   "source": [
    "@media screen and (max-width: 600px) {\n",
    "  /* CSS rules to be applied */\n",
    "}"
   ]
  },
  {
   "cell_type": "markdown",
   "id": "30aaeed4",
   "metadata": {},
   "source": [
    "Within the curly braces, you can specify the CSS rules that will be applied when the conditions of the media query are met. These rules can include changes to layout, typography, colors, or any other CSS property.\n",
    "\n",
    "You can have multiple media queries in a CSS file, each targeting different conditions or combinations of conditions to handle different device configurations and adapt your design accordingly."
   ]
  },
  {
   "cell_type": "markdown",
   "id": "bcc053b4",
   "metadata": {},
   "source": [
    "# Q3"
   ]
  },
  {
   "cell_type": "code",
   "execution_count": null,
   "id": "024b7dae",
   "metadata": {},
   "outputs": [],
   "source": [
    "Q.3 Explain the concept of Breakpoints in Responsive Web Design and How They are used in Media Queries."
   ]
  },
  {
   "cell_type": "markdown",
   "id": "2536dc02",
   "metadata": {},
   "source": [
    "Ans:- \n",
    "    In responsive web design, breakpoints are specific points or thresholds in the viewport's width where the layout of a web page needs to adapt and change. They define the boundaries at which the design responds and adjusts to different screen sizes, allowing for optimal presentation and usability on various devices.\n",
    "\n",
    "Breakpoints are closely related to media queries. Media queries utilize breakpoints to apply specific CSS rules and styles based on the current viewport size. By defining breakpoints within media queries, you can create a responsive design that accommodates different screen widths and provides an optimal user experience.\n",
    "\n",
    "Here's how breakpoints are typically used in media queries:\n",
    "\n",
    "1. Identifying breakpoints: Start by identifying the points at which your web design needs to adapt. Common breakpoints are often determined based on the typical screen sizes of different devices, such as smartphones, tablets, laptops, and desktops. For example, you might choose breakpoints at 320px, 480px, 768px, and 1024px, which are common widths for small mobile screens, larger mobile screens, tablets, and desktops, respectively.\n",
    "\n",
    "2. Writing media queries: Once you've identified your breakpoints, you can write media queries that target specific viewport ranges. Each media query will have a condition based on the viewport width, using the min-width or max-width media features.\n",
    "\n",
    "3. Applying styles at breakpoints: Within each media query block, you define the CSS rules and styles that should be applied when the viewport width meets the specified condition. These rules can include changes to layout, typography, spacing, or any other CSS properties necessary to create an optimized design for that particular viewport size."
   ]
  },
  {
   "cell_type": "code",
   "execution_count": null,
   "id": "e69c1649",
   "metadata": {},
   "outputs": [],
   "source": [
    "/* Styles for small screens (up to 480px) */\n",
    "@media screen and (max-width: 480px) {\n",
    "  /* CSS rules for small screens */\n",
    "}\n",
    "\n",
    "/* Styles for medium screens (481px to 768px) */\n",
    "@media screen and (min-width: 481px) and (max-width: 768px) {\n",
    "  /* CSS rules for medium screens */\n",
    "}\n",
    "\n",
    "/* Styles for large screens (769px and above) */\n",
    "@media screen and (min-width: 769px) {\n",
    "  /* CSS rules for large screens */\n",
    "}"
   ]
  },
  {
   "cell_type": "markdown",
   "id": "ae378575",
   "metadata": {},
   "source": [
    "the CSS rules within each media query block will be applied when the viewport width falls within the specified range, adapting the layout and styles to suit the screen size. By utilizing breakpoints and media queries, you can create a responsive design that provides an optimal viewing experience across a wide range of devices and screen sizes."
   ]
  },
  {
   "cell_type": "markdown",
   "id": "f20b3d92",
   "metadata": {},
   "source": [
    "# Q4"
   ]
  },
  {
   "cell_type": "code",
   "execution_count": null,
   "id": "aa323c0a",
   "metadata": {},
   "outputs": [],
   "source": [
    "Q.4 What is the purpose of using Media Queries for Print Media?"
   ]
  },
  {
   "cell_type": "markdown",
   "id": "9c9d04a2",
   "metadata": {},
   "source": [
    "Ans:- \n",
    "    Media queries for print media serve the purpose of providing specific styles and layout optimizations when a web page is printed. When a user decides to print a web page, it often requires different formatting and presentation compared to the on-screen view. Media queries allow you to define styles that are specifically tailored for print, ensuring that the printed output is readable, well-structured, and optimized for the medium.\n",
    "\n",
    "Here are some specific purposes of using media queries for print media:\n",
    "\n",
    "1. Adjusting layout: Media queries for print allow you to modify the layout of the content to make it more suitable for print. For example, you might want to remove certain elements that are unnecessary in a printed document, such as navigation menus, advertisements, or sidebars. You can also adjust the positioning and sizing of elements to make better use of the printed page.\n",
    "\n",
    "2. Modifying typography: Print media queries enable you to make typography adjustments for improved readability in printed materials. You can adjust font sizes, line heights, and margins to ensure the text is legible when printed. Additionally, you can choose different fonts or font families that are more suitable for printed documents.\n",
    "\n",
    "3. Controlling colors and backgrounds: Print media queries allow you to customize the colors and backgrounds specifically for the printed version. Since printing capabilities differ from screen displays, you can adjust the colors to ensure they appear accurately and consider any limitations in color reproduction. You might also want to remove background images or use alternative styles that work better in print.\n",
    "\n",
    "4. Including or excluding content: Media queries for print give you the ability to include or exclude specific content when printing. This allows you to create print-specific versions of your web pages by selectively displaying or hiding certain elements. For instance, you might want to include additional details like page numbers, footnotes, or headers specifically for printed documents.\n",
    "\n",
    "By using media queries for print, you can tailor the presentation of your web content to suit the characteristics and limitations of printed materials. This ensures that the printed output is optimized for readability, conserves resources, and maintains a consistent branding and user experience across different mediums."
   ]
  },
  {
   "cell_type": "markdown",
   "id": "57c9b275",
   "metadata": {},
   "source": [
    "# Q5"
   ]
  },
  {
   "cell_type": "code",
   "execution_count": null,
   "id": "02526fed",
   "metadata": {},
   "outputs": [],
   "source": [
    "Q.5 What is the purpose of the orientation media feature?"
   ]
  },
  {
   "cell_type": "markdown",
   "id": "bbe8a3c2",
   "metadata": {},
   "source": [
    "Ans:- \n",
    "    The purpose of the orientation media feature is to detect and respond to changes in the orientation of a device's viewport. It allows you to apply specific styles and adjustments based on whether the device is in a portrait or landscape orientation.\n",
    "\n",
    "The orientation media feature has two possible values:\n",
    "\n",
    "1. portrait: This value indicates that the device viewport has a greater height than width, typically representing a vertical or upright orientation.\n",
    "\n",
    "2. landscape: This value indicates that the device viewport has a greater width than height, typically representing a horizontal or wide orientation."
   ]
  },
  {
   "cell_type": "markdown",
   "id": "5e940334",
   "metadata": {},
   "source": [
    "By using the orientation media feature, you can create different layouts and styling for portrait and landscape orientations to enhance the user experience on different devices. Here are a few examples of how the orientation media feature can be utilized:\n",
    "\n",
    "1. Adjusting layout: You can modify the layout of elements based on the orientation. For example, in portrait mode, you might want to stack elements vertically to accommodate the limited horizontal space. In landscape mode, you could arrange elements side by side to take advantage of the wider viewport.\n",
    "\n",
    "2. Changing typography: The orientation media feature allows you to make typography adjustments depending on the orientation. For instance, you can increase the font size in portrait mode to improve readability, or reduce it in landscape mode to fit more content within the wider viewport.\n",
    "\n",
    "3. Realigning images and media: When the orientation changes, you may need to reposition or resize images and media elements to adapt to the new aspect ratio. This ensures that visual content remains visually appealing and well-integrated within the layout."
   ]
  },
  {
   "cell_type": "code",
   "execution_count": null,
   "id": "8b118b0d",
   "metadata": {},
   "outputs": [],
   "source": [
    "@media screen and (orientation: portrait) {\n",
    "  /* CSS rules for portrait orientation */\n",
    "}\n",
    "\n",
    "@media screen and (orientation: landscape) {\n",
    "  /* CSS rules for landscape orientation */\n",
    "}"
   ]
  },
  {
   "cell_type": "markdown",
   "id": "bfef5654",
   "metadata": {},
   "source": [
    " the specified CSS rules will be applied when the device viewport matches the respective orientation condition.\n",
    "\n",
    "By leveraging the orientation media feature, you can create responsive designs that adapt to different device orientations, providing an optimal user experience and ensuring that your content is displayed effectively in both portrait and landscape modes."
   ]
  },
  {
   "cell_type": "markdown",
   "id": "5da9f971",
   "metadata": {},
   "source": [
    "# Q6"
   ]
  },
  {
   "cell_type": "markdown",
   "id": "66261488",
   "metadata": {},
   "source": [
    "Q.6 Imagine you are a web developer working for a creative agency that specializes in building visually appealing and interactive websites. The agency has recently received a client request to create a landing page similar to the design of the one-page website: https://www.getonecard.app/. The client wants to showcase a video prominently on the page to engage visitors.\n",
    "\n",
    "Your task is to create a simple webpage that replicates the one-page landing page design, including a responsive layout and an HTML video. The below images are for your reference. Some browsers don’t allow you to play videos without the controls attribute. So, you can add controls here, we will learn how to play a video without the controls attribute in the later sections."
   ]
  },
  {
   "cell_type": "code",
   "execution_count": null,
   "id": "0bc54c5b",
   "metadata": {},
   "outputs": [],
   "source": [
    "<!DOCTYPE html>\n",
    "<html>\n",
    "<head>\n",
    "  <title>One-Page Landing Page</title>\n",
    "  <link rel=\"stylesheet\" type=\"text/css\" href=\"styles.css\">\n",
    "</head>\n",
    "<body>\n",
    "  <header>\n",
    "    <!-- Header content goes here -->\n",
    "  </header>\n",
    "\n",
    "  <section class=\"hero\">\n",
    "    <div class=\"video-wrapper\">\n",
    "      <video src=\"video.mp4\" controls autoplay muted loop>\n",
    "        <source src=\"video.mp4\" type=\"video/mp4\">\n",
    "      </video>\n",
    "    </div>\n",
    "    <div class=\"hero-content\">\n",
    "      <!-- Hero content goes here -->\n",
    "    </div>\n",
    "  </section>\n",
    "\n",
    "  <section class=\"features\">\n",
    "    <!-- Features section content goes here -->\n",
    "  </section>\n",
    "\n",
    "  <section class=\"benefits\">\n",
    "    <!-- Benefits section content goes here -->\n",
    "  </section>\n",
    "\n",
    "  <!-- Additional sections as per your design -->\n",
    "\n",
    "</body>\n",
    "</html>"
   ]
  },
  {
   "cell_type": "code",
   "execution_count": null,
   "id": "e82a1094",
   "metadata": {},
   "outputs": [],
   "source": [
    "CSS code (styles.css):"
   ]
  },
  {
   "cell_type": "code",
   "execution_count": null,
   "id": "63e9d6c3",
   "metadata": {},
   "outputs": [],
   "source": [
    "/* Reset some default styles for consistency */\n",
    "html, body {\n",
    "  margin: 0;\n",
    "  padding: 0;\n",
    "}\n",
    "\n",
    "/* Apply basic styling for the header section */\n",
    "header {\n",
    "  background-color: #333;\n",
    "  color: #fff;\n",
    "  padding: 20px;\n",
    "}\n",
    "\n",
    "/* Style the hero section with the video background */\n",
    ".hero {\n",
    "  position: relative;\n",
    "  height: 100vh;\n",
    "  overflow: hidden;\n",
    "}\n",
    "\n",
    ".video-wrapper {\n",
    "  position: absolute;\n",
    "  top: 0;\n",
    "  left: 0;\n",
    "  width: 100%;\n",
    "  height: 100%;\n",
    "  z-index: -1;\n",
    "}\n",
    "\n",
    ".hero video {\n",
    "  width: 100%;\n",
    "  height: auto;\n",
    "  object-fit: cover;\n",
    "}\n",
    "\n",
    ".hero-content {\n",
    "  position: absolute;\n",
    "  top: 50%;\n",
    "  left: 50%;\n",
    "  transform: translate(-50%, -50%);\n",
    "  text-align: center;\n",
    "  color: #fff;\n",
    "}\n",
    "\n",
    "/* Apply styling for the features and benefits sections */\n",
    ".features, .benefits {\n",
    "  padding: 80px 0;\n",
    "  text-align: center;\n",
    "}\n",
    "\n",
    "/* Additional CSS styles as per your design */\n",
    "\n",
    "/* Apply responsive styles using media queries */\n",
    "@media screen and (max-width: 768px) {\n",
    "  /* Responsive styles for smaller screens */\n",
    "}\n",
    "\n",
    "@media screen and (max-width: 480px) {\n",
    "  /* Responsive styles for mobile screens */\n",
    "}"
   ]
  },
  {
   "cell_type": "markdown",
   "id": "6969bdea",
   "metadata": {},
   "source": [
    "you'll need to provide the actual video file (video.mp4) and add content to the header, hero, features, benefits, and any additional sections according to your client's requirements.\n",
    "\n",
    "Remember to adjust the CSS styles and HTML structure as needed to match the desired design. Additionally, add further sections and apply appropriate CSS styling to complete the one-page landing page according to your client's specifications.\n",
    "\n",
    "Please note that this is a simplified example, and the actual implementation may require more code and fine-tuning to achieve the exact design of the reference webpage."
   ]
  },
  {
   "cell_type": "markdown",
   "id": "fade2a91",
   "metadata": {},
   "source": [
    "# Q7"
   ]
  },
  {
   "cell_type": "markdown",
   "id": "b47b12c2",
   "metadata": {},
   "source": [
    "Q.7 You are tasked with building a webpage that displays an image gallery using a grid layout. The challenge is to ensure the gallery is visually appealing and functional on both large and small screens. On large screens, the gallery should display multiple images per row, while on small screens, it should collapse into a single column for optimal viewing. Refer to the attached images for visual reference. Implement this using CSS Grid and media queries for responsiveness."
   ]
  },
  {
   "cell_type": "code",
   "execution_count": null,
   "id": "99409794",
   "metadata": {},
   "outputs": [],
   "source": [
    "<!DOCTYPE html>\n",
    "<html>\n",
    "<head>\n",
    "  <title>Responsive Image Gallery</title>\n",
    "  <link rel=\"stylesheet\" type=\"text/css\" href=\"styles.css\">\n",
    "</head>\n",
    "<body>\n",
    "  <div class=\"gallery\">\n",
    "    <img src=\"image1.jpg\" alt=\"Image 1\">\n",
    "    <img src=\"image2.jpg\" alt=\"Image 2\">\n",
    "    <img src=\"image3.jpg\" alt=\"Image 3\">\n",
    "    <img src=\"image4.jpg\" alt=\"Image 4\">\n",
    "    <img src=\"image5.jpg\" alt=\"Image 5\">\n",
    "    <img src=\"image6.jpg\" alt=\"Image 6\">\n",
    "    <!-- Add more images as needed -->\n",
    "  </div>\n",
    "</body>\n",
    "</html>"
   ]
  },
  {
   "cell_type": "code",
   "execution_count": null,
   "id": "cee752fe",
   "metadata": {},
   "outputs": [],
   "source": [
    "CSS code (styles.css):"
   ]
  },
  {
   "cell_type": "code",
   "execution_count": null,
   "id": "ed6cb29c",
   "metadata": {},
   "outputs": [],
   "source": [
    ".gallery {\n",
    "  display: grid;\n",
    "  grid-template-columns: repeat(auto-fit, minmax(250px, 1fr));\n",
    "  gap: 10px;\n",
    "}\n",
    "\n",
    ".gallery img {\n",
    "  width: 100%;\n",
    "  height: auto;\n",
    "}\n",
    "\n",
    "/* Apply responsive styles using media queries */\n",
    "@media screen and (max-width: 768px) {\n",
    "  .gallery {\n",
    "    grid-template-columns: repeat(auto-fit, minmax(300px, 1fr));\n",
    "  }\n",
    "}\n",
    "\n",
    "@media screen and (max-width: 480px) {\n",
    "  .gallery {\n",
    "    grid-template-columns: repeat(auto-fit, minmax(200px, 1fr));\n",
    "  }\n",
    "}"
   ]
  },
  {
   "cell_type": "markdown",
   "id": "16b54e3e",
   "metadata": {},
   "source": [
    "you'll need to replace the src attribute of the <img> tags with the actual image URLs or file paths. You can add more images to the gallery by duplicating the <img> tags.\n",
    "\n",
    "The CSS code uses CSS Grid to create the grid layout for the gallery. The grid-template-columns property defines the number of columns and their sizes. In this case, repeat(auto-fit, minmax(250px, 1fr)) ensures that the gallery adapts to the available space, with a minimum column width of 250 pixels.\n",
    "\n",
    "Media queries are used to apply different grid configurations based on the screen size. In the provided example, two media queries are included to adjust the number of columns on screens with a maximum width of 768px and 480px, respectively.\n",
    "\n",
    "Feel free to adjust the column sizes, gap, and image dimensions according to your preferences and design requirements."
   ]
  },
  {
   "cell_type": "markdown",
   "id": "485a6eff",
   "metadata": {},
   "source": [
    "# Q8"
   ]
  },
  {
   "cell_type": "markdown",
   "id": "f07eafa2",
   "metadata": {},
   "source": [
    "Q.8 In this coding challenge, your task is to create an information section for the previously built OneCard webpage clone, focusing on the different modes like dark and light modes. The webpage should look different depending on the screen size: dark mode for larger screens and light mode for smaller devices. The reference images are attached below."
   ]
  },
  {
   "cell_type": "code",
   "execution_count": null,
   "id": "e43b11d2",
   "metadata": {},
   "outputs": [],
   "source": [
    "HTML code:"
   ]
  },
  {
   "cell_type": "code",
   "execution_count": null,
   "id": "17315eeb",
   "metadata": {},
   "outputs": [],
   "source": [
    "<!DOCTYPE html>\n",
    "<html>\n",
    "<head>\n",
    "  <title>OneCard Webpage Clone</title>\n",
    "  <link rel=\"stylesheet\" type=\"text/css\" href=\"styles.css\">\n",
    "</head>\n",
    "<body>\n",
    "  <header>\n",
    "    <!-- Header content goes here -->\n",
    "  </header>\n",
    "\n",
    "  <section class=\"hero\">\n",
    "    <!-- Hero section content goes here -->\n",
    "  </section>\n",
    "\n",
    "  <section class=\"info\">\n",
    "    <div class=\"info-content\">\n",
    "      <h2>About Us</h2>\n",
    "      <p>Lorem ipsum dolor sit amet, consectetur adipiscing elit. Nullam eget eleifend lectus, vitae consectetur enim. Morbi gravida elit sed neque euismod, in eleifend nulla gravida. Nulla eget arcu vel ipsum hendrerit rutrum in id ipsum.</p>\n",
    "    </div>\n",
    "  </section>\n",
    "\n",
    "  <!-- Additional sections and content as per your design -->\n",
    "\n",
    "</body>\n",
    "</html>\n"
   ]
  },
  {
   "cell_type": "code",
   "execution_count": null,
   "id": "a72a695a",
   "metadata": {},
   "outputs": [],
   "source": [
    "CSS code (styles.css):"
   ]
  },
  {
   "cell_type": "code",
   "execution_count": null,
   "id": "8570c710",
   "metadata": {},
   "outputs": [],
   "source": [
    "/* Reset some default styles for consistency */\n",
    "html, body {\n",
    "  margin: 0;\n",
    "  padding: 0;\n",
    "}\n",
    "\n",
    "/* Apply dark mode styles for larger screens */\n",
    "@media screen and (min-width: 768px) {\n",
    "  body {\n",
    "    background-color: #333;\n",
    "    color: #fff;\n",
    "  }\n",
    "\n",
    "  .info-content {\n",
    "    background-color: #555;\n",
    "    padding: 20px;\n",
    "  }\n",
    "\n",
    "  h2 {\n",
    "    color: #fff;\n",
    "  }\n",
    "\n",
    "  p {\n",
    "    color: #ccc;\n",
    "  }\n",
    "}\n",
    "\n",
    "/* Apply light mode styles for smaller screens */\n",
    "@media screen and (max-width: 767px) {\n",
    "  body {\n",
    "    background-color: #fff;\n",
    "    color: #333;\n",
    "  }\n",
    "\n",
    "  .info-content {\n",
    "    background-color: #f5f5f5;\n",
    "    padding: 20px;\n",
    "  }\n",
    "}"
   ]
  },
  {
   "cell_type": "markdown",
   "id": "e0070b95",
   "metadata": {},
   "source": [
    " the CSS code uses media queries to apply different styles based on the screen size. The first media query targets larger screens (min-width: 768px) and applies the dark mode styles, including a dark background, light text color, and specific styling for the information section. The second media query targets smaller screens (max-width: 767px) and applies the light mode styles, including a light background, dark text color, and different styling for the information section.\n",
    "\n",
    "You can further customize the styles and content within the .info section according to your design requirements.\n",
    "\n",
    "Remember to adjust the styles, colors, and content as per your desired design for the information section in both dark and light modes."
   ]
  },
  {
   "cell_type": "markdown",
   "id": "bc3b752c",
   "metadata": {},
   "source": [
    "# Q9"
   ]
  },
  {
   "cell_type": "markdown",
   "id": "c441b29c",
   "metadata": {},
   "source": [
    "Q.9 You have reached the final task of learning responsive web design, which involves designing a responsive footer. Your goal is to build a simple webpage footer that matches the design shown in the attached image. The footer should adapt to different screen sizes, ensuring optimal visibility and alignment of the content. Refer to the attached image for a visual reference."
   ]
  },
  {
   "cell_type": "code",
   "execution_count": null,
   "id": "f76c8b0a",
   "metadata": {},
   "outputs": [],
   "source": [
    "HTML code:"
   ]
  },
  {
   "cell_type": "code",
   "execution_count": null,
   "id": "2cbaebf3",
   "metadata": {},
   "outputs": [],
   "source": [
    "<!DOCTYPE html>\n",
    "<html>\n",
    "<head>\n",
    "  <title>Responsive Footer</title>\n",
    "  <link rel=\"stylesheet\" type=\"text/css\" href=\"styles.css\">\n",
    "</head>\n",
    "<body>\n",
    "  <!-- Your webpage content -->\n",
    "\n",
    "  <footer>\n",
    "    <div class=\"footer-container\">\n",
    "      <div class=\"footer-logo\">\n",
    "        <img src=\"logo.png\" alt=\"Logo\">\n",
    "      </div>\n",
    "      <nav class=\"footer-links\">\n",
    "        <ul>\n",
    "          <li><a href=\"#\">Home</a></li>\n",
    "          <li><a href=\"#\">About</a></li>\n",
    "          <li><a href=\"#\">Services</a></li>\n",
    "          <li><a href=\"#\">Contact</a></li>\n",
    "        </ul>\n",
    "      </nav>\n",
    "      <div class=\"footer-social\">\n",
    "        <a href=\"#\"><img src=\"facebook-icon.png\" alt=\"Facebook\"></a>\n",
    "        <a href=\"#\"><img src=\"twitter-icon.png\" alt=\"Twitter\"></a>\n",
    "        <a href=\"#\"><img src=\"instagram-icon.png\" alt=\"Instagram\"></a>\n",
    "      </div>\n",
    "    </div>\n",
    "    <div class=\"footer-bottom\">\n",
    "      <p>&copy; 2023 Your Company. All rights reserved.</p>\n",
    "    </div>\n",
    "  </footer>\n",
    "</body>\n",
    "</html>"
   ]
  },
  {
   "cell_type": "code",
   "execution_count": null,
   "id": "34258697",
   "metadata": {},
   "outputs": [],
   "source": [
    "CSS code (styles.css):"
   ]
  },
  {
   "cell_type": "code",
   "execution_count": null,
   "id": "6d5add40",
   "metadata": {},
   "outputs": [],
   "source": [
    "/* Reset some default styles for consistency */\n",
    "html, body {\n",
    "  margin: 0;\n",
    "  padding: 0;\n",
    "}\n",
    "\n",
    "/* Apply styles for the footer */\n",
    "footer {\n",
    "  background-color: #333;\n",
    "  color: #fff;\n",
    "  padding: 20px;\n",
    "}\n",
    "\n",
    ".footer-container {\n",
    "  display: flex;\n",
    "  flex-wrap: wrap;\n",
    "  justify-content: space-between;\n",
    "  align-items: center;\n",
    "}\n",
    "\n",
    ".footer-logo img {\n",
    "  width: 150px;\n",
    "}\n",
    "\n",
    ".footer-links ul {\n",
    "  list-style-type: none;\n",
    "  margin: 0;\n",
    "  padding: 0;\n",
    "}\n",
    "\n",
    ".footer-links ul li {\n",
    "  display: inline;\n",
    "  margin-right: 10px;\n",
    "}\n",
    "\n",
    ".footer-links ul li a {\n",
    "  color: #fff;\n",
    "  text-decoration: none;\n",
    "}\n",
    "\n",
    ".footer-social a img {\n",
    "  width: 25px;\n",
    "  margin-right: 10px;\n",
    "}\n",
    "\n",
    ".footer-bottom {\n",
    "  background-color: #111;\n",
    "  padding: 10px;\n",
    "  text-align: center;\n",
    "}\n",
    "\n",
    ".footer-bottom p {\n",
    "  margin: 0;\n",
    "  color: #fff;\n",
    "}\n",
    "\n",
    "/* Apply responsive styles using media queries */\n",
    "@media screen and (max-width: 768px) {\n",
    "  .footer-container {\n",
    "    flex-direction: column;\n",
    "    align-items: flex-start;\n",
    "  }\n",
    "\n",
    "  .footer-logo img {\n",
    "    margin-bottom: 10px;\n",
    "  }\n",
    "\n",
    "  .footer-links ul li {\n",
    "    display: block;\n",
    "    margin-bottom: 5px;\n",
    "  }\n",
    "}"
   ]
  },
  {
   "cell_type": "markdown",
   "id": "d1524bdb",
   "metadata": {},
   "source": [
    " you'll need to replace the src attributes of the <img> tags with the actual image URLs or file paths. Adjust the content and links within the footer to match your website's requirements.\n",
    "\n",
    "The CSS code applies styles to create the responsive footer. The .footer-container class uses flexbox to align and distribute the content evenly. Media queries are used to adjust the footer layout on smaller screens, with the .footer-container flex-direction changing to a column layout.\n",
    "\n",
    "Customize the colors, fonts, and dimensions to match your desired design for the footer.\n",
    "\n",
    "Please note that this is a simplified example, and you may need to further adjust the styles and structure to achieve the exact design shown in the attached image."
   ]
  },
  {
   "cell_type": "markdown",
   "id": "5ed2aa8e",
   "metadata": {},
   "source": [
    "# Q10"
   ]
  },
  {
   "cell_type": "markdown",
   "id": "3e8dcb3a",
   "metadata": {},
   "source": [
    "Q.10 You have been given to create a student dashboard page that includes a student details table. The challenge lies in handling the table's display on different screen sizes. On large screens, the table should be fully visible, while on small screens, it should have an internal scroll to ensure proper visibility of information. Refer to the attached images for visual reference."
   ]
  },
  {
   "cell_type": "code",
   "execution_count": null,
   "id": "f66a364b",
   "metadata": {},
   "outputs": [],
   "source": [
    "HTML code:"
   ]
  },
  {
   "cell_type": "code",
   "execution_count": null,
   "id": "0d002c6b",
   "metadata": {},
   "outputs": [],
   "source": [
    "<!DOCTYPE html>\n",
    "<html>\n",
    "<head>\n",
    "  <title>Student Dashboard</title>\n",
    "  <link rel=\"stylesheet\" type=\"text/css\" href=\"styles.css\">\n",
    "</head>\n",
    "<body>\n",
    "  <header>\n",
    "    <!-- Header content goes here -->\n",
    "  </header>\n",
    "\n",
    "  <main>\n",
    "    <h1>Student Dashboard</h1>\n",
    "\n",
    "    <div class=\"table-container\">\n",
    "      <table class=\"student-table\">\n",
    "        <thead>\n",
    "          <tr>\n",
    "            <th>ID</th>\n",
    "            <th>Name</th>\n",
    "            <th>Age</th>\n",
    "            <th>Grade</th>\n",
    "          </tr>\n",
    "        </thead>\n",
    "        <tbody>\n",
    "          <tr>\n",
    "            <td>001</td>\n",
    "            <td>John Smith</td>\n",
    "            <td>18</td>\n",
    "            <td>12</td>\n",
    "          </tr>\n",
    "          <!-- Add more rows as needed -->\n",
    "        </tbody>\n",
    "      </table>\n",
    "    </div>\n",
    "\n",
    "    <!-- Additional content as per your design -->\n",
    "  </main>\n",
    "\n",
    "  <footer>\n",
    "    <!-- Footer content goes here -->\n",
    "  </footer>\n",
    "</body>\n",
    "</html>"
   ]
  },
  {
   "cell_type": "code",
   "execution_count": null,
   "id": "6441bac0",
   "metadata": {},
   "outputs": [],
   "source": [
    "CSS code (styles.css):"
   ]
  },
  {
   "cell_type": "code",
   "execution_count": null,
   "id": "1dda6714",
   "metadata": {},
   "outputs": [],
   "source": [
    "/* Reset some default styles for consistency */\n",
    "html, body {\n",
    "  margin: 0;\n",
    "  padding: 0;\n",
    "}\n",
    "\n",
    "/* Apply styles for the table */\n",
    ".table-container {\n",
    "  overflow-x: auto;\n",
    "  max-width: 100%;\n",
    "}\n",
    "\n",
    ".student-table {\n",
    "  width: 100%;\n",
    "  border-collapse: collapse;\n",
    "}\n",
    "\n",
    ".student-table th,\n",
    ".student-table td {\n",
    "  padding: 10px;\n",
    "  text-align: left;\n",
    "  border-bottom: 1px solid #ccc;\n",
    "}\n",
    "\n",
    "/* Apply responsive styles using media queries */\n",
    "@media screen and (max-width: 768px) {\n",
    "  .table-container {\n",
    "    overflow-x: scroll;\n",
    "  }\n",
    "\n",
    "  .student-table th,\n",
    "  .student-table td {\n",
    "    min-width: 150px;\n",
    "  }\n",
    "}"
   ]
  },
  {
   "cell_type": "markdown",
   "id": "80b737e4",
   "metadata": {},
   "source": [
    "the CSS code provides responsive styles for the student details table. The .table-container class ensures that the table overflows horizontally and enables internal scrolling when needed. The max-width: 100% ensures the table adjusts its width to fit its container.\n",
    "\n",
    "The media query targets screens with a maximum width of 768px and changes the .table-container overflow to scroll to enable horizontal scrolling on small screens. Additionally, the min-width: 150px for table headers and cells ensures that they have a minimum width to accommodate the content.\n",
    "\n",
    "You can further customize the table's appearance, including fonts, colors, and additional table styles, as needed."
   ]
  },
  {
   "cell_type": "code",
   "execution_count": null,
   "id": "d2ec87ad",
   "metadata": {},
   "outputs": [],
   "source": []
  },
  {
   "cell_type": "code",
   "execution_count": null,
   "id": "cf26d49c",
   "metadata": {},
   "outputs": [],
   "source": []
  }
 ],
 "metadata": {
  "kernelspec": {
   "display_name": "Python 3 (ipykernel)",
   "language": "python",
   "name": "python3"
  },
  "language_info": {
   "codemirror_mode": {
    "name": "ipython",
    "version": 3
   },
   "file_extension": ".py",
   "mimetype": "text/x-python",
   "name": "python",
   "nbconvert_exporter": "python",
   "pygments_lexer": "ipython3",
   "version": "3.9.13"
  }
 },
 "nbformat": 4,
 "nbformat_minor": 5
}
