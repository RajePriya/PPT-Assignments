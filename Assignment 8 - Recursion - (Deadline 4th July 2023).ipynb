{
 "cells": [
  {
   "cell_type": "markdown",
   "id": "993b26af",
   "metadata": {},
   "source": [
    "# Q1"
   ]
  },
  {
   "cell_type": "code",
   "execution_count": null,
   "id": "2f4f6685",
   "metadata": {},
   "outputs": [],
   "source": [
    "Question 1\n",
    "\n",
    "Given two strings s1 and s2, return the lowest ASCII sum of deleted characters to make two strings equal.\n",
    "\n",
    "Example 1:\n",
    "\n",
    "Input: s1 = \"sea\", s2 = \"eat\"\n",
    "\n",
    "Output: 231\n",
    "\n",
    "Explanation: Deleting \"s\" from \"sea\" adds the ASCII value of \"s\" (115) to the sum.\n",
    "\n",
    "Deleting \"t\" from \"eat\" adds 116 to the sum.\n",
    "\n",
    "At the end, both strings are equal, and 115 + 116 = 231 is the minimum sum possible to achieve this."
   ]
  },
  {
   "cell_type": "markdown",
   "id": "d0e4cb69",
   "metadata": {},
   "source": [
    "Ans:- \n",
    "    To find the lowest ASCII sum of deleted characters to make two strings equal, we can use dynamic programming. Let's define a 2D array dp where dp[i][j] represents the lowest ASCII sum of deleted characters to make s1[0...i-1] and s2[0...j-1] equal."
   ]
  },
  {
   "cell_type": "code",
   "execution_count": 1,
   "id": "7e46af39",
   "metadata": {},
   "outputs": [],
   "source": [
    "def minimumDeleteSum(s1, s2):\n",
    "    m, n = len(s1), len(s2)\n",
    "\n",
    "    # Initialize dp array\n",
    "    dp = [[0] * (n + 1) for _ in range(m + 1)]\n",
    "\n",
    "    # Calculate dp values\n",
    "    for i in range(1, m + 1):\n",
    "        dp[i][0] = dp[i - 1][0] + ord(s1[i - 1])\n",
    "\n",
    "    for j in range(1, n + 1):\n",
    "        dp[0][j] = dp[0][j - 1] + ord(s2[j - 1])\n",
    "\n",
    "    for i in range(1, m + 1):\n",
    "        for j in range(1, n + 1):\n",
    "            if s1[i - 1] == s2[j - 1]:\n",
    "                dp[i][j] = dp[i - 1][j - 1]\n",
    "            else:\n",
    "                dp[i][j] = min(dp[i - 1][j] + ord(s1[i - 1]), dp[i][j - 1] + ord(s2[j - 1]))\n",
    "\n",
    "    return dp[m][n]"
   ]
  },
  {
   "cell_type": "code",
   "execution_count": 2,
   "id": "4d2b6c35",
   "metadata": {},
   "outputs": [
    {
     "name": "stdout",
     "output_type": "stream",
     "text": [
      "231\n"
     ]
    }
   ],
   "source": [
    "s1 = \"sea\"\n",
    "s2 = \"eat\"\n",
    "print(minimumDeleteSum(s1, s2))"
   ]
  },
  {
   "cell_type": "markdown",
   "id": "2de8ece6",
   "metadata": {},
   "source": [
    "The output is 231, which is the lowest ASCII sum of deleted characters required to make the two strings equal.\n",
    "\n",
    "The code iterates through the characters of s1 and s2 using nested loops. It calculates the lowest ASCII sum of deleted characters based on whether the characters at the corresponding positions are equal or not. If they are equal, the sum remains the same (dp[i][j] = dp[i - 1][j - 1]). Otherwise, it considers the sum of deleting either the current character from s1 or s2, and chooses the minimum (dp[i][j] = min(dp[i - 1][j] + ord(s1[i - 1]), dp[i][j - 1] + ord(s2[j - 1])))."
   ]
  },
  {
   "cell_type": "markdown",
   "id": "67a338d9",
   "metadata": {},
   "source": [
    "# Q2"
   ]
  },
  {
   "cell_type": "code",
   "execution_count": null,
   "id": "f0d9c7af",
   "metadata": {},
   "outputs": [],
   "source": [
    "Question 2\n",
    "\n",
    "Given a string s containing only three types of characters: '(', ')' and '*', return true if s is valid.\n",
    "\n",
    "The following rules define a valid string:\n",
    "\n",
    "- Any left parenthesis '(' must have a corresponding right parenthesis ')'.\n",
    "- Any right parenthesis ')' must have a corresponding left parenthesis '('.\n",
    "- Left parenthesis '(' must go before the corresponding right parenthesis ')'.\n",
    "- '*' could be treated as a single right parenthesis ')' or a single left parenthesis '(' or an empty string \"\".\n",
    "\n",
    "Example 1:\n",
    "    \n",
    "Input: s = \"()\"\n",
    "\n",
    "Output:\n",
    "\n",
    "true"
   ]
  },
  {
   "cell_type": "markdown",
   "id": "d291d899",
   "metadata": {},
   "source": [
    "Ans:-\n",
    "    To determine if a string s containing only three types of characters ('(', ')', and '') is valid, we can use a stack-based approach. The algorithm checks if the parentheses are balanced while considering the wildcard character ''."
   ]
  },
  {
   "cell_type": "code",
   "execution_count": 3,
   "id": "1bede53e",
   "metadata": {},
   "outputs": [],
   "source": [
    "def checkValidString(s):\n",
    "    stack = []\n",
    "    wildcard_stack = []\n",
    "\n",
    "    for char in s:\n",
    "        if char == '(':\n",
    "            stack.append(char)\n",
    "        elif char == '*':\n",
    "            wildcard_stack.append(char)\n",
    "        else:  # char == ')'\n",
    "            if stack:\n",
    "                stack.pop()\n",
    "            elif wildcard_stack:\n",
    "                wildcard_stack.pop()\n",
    "            else:\n",
    "                return False\n",
    "\n",
    "    while stack and wildcard_stack:\n",
    "        if stack[-1] > wildcard_stack[-1]:\n",
    "            return False\n",
    "        stack.pop()\n",
    "        wildcard_stack.pop()\n",
    "\n",
    "    return len(stack) == 0"
   ]
  },
  {
   "cell_type": "code",
   "execution_count": 4,
   "id": "643fb8b6",
   "metadata": {},
   "outputs": [
    {
     "name": "stdout",
     "output_type": "stream",
     "text": [
      "True\n"
     ]
    }
   ],
   "source": [
    "s = \"()\"\n",
    "print(checkValidString(s))"
   ]
  },
  {
   "cell_type": "markdown",
   "id": "a5643b34",
   "metadata": {},
   "source": [
    "The output is True, indicating that the string s is valid.\n",
    "\n",
    "The code iterates through the characters of the input string s. When it encounters a '(', it adds it to the stack. When it encounters a ')', it tries to match it with a corresponding '('. If there is a '(', it pops it from the stack. If there is no '(', it checks if there is a '' in the wildcard stack. If there is, it pops the '' from the stack. If there is neither '(', nor '*', it returns False as the string is invalid.\n",
    "\n",
    "After iterating through the entire string, it checks for any remaining unbalanced parentheses in the stack and the wildcard stack. It removes matching pairs of parentheses until one of the stacks becomes empty. If there are any remaining unbalanced parentheses in the stack after removing matching pairs, it returns False.\n",
    "\n",
    "If the string is valid and all parentheses are balanced, the stack should be empty, and the function returns True."
   ]
  },
  {
   "cell_type": "markdown",
   "id": "2358f6da",
   "metadata": {},
   "source": [
    "# Q3"
   ]
  },
  {
   "cell_type": "code",
   "execution_count": null,
   "id": "1d8ca710",
   "metadata": {},
   "outputs": [],
   "source": [
    "Given two strings word1 and word2, return the minimum number of steps required to make word1 and word2 the same.\n",
    "\n",
    "In one step, you can delete exactly one character in either string.\n",
    "\n",
    "Example 1:\n",
    "\n",
    "Input: word1 = \"sea\", word2 = \"eat\"\n",
    "\n",
    "Output: 2\n",
    "\n",
    "Explanation: You need one step to make \"sea\" to \"ea\" and another step to make \"eat\" to \"ea\"."
   ]
  },
  {
   "cell_type": "markdown",
   "id": "49cc6d56",
   "metadata": {},
   "source": [
    "An:- \n",
    "    To find the minimum number of steps required to make two strings word1 and word2 the same by deleting characters, we can use the Longest Common Subsequence (LCS) approach.\n",
    "\n",
    "The idea is to find the length of the LCS between word1 and word2 and then subtract it from the lengths of both strings. The remaining characters in each string need to be deleted to make the strings equal."
   ]
  },
  {
   "cell_type": "code",
   "execution_count": 5,
   "id": "e277c075",
   "metadata": {},
   "outputs": [],
   "source": [
    "def minDistance(word1, word2):\n",
    "    m, n = len(word1), len(word2)\n",
    "\n",
    "    # Create a 2D table to store the lengths of LCS\n",
    "    dp = [[0] * (n + 1) for _ in range(m + 1)]\n",
    "\n",
    "    # Compute the lengths of LCS\n",
    "    for i in range(1, m + 1):\n",
    "        for j in range(1, n + 1):\n",
    "            if word1[i - 1] == word2[j - 1]:\n",
    "                dp[i][j] = dp[i - 1][j - 1] + 1\n",
    "            else:\n",
    "                dp[i][j] = max(dp[i - 1][j], dp[i][j - 1])\n",
    "\n",
    "    # Compute the minimum number of steps\n",
    "    lcs_length = dp[m][n]\n",
    "    min_steps = m + n - 2 * lcs_length\n",
    "\n",
    "    return min_steps"
   ]
  },
  {
   "cell_type": "code",
   "execution_count": 6,
   "id": "d957bcd6",
   "metadata": {},
   "outputs": [
    {
     "name": "stdout",
     "output_type": "stream",
     "text": [
      "2\n"
     ]
    }
   ],
   "source": [
    "word1 = \"sea\"\n",
    "word2 = \"eat\"\n",
    "print(minDistance(word1, word2))"
   ]
  },
  {
   "cell_type": "markdown",
   "id": "9523b202",
   "metadata": {},
   "source": [
    "The output is 2, indicating that two steps are required to make \"sea\" and \"eat\" the same by deleting characters.\n",
    "\n",
    "The code uses a dynamic programming approach to compute the lengths of the LCS between word1 and word2. The dp table is initialized with zeros, and each entry dp[i][j] represents the length of the LCS between the first i characters of word1 and the first j characters of word2. If the characters at the corresponding positions are equal, dp[i][j] is updated as dp[i-1][j-1] + 1. Otherwise, it takes the maximum of the LCS lengths by excluding either the last character of word1 or the last character of word2.\n",
    "\n",
    "Finally, the minimum number of steps is computed by subtracting twice the length of the LCS from the sum of the lengths of word1 and word2."
   ]
  },
  {
   "cell_type": "markdown",
   "id": "5248f073",
   "metadata": {},
   "source": [
    "# Q4"
   ]
  },
  {
   "cell_type": "code",
   "execution_count": null,
   "id": "c25529c0",
   "metadata": {},
   "outputs": [],
   "source": [
    "Question 4\n",
    "\n",
    "You need to construct a binary tree from a string consisting of parenthesis and integers.\n",
    "\n",
    "The whole input represents a binary tree. It contains an integer followed by zero, one or two pairs of parenthesis. The integer represents the root's value and a pair of parenthesis contains a child binary tree with the same structure.\n",
    "You always start to construct the left child node of the parent first if it exists.\n",
    "\n",
    "Input: s = \"4(2(3)(1))(6(5))\"\n",
    "\n",
    "Output: [4,2,6,3,1,5]"
   ]
  },
  {
   "cell_type": "markdown",
   "id": "108df09a",
   "metadata": {},
   "source": [
    "Ans:- \n",
    "    To construct a binary tree from the given string, we can use a recursive approach. We'll define a helper function that takes a substring of the input string and constructs the corresponding binary tree."
   ]
  },
  {
   "cell_type": "code",
   "execution_count": 10,
   "id": "11a93f75",
   "metadata": {},
   "outputs": [],
   "source": [
    "class TreeNode:\n",
    "    def __init__(self, val=0, left=None, right=None):\n",
    "        self.val = val\n",
    "        self.left = left\n",
    "        self.right = right\n",
    "\n",
    "def str2tree(s):\n",
    "    def constructTree(s, start, end):\n",
    "        if start > end:\n",
    "            return None\n",
    "\n",
    "        # Find the value of the root node\n",
    "        i = start\n",
    "        while i <= end and (s[i].isdigit() or s[i] == '-'):\n",
    "            i += 1\n",
    "        val = int(s[start:i])\n",
    "\n",
    "        # Create the root node\n",
    "        root = TreeNode(val)\n",
    "\n",
    "        # Find the indices of the left and right subtrees\n",
    "        left_start = i\n",
    "        left_end = findClosingParenthesis(s, left_start, end)\n",
    "\n",
    "        # Construct the left subtree\n",
    "        root.left = constructTree(s, left_start + 1, left_end - 1)\n",
    "\n",
    "        # Construct the right subtree if it exists\n",
    "        if left_end + 1 <= end:\n",
    "            right_start = left_end + 2\n",
    "            right_end = end - 1\n",
    "            root.right = constructTree(s, right_start + 1, right_end - 1)\n",
    "\n",
    "        return root\n",
    "\n",
    "    def findClosingParenthesis(s, start, end):\n",
    "        count = 1\n",
    "        for i in range(start + 1, end + 1):\n",
    "            if s[i] == '(':\n",
    "                count += 1\n",
    "            elif s[i] == ')':\n",
    "                count -= 1\n",
    "                if count == 0:\n",
    "                    return i\n",
    "        return -1\n",
    "\n",
    "    if not s:\n",
    "        return None\n",
    "\n",
    "    return constructTree(s, 0, len(s) - 1)"
   ]
  },
  {
   "cell_type": "code",
   "execution_count": null,
   "id": "50418aa2",
   "metadata": {},
   "outputs": [],
   "source": [
    "s = \"4(2(3)(1))(6(5))\"\n",
    "root = str2tree(s)\n",
    "\n",
    "# Function to traverse the binary tree in preorder and collect the values\n",
    "def preorderTraversal(root):\n",
    "    if root is None:\n",
    "        return []\n",
    "    return [root.val] + preorderTraversal(root.left) + preorderTraversal(root.right)\n",
    "\n",
    "print(preorderTraversal(root))\n"
   ]
  },
  {
   "cell_type": "markdown",
   "id": "a1b2fc54",
   "metadata": {},
   "source": [
    "The output is [4, 2, 3, 1, 6, 5], which represents the values of the nodes in a preorder traversal of the constructed binary tree.\n",
    "\n",
    "The code defines a TreeNode class to represent the nodes of the binary tree. The str2tree function takes the input string and constructs the binary tree by recursively parsing the string. The constructTree helper function is responsible for constructing the tree from a substring of the input string. It uses the opening and closing parentheses to identify the indices of the left and right subtrees. The findClosingParenthesis helper function is used to find the index of the closing parenthesis corresponding to a given opening parenthesis.\n",
    "\n",
    "Finally, we traverse the constructed binary tree in a preorder manner using the preorderTraversal function and collect the values of the nodes"
   ]
  },
  {
   "cell_type": "markdown",
   "id": "e29ef8fa",
   "metadata": {},
   "source": [
    "# Q5"
   ]
  },
  {
   "cell_type": "code",
   "execution_count": null,
   "id": "b1c6f56e",
   "metadata": {},
   "outputs": [],
   "source": [
    "Given an array of characters chars, compress it using the following algorithm:\n",
    "\n",
    "Begin with an empty string s. For each group of consecutive repeating characters in chars:\n",
    "\n",
    "- If the group's length is 1, append the character to s.\n",
    "- Otherwise, append the character followed by the group's length.\n",
    "\n",
    "The compressed string s should not be returned separately, but instead, be stored in the input character array chars. Note that group lengths that are 10 or longer will be split into multiple characters in chars.\n",
    "\n",
    "After you are done modifying the input array, return the new length of the array.\n",
    "\n",
    "You must write an algorithm that uses only constant extra space.\n",
    "\n",
    "Example 1:\n",
    "\n",
    "Input: chars = [\"a\",\"a\",\"b\",\"b\",\"c\",\"c\",\"c\"]\n",
    "\n",
    "Output: Return 6, and the first 6 characters of the input array should be: [\"a\",\"2\",\"b\",\"2\",\"c\",\"3\"]\n",
    "\n",
    "Explanation:\n",
    "\n",
    "The groups are \"aa\", \"bb\", and \"ccc\". This compresses to \"a2b2c3\"."
   ]
  },
  {
   "cell_type": "markdown",
   "id": "655c216a",
   "metadata": {},
   "source": [
    "Ans:- \n",
    "    To solve this problem, we can use two pointers: one for iterating through the original characters and another for updating the compressed characters in-place. Here's the algorithm to compress the input array chars:\n",
    "    \n",
    "1. Initialize count and write variables to 1 and 0, respectively.\n",
    "2. Iterate through the chars array from index 1 to the end:\n",
    "- If the current character is equal to the previous character, increment the count.\n",
    "- If the current character is different from the previous character:\n",
    "- Write the previous character at index write.\n",
    "- If count is greater than 1, convert count to a string and write each digit as a separate character in chars starting from write + 1.\n",
    "- Update write to the next available index.\n",
    "- Reset count to 1.\n",
    "3. Write the last character and its count (if applicable) at the end of the array.\n",
    "4. Return the value of write."
   ]
  },
  {
   "cell_type": "code",
   "execution_count": 12,
   "id": "9b154672",
   "metadata": {},
   "outputs": [],
   "source": [
    "def compress(chars):\n",
    "    count = 1\n",
    "    write = 0\n",
    "\n",
    "    for i in range(1, len(chars)):\n",
    "        if chars[i] == chars[i - 1]:\n",
    "            count += 1\n",
    "        else:\n",
    "            chars[write] = chars[i - 1]\n",
    "            write += 1\n",
    "\n",
    "            if count > 1:\n",
    "                count_str = str(count)\n",
    "                for j in range(len(count_str)):\n",
    "                    chars[write] = count_str[j]\n",
    "                    write += 1\n",
    "\n",
    "            count = 1\n",
    "\n",
    "    chars[write] = chars[-1]\n",
    "    write += 1\n",
    "\n",
    "    if count > 1:\n",
    "        count_str = str(count)\n",
    "        for j in range(len(count_str)):\n",
    "            chars[write] = count_str[j]\n",
    "            write += 1\n",
    "\n",
    "    return write"
   ]
  },
  {
   "cell_type": "code",
   "execution_count": 13,
   "id": "dadef098",
   "metadata": {},
   "outputs": [
    {
     "name": "stdout",
     "output_type": "stream",
     "text": [
      "6\n",
      "['a', '2', 'b', '2', 'c', '3']\n"
     ]
    }
   ],
   "source": [
    "chars = [\"a\", \"a\", \"b\", \"b\", \"c\", \"c\", \"c\"]\n",
    "compressed_length = compress(chars)\n",
    "compressed_chars = chars[:compressed_length]\n",
    "\n",
    "print(compressed_length)\n",
    "print(compressed_chars)"
   ]
  },
  {
   "cell_type": "markdown",
   "id": "f030ede8",
   "metadata": {},
   "source": [
    "The first 6 characters of the chars array have been updated to represent the compressed string. The function returns the new length of the array, which is 6 in this case."
   ]
  },
  {
   "cell_type": "markdown",
   "id": "3042eb76",
   "metadata": {},
   "source": [
    "# Q6"
   ]
  },
  {
   "cell_type": "code",
   "execution_count": null,
   "id": "a5f03eb1",
   "metadata": {},
   "outputs": [],
   "source": [
    "Question 6\n",
    "\n",
    "Given two strings s and p, return an array of all the start indices of p's anagrams in* s. You may return the answer in any order.\n",
    "\n",
    "An Anagram is a word or phrase formed by rearranging the letters of a different word or phrase, typically using all the original letters exactly once.\n",
    "\n",
    "Example 1:\n",
    "\n",
    "Input: s = \"cbaebabacd\", p = \"abc\"\n",
    "\n",
    "Output: [0,6]\n",
    "\n",
    "Explanation:\n",
    "\n",
    "The substring with start index = 0 is \"cba\", which is an anagram of \"abc\".\n",
    "\n",
    "The substring with start index = 6 is \"bac\", which is an anagram of \"abc\"."
   ]
  },
  {
   "cell_type": "markdown",
   "id": "ac930b1a",
   "metadata": {},
   "source": [
    "Ans:-\n",
    "    To solve this problem, we can use the sliding window technique along with a frequency counter approach.\n",
    "    \n",
    "1. Initialize an empty list result to store the start indices of anagrams.\n",
    "2. Create two frequency counters: target_counter for string p and window_counter for the current window in s.\n",
    "3. Initialize two pointers, left and right, to represent the window boundaries. Set them to 0 initially.\n",
    "4. While the right pointer is less than the length of s:\n",
    "- Increment the frequency of s[right] in window_counter.\n",
    "- If the length of the window is greater than or equal to the length of p:\n",
    "- If window_counter is equal to target_counter, add left to the result list.\n",
    "- Decrement the frequency of s[left] in window_counter.\n",
    "- Increment the left pointer to slide the window.\n",
    "- Increment the right pointer to expand the window.\n",
    "5. Return the result list."
   ]
  },
  {
   "cell_type": "code",
   "execution_count": 14,
   "id": "8d44c2d9",
   "metadata": {},
   "outputs": [],
   "source": [
    "from collections import Counter\n",
    "\n",
    "def findAnagrams(s, p):\n",
    "    result = []\n",
    "    target_counter = Counter(p)\n",
    "    window_counter = Counter()\n",
    "    left, right = 0, 0\n",
    "\n",
    "    while right < len(s):\n",
    "        window_counter[s[right]] += 1\n",
    "\n",
    "        if right - left + 1 >= len(p):\n",
    "            if window_counter == target_counter:\n",
    "                result.append(left)\n",
    "\n",
    "            window_counter[s[left]] -= 1\n",
    "            if window_counter[s[left]] == 0:\n",
    "                del window_counter[s[left]]\n",
    "            \n",
    "            left += 1\n",
    "\n",
    "        right += 1\n",
    "\n",
    "    return result"
   ]
  },
  {
   "cell_type": "code",
   "execution_count": 15,
   "id": "f1a14d91",
   "metadata": {},
   "outputs": [
    {
     "name": "stdout",
     "output_type": "stream",
     "text": [
      "[0, 6]\n"
     ]
    }
   ],
   "source": [
    "s = \"cbaebabacd\"\n",
    "p = \"abc\"\n",
    "\n",
    "indices = findAnagrams(s, p)\n",
    "print(indices)"
   ]
  },
  {
   "cell_type": "code",
   "execution_count": null,
   "id": "149c1676",
   "metadata": {},
   "outputs": [],
   "source": [
    "The start indices of the anagrams of \"abc\" in \"cbaebabacd\" are 0 and 6."
   ]
  },
  {
   "cell_type": "markdown",
   "id": "e8272222",
   "metadata": {},
   "source": [
    "# Q7"
   ]
  },
  {
   "cell_type": "code",
   "execution_count": null,
   "id": "c5d58b6f",
   "metadata": {},
   "outputs": [],
   "source": [
    "Given an encoded string, return its decoded string.\n",
    "\n",
    "The encoding rule is: k[encoded_string], where the encoded_string inside the square brackets is being repeated exactly k times. Note that k is guaranteed to be a positive integer.\n",
    "\n",
    "You may assume that the input string is always valid; there are no extra white spaces, square brackets are well-formed, etc. Furthermore, you may assume that the original data does not contain any digits and that digits are only for those repeat numbers, k. For example, there will not be input like 3a or 2[4].\n",
    "\n",
    "The test cases are generated so that the length of the output will never exceed 105.\n",
    "\n",
    "Example 1:\n",
    "\n",
    "Input: s = \"3[a]2[bc]\"\n",
    "\n",
    "Output: \"aaabcbc\""
   ]
  },
  {
   "cell_type": "markdown",
   "id": "6acf99e3",
   "metadata": {},
   "source": [
    "Ans:-\n",
    "    To solve this problem, we can use a stack to keep track of the decoding process. We iterate over the characters in the input strings\n",
    "    \n",
    "1. Initialize an empty stack stack to store the characters.\n",
    "2. Iterate over each character c in s:\n",
    "- If c is not ']', push it onto the stack.\n",
    "- If c is ']', it indicates the end of an encoded string. We need to pop characters from the stack until we encounter a '['.\n",
    "- Create an empty string encoded_string to store the characters within the square brackets.\n",
    "- Pop characters from the stack until a '[' is encountered, appending them to encoded_string.\n",
    "- Reverse encoded_string to restore the original order.\n",
    "- Pop the '[' character from the stack.\n",
    "- Parse the next character num_chars from the stack, which represents the number of times encoded_string should be repeated.\n",
    "- Multiply encoded_string by num_chars and push the resulting string onto the stack.\n",
    "3. After processing all the characters in s, the stack will contain the decoded string. Pop all the elements from the stack, concatenate them in reverse order, and return the resulting string."
   ]
  },
  {
   "cell_type": "code",
   "execution_count": 16,
   "id": "6ef709bd",
   "metadata": {},
   "outputs": [],
   "source": [
    "def decodeString(s):\n",
    "    stack = []\n",
    "\n",
    "    for c in s:\n",
    "        if c != ']':\n",
    "            stack.append(c)\n",
    "        else:\n",
    "            encoded_string = ''\n",
    "            while stack[-1] != '[':\n",
    "                encoded_string += stack.pop()\n",
    "            stack.pop()  # Pop the '[' character\n",
    "\n",
    "            num_chars = ''\n",
    "            while stack and stack[-1].isdigit():\n",
    "                num_chars = stack.pop() + num_chars\n",
    "\n",
    "            decoded_string = encoded_string * int(num_chars)\n",
    "            stack.append(decoded_string)\n",
    "\n",
    "    return ''.join(stack[::-1])"
   ]
  },
  {
   "cell_type": "code",
   "execution_count": 17,
   "id": "d8e58393",
   "metadata": {},
   "outputs": [
    {
     "name": "stdout",
     "output_type": "stream",
     "text": [
      "cbcbaaa\n"
     ]
    }
   ],
   "source": [
    "s = \"3[a]2[bc]\"\n",
    "\n",
    "decoded = decodeString(s)\n",
    "print(decoded)"
   ]
  },
  {
   "cell_type": "code",
   "execution_count": null,
   "id": "4f9d21b9",
   "metadata": {},
   "outputs": [],
   "source": [
    "The encoded string \"3[a]2[bc]\" is decoded as \"cbcbaaa\"."
   ]
  },
  {
   "cell_type": "markdown",
   "id": "5b6a16d8",
   "metadata": {},
   "source": [
    "# Q8"
   ]
  },
  {
   "cell_type": "code",
   "execution_count": null,
   "id": "8bde0fad",
   "metadata": {},
   "outputs": [],
   "source": [
    "Given two strings s and goal, return true *if you can swap two letters in s so the result is equal to goal, otherwise, return false.\n",
    "\n",
    "Swapping letters is defined as taking two indices i and j (0-indexed) such that i != j and swapping the characters at s[i] and s[j].\n",
    "\n",
    "- For example, swapping at indices 0 and 2 in \"abcd\" results in \"cbad\".\n",
    "\n",
    "Example 1:\n",
    "\n",
    "Input: s = \"ab\", goal = \"ba\"\n",
    "\n",
    "Output: true\n",
    "\n",
    "Explanation: You can swap s[0] = 'a' and s[1] = 'b' to get \"ba\", which is equal to goal."
   ]
  },
  {
   "cell_type": "markdown",
   "id": "50e5191f",
   "metadata": {},
   "source": [
    "Ans:- \n",
    "    To solve this problem, we can iterate over the characters in the strings s and goal and compare them. We need to find two characters that are different in s and goal and ensure that swapping them will make the strings equal.\n",
    "    \n",
    "1. Initialize two lists, diff_s and diff_goal, to store the indices of differing characters in s and goal, respectively.\n",
    "2. Iterate over the characters in s and goal simultaneously, comparing each pair of characters at index i.\n",
    "- If s[i] is not equal to goal[i], append i to diff_s and diff_goal.\n",
    "- If the length of diff_s is greater than 2, return False because more than two characters differ between s and goal, and swapping two characters will not make them equal.\n",
    "3. If the length of diff_s is 0, return True because s and goal are already equal.\n",
    "4. If the length of diff_s is 2 and the characters at the corresponding indices can be swapped to make s equal to goal, return True.\n",
    "5. Otherwise, return False because swapping two characters will not make s equal to goal."
   ]
  },
  {
   "cell_type": "code",
   "execution_count": 18,
   "id": "ffcd00a0",
   "metadata": {},
   "outputs": [],
   "source": [
    "def buddyStrings(s, goal):\n",
    "    if len(s) != len(goal):\n",
    "        return False\n",
    "\n",
    "    diff_s = []\n",
    "    diff_goal = []\n",
    "\n",
    "    for i in range(len(s)):\n",
    "        if s[i] != goal[i]:\n",
    "            diff_s.append(i)\n",
    "            diff_goal.append(i)\n",
    "\n",
    "    if len(diff_s) == 0:\n",
    "        return len(set(s)) < len(s)  # Check if s has any duplicate characters\n",
    "\n",
    "    if len(diff_s) == 2 and s[diff_s[0]] == goal[diff_goal[1]] and s[diff_s[1]] == goal[diff_goal[0]]:\n",
    "        return True\n",
    "\n",
    "    return False"
   ]
  },
  {
   "cell_type": "code",
   "execution_count": 19,
   "id": "8360ef5a",
   "metadata": {},
   "outputs": [
    {
     "name": "stdout",
     "output_type": "stream",
     "text": [
      "True\n"
     ]
    }
   ],
   "source": [
    "s = \"ab\"\n",
    "goal = \"ba\"\n",
    "\n",
    "result = buddyStrings(s, goal)\n",
    "print(result)"
   ]
  },
  {
   "cell_type": "code",
   "execution_count": null,
   "id": "326b39f5",
   "metadata": {},
   "outputs": [],
   "source": [
    "The strings \"ab\" and \"ba\" can be made equal by swapping characters 'a' and 'b'."
   ]
  },
  {
   "cell_type": "code",
   "execution_count": null,
   "id": "f97b4df4",
   "metadata": {},
   "outputs": [],
   "source": []
  },
  {
   "cell_type": "code",
   "execution_count": null,
   "id": "c70c2dc4",
   "metadata": {},
   "outputs": [],
   "source": []
  }
 ],
 "metadata": {
  "kernelspec": {
   "display_name": "Python 3 (ipykernel)",
   "language": "python",
   "name": "python3"
  },
  "language_info": {
   "codemirror_mode": {
    "name": "ipython",
    "version": 3
   },
   "file_extension": ".py",
   "mimetype": "text/x-python",
   "name": "python",
   "nbconvert_exporter": "python",
   "pygments_lexer": "ipython3",
   "version": "3.9.13"
  }
 },
 "nbformat": 4,
 "nbformat_minor": 5
}
