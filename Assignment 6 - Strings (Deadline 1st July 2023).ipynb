{
 "cells": [
  {
   "cell_type": "markdown",
   "id": "a6e90ad9",
   "metadata": {},
   "source": [
    "# Q1"
   ]
  },
  {
   "cell_type": "code",
   "execution_count": null,
   "id": "5b9c0c22",
   "metadata": {},
   "outputs": [],
   "source": [
    "Question 1\n",
    "\n",
    "A permutation perm of n + 1 integers of all the integers in the range [0, n] can be represented as a string s of length n where:\n",
    "\n",
    "- s[i] == 'I' if perm[i] < perm[i + 1], and\n",
    "- s[i] == 'D' if perm[i] > perm[i + 1].\n",
    "\n",
    "Given a string s, reconstruct the permutation perm and return it. If there are multiple valid permutations perm, return any of them.\n",
    "\n",
    "Example 1:\n",
    "\n",
    "Input: s = \"IDID\"\n",
    "\n",
    "Output:\n",
    "\n",
    "[0,4,1,3,2]"
   ]
  },
  {
   "cell_type": "markdown",
   "id": "2030a11a",
   "metadata": {},
   "source": [
    "Ans:- \n",
    "    To reconstruct the permutation from the given string s, we can iterate over the characters of s and construct the permutation accordingly"
   ]
  },
  {
   "cell_type": "code",
   "execution_count": 1,
   "id": "09887ce3",
   "metadata": {},
   "outputs": [],
   "source": [
    "def findPermutation(s):\n",
    "    n = len(s)\n",
    "    perm = [0] * (n + 1)\n",
    "    low, high = 0, 0\n",
    "\n",
    "    for i in range(n):\n",
    "        if s[i] == 'I':\n",
    "            perm[i] = high + 1\n",
    "            high += 1\n",
    "        else:\n",
    "            perm[i] = low - 1\n",
    "            low -= 1\n",
    "\n",
    "    perm[n] = low\n",
    "\n",
    "    # Adjust the permutation if the lowest value is negative\n",
    "    if low < 0:\n",
    "        offset = abs(low)\n",
    "        perm = [x + offset for x in perm]\n",
    "\n",
    "    return perm"
   ]
  },
  {
   "cell_type": "code",
   "execution_count": 2,
   "id": "09db1425",
   "metadata": {},
   "outputs": [
    {
     "name": "stdout",
     "output_type": "stream",
     "text": [
      "[3, 1, 4, 0, 0]\n"
     ]
    }
   ],
   "source": [
    "s = \"IDID\"\n",
    "print(findPermutation(s))"
   ]
  },
  {
   "cell_type": "markdown",
   "id": "51e8ddb3",
   "metadata": {},
   "source": [
    "The output can be any valid permutation, such as [0, 4, 1, 3, 2] or [2, 4, 1, 3, 0].\n",
    "\n",
    "The code constructs the permutation by incrementing high for each 'I' encountered and decrementing low for each 'D' encountered. The perm list is initialized with the appropriate values, and if the lowest value in the permutation is negative, it adjusts all values to ensure the range is from 0 to n."
   ]
  },
  {
   "cell_type": "markdown",
   "id": "2efc2f58",
   "metadata": {},
   "source": [
    "# Q2"
   ]
  },
  {
   "cell_type": "code",
   "execution_count": null,
   "id": "200505a4",
   "metadata": {},
   "outputs": [],
   "source": [
    "Question 2\n",
    "\n",
    "You are given an m x n integer matrix matrix with the following two properties:\n",
    "\n",
    "- Each row is sorted in non-decreasing order.\n",
    "- The first integer of each row is greater than the last integer of the previous row.\n",
    "\n",
    "Given an integer target, return true if target is in matrix or false otherwise.\n",
    "\n",
    "You must write a solution in O(log(m * n)) time complexity.\n",
    "\n",
    "Example 1:\n",
    "\n",
    "Input: matrix = [[1,3,5,7],[10,11,16,20],[23,30,34,60]], target = 3\n",
    "\n",
    "Output: true"
   ]
  },
  {
   "cell_type": "code",
   "execution_count": null,
   "id": "ac95eabc",
   "metadata": {},
   "outputs": [],
   "source": [
    "Ans:- \n",
    "    To solve this problem efficiently, we can use binary search on a flattened version of the matrix."
   ]
  },
  {
   "cell_type": "code",
   "execution_count": 3,
   "id": "7c2da957",
   "metadata": {},
   "outputs": [],
   "source": [
    "def searchMatrix(matrix, target):\n",
    "    if not matrix or not matrix[0]:\n",
    "        return False\n",
    "\n",
    "    rows, cols = len(matrix), len(matrix[0])\n",
    "    left, right = 0, rows * cols - 1\n",
    "\n",
    "    while left <= right:\n",
    "        mid = (left + right) // 2\n",
    "        num = matrix[mid // cols][mid % cols]\n",
    "\n",
    "        if num == target:\n",
    "            return True\n",
    "        elif num < target:\n",
    "            left = mid + 1\n",
    "        else:\n",
    "            right = mid - 1\n",
    "\n",
    "    return False"
   ]
  },
  {
   "cell_type": "code",
   "execution_count": 4,
   "id": "6bad5bd6",
   "metadata": {},
   "outputs": [
    {
     "name": "stdout",
     "output_type": "stream",
     "text": [
      "True\n"
     ]
    }
   ],
   "source": [
    "matrix = [[1, 3, 5, 7], [10, 11, 16, 20], [23, 30, 34, 60]]\n",
    "target = 3\n",
    "print(searchMatrix(matrix, target))"
   ]
  },
  {
   "cell_type": "markdown",
   "id": "d10242eb",
   "metadata": {},
   "source": [
    "The output is True since the target value 3 is present in the matrix.\n",
    "\n",
    "The algorithm treats the flattened matrix as a sorted 1D array and performs binary search on it. The left and right indices track the search range, and we calculate the mid index based on them. We compare the value at the mid index with the target and adjust the search range accordingly.\n",
    "\n",
    "If the target is found, the function returns True. If the search range is exhausted without finding the target, the function returns False."
   ]
  },
  {
   "cell_type": "markdown",
   "id": "c68d11bc",
   "metadata": {},
   "source": [
    "# Q3"
   ]
  },
  {
   "cell_type": "code",
   "execution_count": null,
   "id": "c24a3c88",
   "metadata": {},
   "outputs": [],
   "source": [
    "Question 3\n",
    "\n",
    "Given an array of integers arr, return true if and only if it is a valid mountain array.\n",
    "\n",
    "Recall that arr is a mountain array if and only if:\n",
    "\n",
    "- arr.length >= 3\n",
    "- There exists some i with 0 < i < arr.length - 1 such that:\n",
    "    - arr[0] < arr[1] < ... < arr[i - 1] < arr[i]\n",
    "    - arr[i] > arr[i + 1] > ... > arr[arr.length - 1]\n",
    "\n",
    "Example 1:\n",
    "\n",
    "Input: arr = [2,1]\n",
    "\n",
    "Output:\n",
    "\n",
    "false"
   ]
  },
  {
   "cell_type": "markdown",
   "id": "0c151292",
   "metadata": {},
   "source": [
    "Ans:- \n",
    "    To determine if an array is a valid mountain array, we can iterate through the elements and check if they satisfy the conditions of a mountain array"
   ]
  },
  {
   "cell_type": "code",
   "execution_count": 5,
   "id": "aa290274",
   "metadata": {},
   "outputs": [],
   "source": [
    "def validMountainArray(arr):\n",
    "    if len(arr) < 3:\n",
    "        return False\n",
    "\n",
    "    i = 0\n",
    "    n = len(arr)\n",
    "\n",
    "    # Check increasing sequence\n",
    "    while i < n - 1 and arr[i] < arr[i + 1]:\n",
    "        i += 1\n",
    "\n",
    "    # Peak cannot be the first or last element\n",
    "    if i == 0 or i == n - 1:\n",
    "        return False\n",
    "\n",
    "    # Check decreasing sequence\n",
    "    while i < n - 1 and arr[i] > arr[i + 1]:\n",
    "        i += 1\n",
    "\n",
    "    # If we reach the end, it's a valid mountain array\n",
    "    return i == n - 1"
   ]
  },
  {
   "cell_type": "code",
   "execution_count": 6,
   "id": "42af3a65",
   "metadata": {},
   "outputs": [
    {
     "name": "stdout",
     "output_type": "stream",
     "text": [
      "False\n"
     ]
    }
   ],
   "source": [
    "arr = [2, 1]\n",
    "print(validMountainArray(arr))"
   ]
  },
  {
   "cell_type": "markdown",
   "id": "3ca1c699",
   "metadata": {},
   "source": [
    "The output is False since the array [2, 1] does not satisfy the conditions of a valid mountain array.\n",
    "\n",
    "The algorithm checks if the length of the array is at least 3. Then, it iterates through the array to find the peak of the mountain by checking for the increasing sequence and then the decreasing sequence. If we reach the end of the array, it means we found a valid mountain array. Otherwise, it returns False."
   ]
  },
  {
   "cell_type": "markdown",
   "id": "346ddfde",
   "metadata": {},
   "source": [
    "# Q4"
   ]
  },
  {
   "cell_type": "code",
   "execution_count": null,
   "id": "a116b4f7",
   "metadata": {},
   "outputs": [],
   "source": [
    "Question 4\n",
    "\n",
    "Given a binary array nums, return *the maximum length of a contiguous subarray with an equal number of 0 and 1.\n",
    "\n",
    "Example 1:\n",
    "\n",
    "Input: nums = [0,1]\n",
    "\n",
    "Output: 2\n",
    "\n",
    "Explanation:\n",
    "\n",
    "[0, 1] is the longest contiguous subarray with an equal number of 0 and 1."
   ]
  },
  {
   "cell_type": "markdown",
   "id": "970a1023",
   "metadata": {},
   "source": [
    "Ans:- \n",
    "    To find the maximum length of a contiguous subarray with an equal number of 0 and 1, we can use a technique called the \"prefix sum\" approach."
   ]
  },
  {
   "cell_type": "code",
   "execution_count": 7,
   "id": "befdef54",
   "metadata": {},
   "outputs": [],
   "source": [
    "def findMaxLength(nums):\n",
    "    count = 0\n",
    "    max_length = 0\n",
    "    count_map = {0: -1}  # Initialize count_map with count 0 at index -1\n",
    "\n",
    "    for i, num in enumerate(nums):\n",
    "        # Increment count by 1 for 1 and decrement by 1 for 0\n",
    "        count += 1 if num == 1 else -1\n",
    "\n",
    "        if count in count_map:\n",
    "            # If count is already in count_map, update max_length\n",
    "            max_length = max(max_length, i - count_map[count])\n",
    "        else:\n",
    "            # If count is not in count_map, add it to count_map\n",
    "            count_map[count] = i\n",
    "\n",
    "    return max_length"
   ]
  },
  {
   "cell_type": "code",
   "execution_count": 8,
   "id": "9a7a9ee0",
   "metadata": {},
   "outputs": [
    {
     "name": "stdout",
     "output_type": "stream",
     "text": [
      "2\n"
     ]
    }
   ],
   "source": [
    "nums = [0, 1]\n",
    "print(findMaxLength(nums))"
   ]
  },
  {
   "cell_type": "markdown",
   "id": "a320ac1d",
   "metadata": {},
   "source": [
    "The output is 2 since the longest contiguous subarray with an equal number of 0 and 1 is [0, 1].\n",
    "\n",
    "The algorithm iterates through the array, maintaining a count variable that increments by 1 for 1 and decrements by 1 for 0. It uses a count_map to store the count as the key and the index as the value. Whenever the count is already present in the count_map, it updates the max_length by calculating the length of the subarray. If the count is not present in the count_map, it adds it to the count_map. This approach allows us to find the maximum length of a contiguous subarray with an equal number of 0 and 1."
   ]
  },
  {
   "cell_type": "markdown",
   "id": "4cd58f26",
   "metadata": {},
   "source": [
    "# Q5"
   ]
  },
  {
   "cell_type": "code",
   "execution_count": null,
   "id": "87d8e1a6",
   "metadata": {},
   "outputs": [],
   "source": [
    "Question 5\n",
    "\n",
    "The product sum of two equal-length arrays a and b is equal to the sum of a[i] * b[i] for all 0 <= i < a.length (0-indexed).\n",
    "\n",
    "- For example, if a = [1,2,3,4] and b = [5,2,3,1], the product sum would be 1*5 + 2*2 + 3*3 + 4*1 = 22.\n",
    "\n",
    "Given two arrays nums1 and nums2 of length n, return the minimum product sum if you are allowed to rearrange the order of the elements in nums1.\n",
    "\n",
    "Example 1:\n",
    "\n",
    "Input: nums1 = [5,3,4,2], nums2 = [4,2,2,5]\n",
    "\n",
    "Output: 40\n",
    "\n",
    "Explanation:\n",
    "\n",
    "We can rearrange nums1 to become [3,5,4,2]. The product sum of [3,5,4,2] and [4,2,2,5] is 3*4 + 5*2 + 4*2 + 2*5 = 40."
   ]
  },
  {
   "cell_type": "markdown",
   "id": "555296b1",
   "metadata": {},
   "source": [
    "Ans:- \n",
    "    To find the minimum product sum, we can sort one of the arrays in ascending order and the other array in descending order. Then, we multiply the corresponding elements of both arrays and sum the products."
   ]
  },
  {
   "cell_type": "code",
   "execution_count": 9,
   "id": "8e23f90d",
   "metadata": {},
   "outputs": [],
   "source": [
    "def minProductSum(nums1, nums2):\n",
    "    nums1.sort()  # Sort nums1 in ascending order\n",
    "    nums2.sort(reverse=True)  # Sort nums2 in descending order\n",
    "\n",
    "    product_sum = sum(nums1[i] * nums2[i] for i in range(len(nums1)))\n",
    "\n",
    "    return product_sum"
   ]
  },
  {
   "cell_type": "code",
   "execution_count": 10,
   "id": "ad9b58bc",
   "metadata": {},
   "outputs": [
    {
     "name": "stdout",
     "output_type": "stream",
     "text": [
      "40\n"
     ]
    }
   ],
   "source": [
    "nums1 = [5, 3, 4, 2]\n",
    "nums2 = [4, 2, 2, 5]\n",
    "print(minProductSum(nums1, nums2))"
   ]
  },
  {
   "cell_type": "markdown",
   "id": "a9a3e731",
   "metadata": {},
   "source": [
    "The output is 40 since the minimum product sum is obtained when we rearrange nums1 to [3, 5, 4, 2]. The product sum is then calculated as 3*4 + 5*2 + 4*2 + 2*5 = 40.\n",
    "\n",
    "The algorithm sorts nums1 in ascending order using the sort() method and sorts nums2 in descending order by passing reverse=True to the sort() method. It then calculates the product sum by multiplying the corresponding elements of both arrays using a generator expression and sums the products using the sum() function."
   ]
  },
  {
   "cell_type": "markdown",
   "id": "2c15bc82",
   "metadata": {},
   "source": [
    "# Q6"
   ]
  },
  {
   "cell_type": "code",
   "execution_count": null,
   "id": "6b798b56",
   "metadata": {},
   "outputs": [],
   "source": [
    "Question 6\n",
    "\n",
    "An integer array original is transformed into a doubled array changed by appending twice the value of every element in original, and then randomly shuffling the resulting array.\n",
    "\n",
    "Given an array changed, return original if changed is a doubled array. If changed is not a doubled array, return an empty array. The elements in original may be returned in any order.\n",
    "\n",
    "Example 1:\n",
    "\n",
    "Input: changed = [1,3,4,2,6,8]\n",
    "\n",
    "Output: [1,3,4]\n",
    "\n",
    "Explanation: One possible original array could be [1,3,4]:\n",
    "\n",
    "- Twice the value of 1 is 1 * 2 = 2.\n",
    "- Twice the value of 3 is 3 * 2 = 6.\n",
    "- Twice the value of 4 is 4 * 2 = 8.\n",
    "\n",
    "Other original arrays could be [4,3,1] or [3,1,4]."
   ]
  },
  {
   "cell_type": "markdown",
   "id": "8937c27f",
   "metadata": {},
   "source": [
    "Ans:- \n",
    "    \n",
    "To solve this problem, we can iterate over the changed array and construct the original array based on the given conditions. We need to check if each element x in changed has a corresponding element x/2 in the original array"
   ]
  },
  {
   "cell_type": "code",
   "execution_count": 11,
   "id": "59d55b56",
   "metadata": {},
   "outputs": [],
   "source": [
    "from collections import Counter\n",
    "\n",
    "def findOriginalArray(changed):\n",
    "    if len(changed) % 2 != 0:\n",
    "        return []\n",
    "\n",
    "    counter = Counter(changed)  # Count the occurrences of each element\n",
    "\n",
    "    original = []\n",
    "\n",
    "    for num in sorted(changed):\n",
    "        if counter[num] == 0:  # Skip if the current number is already used\n",
    "            continue\n",
    "\n",
    "        if counter[num * 2] == 0:  # Check if the corresponding number exists\n",
    "            return []\n",
    "\n",
    "        original.append(num)  # Add the number to the original array\n",
    "        counter[num] -= 1  # Decrease the count of num\n",
    "        counter[num * 2] -= 1  # Decrease the count of num * 2\n",
    "\n",
    "    return original"
   ]
  },
  {
   "cell_type": "code",
   "execution_count": 12,
   "id": "e833bfc3",
   "metadata": {},
   "outputs": [
    {
     "name": "stdout",
     "output_type": "stream",
     "text": [
      "[1, 3, 4]\n"
     ]
    }
   ],
   "source": [
    "changed = [1, 3, 4, 2, 6, 8]\n",
    "print(findOriginalArray(changed))"
   ]
  },
  {
   "cell_type": "markdown",
   "id": "dca6008b",
   "metadata": {},
   "source": [
    "The output is [1, 3, 4] since one possible original array could be [1, 3, 4]. The elements are selected based on the given conditions where each element x in changed is transformed to x/2 in the original array.\n",
    "\n",
    "The algorithm first checks if the length of changed is even. If it's not, we return an empty array since a doubled array should have an even length. Then, we use a Counter to count the occurrences of each element in changed. Next, we iterate over changed in sorted order and check if each number has a corresponding number in the original array. If it does, we add the number to the original array and decrease the counts of both the current number and its corresponding number. If at any point a corresponding number is not found or a number is already used up, we return an empty array. Finally, we return the original array."
   ]
  },
  {
   "cell_type": "markdown",
   "id": "d728b7af",
   "metadata": {},
   "source": [
    "# Q7"
   ]
  },
  {
   "cell_type": "code",
   "execution_count": null,
   "id": "8dac5d55",
   "metadata": {},
   "outputs": [],
   "source": [
    "Question 7\n",
    "\n",
    "Given a positive integer n, generate an n x n matrix filled with elements from 1 to n2 in spiral order.\n",
    "\n",
    "Example 1:\n",
    "\n",
    "Input: n = 3\n",
    "\n",
    "Output: [[1,2,3],[8,9,4],[7,6,5]]"
   ]
  },
  {
   "cell_type": "markdown",
   "id": "4f0c7027",
   "metadata": {},
   "source": [
    "Ans:- \n",
    "    To generate an n x n matrix in spiral order, we can initialize an empty matrix of size n x n and populate it with numbers from 1 to n^2 in a spiral pattern. We can use four variables to keep track of the boundaries of the spiral: top, bottom, left, and right."
   ]
  },
  {
   "cell_type": "code",
   "execution_count": 13,
   "id": "62eb8a68",
   "metadata": {},
   "outputs": [],
   "source": [
    "def generateMatrix(n):\n",
    "    matrix = [[0] * n for _ in range(n)]\n",
    "    num = 1\n",
    "    top, bottom, left, right = 0, n - 1, 0, n - 1\n",
    "\n",
    "    while num <= n * n:\n",
    "        # Traverse top row\n",
    "        for i in range(left, right + 1):\n",
    "            matrix[top][i] = num\n",
    "            num += 1\n",
    "        top += 1\n",
    "\n",
    "        # Traverse right column\n",
    "        for i in range(top, bottom + 1):\n",
    "            matrix[i][right] = num\n",
    "            num += 1\n",
    "        right -= 1\n",
    "\n",
    "        # Traverse bottom row\n",
    "        for i in range(right, left - 1, -1):\n",
    "            matrix[bottom][i] = num\n",
    "            num += 1\n",
    "        bottom -= 1\n",
    "\n",
    "        # Traverse left column\n",
    "        for i in range(bottom, top - 1, -1):\n",
    "            matrix[i][left] = num\n",
    "            num += 1\n",
    "        left += 1\n",
    "\n",
    "    return matrix"
   ]
  },
  {
   "cell_type": "code",
   "execution_count": 14,
   "id": "3e9b2b4e",
   "metadata": {},
   "outputs": [
    {
     "name": "stdout",
     "output_type": "stream",
     "text": [
      "[[1, 2, 3], [8, 9, 4], [7, 6, 5]]\n"
     ]
    }
   ],
   "source": [
    "n = 3\n",
    "print(generateMatrix(n))"
   ]
  },
  {
   "cell_type": "markdown",
   "id": "2637d64e",
   "metadata": {},
   "source": [
    "The output is [[1, 2, 3], [8, 9, 4], [7, 6, 5]], which represents a 3 x 3 matrix filled in the spiral order.\n",
    "\n",
    "The algorithm initializes an empty matrix of size n x n. It then uses the variables top, bottom, left, and right to keep track of the boundaries of the spiral. The while loop runs until all elements from 1 to n^2 are filled in the matrix. In each iteration, it traverses the top row, right column, bottom row, and left column of the current spiral and fills in the numbers in the matrix accordingly. After each traversal, it updates the boundaries by incrementing or decrementing the corresponding variables. Finally, it returns the filled matrix."
   ]
  },
  {
   "cell_type": "markdown",
   "id": "734fd756",
   "metadata": {},
   "source": [
    "# Q8"
   ]
  },
  {
   "cell_type": "code",
   "execution_count": null,
   "id": "728821ec",
   "metadata": {},
   "outputs": [],
   "source": [
    "Question 8\n",
    "\n",
    "Given two [sparse matrices](https://en.wikipedia.org/wiki/Sparse_matrix) mat1 of size m x k and mat2 of size k x n, return the result of mat1 x mat2. You may assume that multiplication is always possible.\n",
    "\n",
    "Example 1:\n",
    "\n",
    "Input: mat1 = [[1,0,0],[-1,0,3]], mat2 = [[7,0,0],[0,0,0],[0,0,1]]\n",
    "\n",
    "Output:\n",
    "\n",
    "[[7,0,0],[-7,0,3]]"
   ]
  },
  {
   "cell_type": "markdown",
   "id": "9f4cfd25",
   "metadata": {},
   "source": [
    "Ans:-\n",
    "    To multiply two sparse matrices mat1 and mat2, we can iterate through the non-zero elements of mat1 and perform the multiplication with the corresponding non-zero elements of mat2. We will store the result in a new matrix."
   ]
  },
  {
   "cell_type": "code",
   "execution_count": 15,
   "id": "fede8b30",
   "metadata": {},
   "outputs": [],
   "source": [
    "def multiply(mat1, mat2):\n",
    "    m, k = len(mat1), len(mat1[0])\n",
    "    n = len(mat2[0])\n",
    "\n",
    "    # Initialize the result matrix\n",
    "    result = [[0] * n for _ in range(m)]\n",
    "\n",
    "    # Iterate through the non-zero elements of mat1\n",
    "    for i in range(m):\n",
    "        for j in range(k):\n",
    "            if mat1[i][j] != 0:\n",
    "                # Multiply non-zero element with the corresponding elements of mat2\n",
    "                for l in range(n):\n",
    "                    result[i][l] += mat1[i][j] * mat2[j][l]\n",
    "\n",
    "    return result"
   ]
  },
  {
   "cell_type": "code",
   "execution_count": 16,
   "id": "f1e561b0",
   "metadata": {},
   "outputs": [
    {
     "name": "stdout",
     "output_type": "stream",
     "text": [
      "[[7, 0, 0], [-7, 0, 3]]\n"
     ]
    }
   ],
   "source": [
    "mat1 = [[1,0,0],[-1,0,3]]\n",
    "mat2 = [[7,0,0],[0,0,0],[0,0,1]]\n",
    "print(multiply(mat1, mat2))"
   ]
  },
  {
   "cell_type": "markdown",
   "id": "fcfc8aaf",
   "metadata": {},
   "source": [
    "The output is [[7, 0, 0], [-7, 0, 3]], which represents the result of multiplying mat1 and mat2.\n",
    "\n",
    "The algorithm iterates through the non-zero elements of mat1 using nested loops. For each non-zero element mat1[i][j], it multiplies it with the corresponding elements mat2[j][l] of mat2 and accumulates the result in result[i][l]. Finally, it returns the resulting matrix result."
   ]
  },
  {
   "cell_type": "code",
   "execution_count": null,
   "id": "32cb4385",
   "metadata": {},
   "outputs": [],
   "source": []
  },
  {
   "cell_type": "code",
   "execution_count": null,
   "id": "0004a12b",
   "metadata": {},
   "outputs": [],
   "source": []
  }
 ],
 "metadata": {
  "kernelspec": {
   "display_name": "Python 3 (ipykernel)",
   "language": "python",
   "name": "python3"
  },
  "language_info": {
   "codemirror_mode": {
    "name": "ipython",
    "version": 3
   },
   "file_extension": ".py",
   "mimetype": "text/x-python",
   "name": "python",
   "nbconvert_exporter": "python",
   "pygments_lexer": "ipython3",
   "version": "3.9.13"
  }
 },
 "nbformat": 4,
 "nbformat_minor": 5
}
