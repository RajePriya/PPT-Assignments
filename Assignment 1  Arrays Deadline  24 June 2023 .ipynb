{
 "cells": [
  {
   "cell_type": "markdown",
   "id": "b6e8a309",
   "metadata": {},
   "source": [
    "## Assignment - 1 "
   ]
  },
  {
   "cell_type": "markdown",
   "id": "f757793c",
   "metadata": {},
   "source": [
    "# Q1"
   ]
  },
  {
   "cell_type": "markdown",
   "id": "bc558f27",
   "metadata": {},
   "source": [
    "Q1. Given an array of integers nums and an integer target, return indices of the two numbers such that they add up to target.\n",
    "\n",
    "You may assume that each input would have exactly one solution, and you may not use the same element twice.\n",
    "\n",
    "You can return the answer in any order.\n",
    "\n",
    "Example:\n",
    "Input: nums = [2,7,11,15], target = 9\n",
    "Output0 [0,1]\n",
    "\n",
    " Explanation: Because nums[0] + nums[1] == 9, we return [0, 1][\n",
    "\n"
   ]
  },
  {
   "cell_type": "markdown",
   "id": "d10c8fc9",
   "metadata": {},
   "source": [
    "Ans:- \n",
    "    we can use a hashmap to store the values of the elements in the array along with their indices.\n",
    "\n",
    "Here's the step-by-step approach to find the indices of the two numbers that add up to the target:\n",
    "\n",
    "=> Create an empty hashmap to store the elements and their indices.\n",
    "=> Iterate through the array, nums, using a for loop.\n",
    "=> For each element nums[i], calculate the complement by subtracting it from the target (complement = target - nums[i]).\n",
    "=> Check if the complement exists in the hashmap by using the in operator to search for the complement as a key in the hashmap.    If it exists, it means we have found the pair of numbers that add up to the target.\n",
    "=> If the complement exists, retrieve its index from the hashmap and return it along with the current index i.\n",
    "=> If the complement does not exist in the hashmap, store the current element nums[i] as a key in the hashmap with its index i      as the value.\n",
    "=> If no pair is found in the array that adds up to the target, return an empty list or any other appropriate indication."
   ]
  },
  {
   "cell_type": "code",
   "execution_count": 1,
   "id": "af858ac4",
   "metadata": {},
   "outputs": [
    {
     "name": "stdout",
     "output_type": "stream",
     "text": [
      "[0, 1]\n"
     ]
    }
   ],
   "source": [
    "def twoSum(nums, target):\n",
    "    num_dict = {}\n",
    "    for i in range(len(nums)):\n",
    "        complement = target - nums[i]\n",
    "        if complement in num_dict:\n",
    "            return [num_dict[complement], i]\n",
    "        num_dict[nums[i]] = i\n",
    "    return []\n",
    "\n",
    "# Example usage:\n",
    "nums = [2, 7, 11, 15]\n",
    "target = 9\n",
    "result = twoSum(nums, target)\n",
    "print(result)  # Output: [0, 1]"
   ]
  },
  {
   "cell_type": "markdown",
   "id": "fde1ab24",
   "metadata": {},
   "source": [
    "The pair of numbers that add up to the target is [2, 7], and their corresponding indices in the array are [0, 1]."
   ]
  },
  {
   "cell_type": "markdown",
   "id": "34a23e08",
   "metadata": {},
   "source": [
    "# Q2"
   ]
  },
  {
   "cell_type": "markdown",
   "id": "1e69ff83",
   "metadata": {},
   "source": [
    "Q2. Given an integer array nums and an integer val, remove all occurrences of val in nums in-place. The order of the elements may be changed. Then return the number of elements in nums which are not equal to val.\n",
    "\n",
    "Consider the number of elements in nums which are not equal to val be k, to get accepted, you need to do the following things:\n",
    "\n",
    "- Change the array nums such that the first k elements of nums contain the elements which are not equal to val. The remaining elements of nums are not important as well as the size of nums.\n",
    "- Return k.\n",
    "\n",
    "Example :\n",
    "Input: nums = [3,2,2,3], val = 3\n",
    "Output: 2, nums = [2,2,_*,_*]\n",
    "\n",
    "Explanation:  Your function should return k = 2, with the first two elements of nums being 2. It does not matter what you leave beyond the returned k (hence they are underscores)["
   ]
  },
  {
   "cell_type": "markdown",
   "id": "3fc1292e",
   "metadata": {},
   "source": [
    "Ans:- \n",
    "   \n",
    "   we can use two pointers technique to remove occurrences of the given value in-place. Here's the step-by-step approach:\n",
    "\n",
    "=> Initialize two pointers, i and j, both pointing to the start of the array nums.\n",
    "\n",
    "=> Iterate through the array nums using a while loop, with the condition j < len(nums).\n",
    "\n",
    "=> If nums[j] is equal to the given value val, move the pointer j to the next element without incrementing the pointer i.\n",
    "=> If nums[j] is not equal to the given value val, set nums[i] to the value at nums[j], and increment both pointers i and j.\n",
    "=> Continue the iteration until j reaches the end of the array.\n",
    "=> Finally, return the value of i as the number of elements in nums that are not equal to val."
   ]
  },
  {
   "cell_type": "code",
   "execution_count": 2,
   "id": "d2e40d4a",
   "metadata": {},
   "outputs": [
    {
     "name": "stdout",
     "output_type": "stream",
     "text": [
      "Number of elements not equal to val: 2\n",
      "Updated nums: [2, 2]\n"
     ]
    }
   ],
   "source": [
    "def removeElement(nums, val):\n",
    "    i = 0  # Pointer for storing the elements not equal to val\n",
    "    j = 0  # Pointer for iterating through the array\n",
    "\n",
    "    while j < len(nums):\n",
    "        if nums[j] != val:\n",
    "            nums[i] = nums[j]\n",
    "            i += 1\n",
    "        j += 1\n",
    "\n",
    "    return i\n",
    "\n",
    "# Example usage:\n",
    "nums = [3, 2, 2, 3]\n",
    "val = 3\n",
    "k = removeElement(nums, val)\n",
    "print(\"Number of elements not equal to val:\", k)\n",
    "print(\"Updated nums:\", nums[:k])"
   ]
  },
  {
   "cell_type": "markdown",
   "id": "034b3574",
   "metadata": {},
   "source": [
    " The value val is 3, and the array nums is initially [3, 2, 2, 3]. After removing all occurrences of 3, the updated array becomes [2, 2, *, *], where * denotes any value. The number of elements not equal to 3 is 2, and they are [2, 2]"
   ]
  },
  {
   "cell_type": "markdown",
   "id": "5473c26a",
   "metadata": {},
   "source": [
    "# Q3"
   ]
  },
  {
   "cell_type": "markdown",
   "id": "04fdbe36",
   "metadata": {},
   "source": [
    "Q3. Given a sorted array of distinct integers and a target value, return the index if the target is found. If not, return the index where it would be if it were inserted in order.\n",
    "\n",
    "You must write an algorithm with O(log n) runtime complexity.\n",
    "\n",
    "Example 1:\n",
    "Input: nums = [1,3,5,6], target = 5\n",
    "\n",
    "Output: 2\n"
   ]
  },
  {
   "cell_type": "markdown",
   "id": "92b2670e",
   "metadata": {},
   "source": [
    "Ans:- \n",
    "    This problem with O(log n) runtime complexity, we can use a binary search algorithm. Here's the step-by-step approach:\n",
    "\n",
    "=> Initialize two pointers, left and right, pointing to the start and end of the array nums, respectively.\n",
    "\n",
    "=> While left <= right, perform the following steps:\n",
    "- Calculate the middle index as mid using the formula: mid = (left + right) // 2.\n",
    "- If the value at nums[mid] is equal to the target, return mid as the index where the target is found.\n",
    "- If the value at nums[mid] is greater than the target, update right to mid - 1 since the target would be located in the left half of the array.\n",
    "- If the value at nums[mid] is less than the target, update left to mid + 1 since the target would be located in the right half of the array.\n",
    "- If the target is not found in the array, return left as the index where it would be inserted in order."
   ]
  },
  {
   "cell_type": "code",
   "execution_count": 3,
   "id": "ded6f01e",
   "metadata": {},
   "outputs": [
    {
     "name": "stdout",
     "output_type": "stream",
     "text": [
      "Index of target: 2\n"
     ]
    }
   ],
   "source": [
    "def searchInsert(nums, target):\n",
    "    left = 0\n",
    "    right = len(nums) - 1\n",
    "\n",
    "    while left <= right:\n",
    "        mid = (left + right) // 2\n",
    "\n",
    "        if nums[mid] == target:\n",
    "            return mid\n",
    "        elif nums[mid] < target:\n",
    "            left = mid + 1\n",
    "        else:\n",
    "            right = mid - 1\n",
    "\n",
    "    return left\n",
    "\n",
    "# Example usage:\n",
    "nums = [1, 3, 5, 6]\n",
    "target = 5\n",
    "index = searchInsert(nums, target)\n",
    "print(\"Index of target:\", index)"
   ]
  },
  {
   "cell_type": "markdown",
   "id": "92b1e052",
   "metadata": {},
   "source": [
    " The sorted array nums is [1, 3, 5, 6], and the target is 5. Since the target is found at index 2 in the array, the output is 2."
   ]
  },
  {
   "cell_type": "markdown",
   "id": "292f4239",
   "metadata": {},
   "source": [
    "# Q4"
   ]
  },
  {
   "cell_type": "markdown",
   "id": "81034781",
   "metadata": {},
   "source": [
    "Q4. You are given a large integer represented as an integer array digits, where each digits[i] is the ith digit of the integer. The digits are ordered from most significant to least significant in left-to-right order. The large integer does not contain any leading 0's.\n",
    "\n",
    "Increment the large integer by one and return the resulting array of digits.\n",
    "\n",
    "Example 1:\n",
    "Input: digits = [1,2,3]\n",
    "Output: [1,2,4]\n",
    "\n",
    "Explanation: The array represents the integer 123.\n",
    "\n",
    "Incrementing by one gives 123 + 1 = 124.\n",
    "Thus, the result should be [1,2,4]."
   ]
  },
  {
   "cell_type": "code",
   "execution_count": null,
   "id": "35cb1d65",
   "metadata": {},
   "outputs": [],
   "source": [
    "Ans:- \n",
    "    To increment a large integer represented as an array of digits, we need to consider the carry while performing the \n",
    "    addition. Here's the step-by-step approach:\n",
    "\n",
    "=> Start from the rightmost digit (least significant digit) in the array digits.\n",
    "\n",
    "=> Increment the rightmost digit by 1.\n",
    "\n",
    "=> If the incremented digit is less than 10 (i.e., not causing a carry), we can return the updated digits array.\n",
    "\n",
    "=> If the incremented digit equals 10, it means a carry is generated. Set the current digit to 0 and move to the next digit\n",
    "   to the left.\n",
    "\n",
    "=> Repeat steps 2-4 until all the digits are processed or a non-carry digit is found.\n",
    "\n",
    "=> If the leftmost digit is reached and a carry is generated, insert 1 at the beginning of the digits array to accommodate \n",
    "   the carry.\n",
    "\n",
    "=> Return the updated digits array."
   ]
  },
  {
   "cell_type": "code",
   "execution_count": 5,
   "id": "0483c267",
   "metadata": {},
   "outputs": [
    {
     "name": "stdout",
     "output_type": "stream",
     "text": [
      "Result: [1, 2, 4]\n"
     ]
    }
   ],
   "source": [
    "def plusOne(digits):\n",
    "    n = len(digits)\n",
    "    for i in range(n-1, -1, -1):\n",
    "        if digits[i] < 9:\n",
    "            digits[i] += 1\n",
    "            return digits\n",
    "        digits[i] = 0\n",
    "    digits.insert(0, 1)\n",
    "    return digits\n",
    "\n",
    "# Example usage:\n",
    "digits = [1, 2, 3]\n",
    "result = plusOne(digits)\n",
    "print(\"Result:\", result)"
   ]
  },
  {
   "cell_type": "markdown",
   "id": "e9a7fadc",
   "metadata": {},
   "source": [
    "The array digits represents the integer 123. Incrementing it by one gives 123 + 1 = 124. Therefore, the output should be [1, 2, 4]."
   ]
  },
  {
   "cell_type": "markdown",
   "id": "94681536",
   "metadata": {},
   "source": [
    "# Q5"
   ]
  },
  {
   "cell_type": "markdown",
   "id": "3b2c0183",
   "metadata": {},
   "source": [
    "Q5. You are given two integer arrays nums1 and nums2, sorted in non-decreasing order, and two integers m and n, representing the number of elements in nums1 and nums2 respectively.\n",
    "\n",
    "Merge nums1 and nums2 into a single array sorted in non-decreasing order.\n",
    "\n",
    "The final sorted array should not be returned by the function, but instead be stored inside the array nums1. To accommodate this, nums1 has a length of m + n, where the first m elements denote the elements that should be merged, and the last n elements are set to 0 and should be ignored. nums2 has a length of n.\n",
    "\n",
    "Example 1:\n",
    "Input: nums1 = [1,2,3,0,0,0], m = 3, nums2 = [2,5,6], n = 3\n",
    "Output: [1,2,2,3,5,6]\n",
    "\n",
    "Explanation: The arrays we are merging are [1,2,3] and [2,5,6].\n",
    "The result of the merge is [1,2,2,3,5,6] with the underlined elements coming from nums1."
   ]
  },
  {
   "cell_type": "code",
   "execution_count": null,
   "id": "cfb06017",
   "metadata": {},
   "outputs": [],
   "source": [
    "Ans:- \n",
    "    To merge two sorted arrays, nums1 and nums2, into nums1, we can utilize a two-pointer approach. Here's the step-by-step \n",
    "    approach:\n",
    "\n",
    "=> Initialize three pointers: p1 pointing to the last non-zero element in nums1, p2 pointing to the last element in nums2,\n",
    "    and p pointing to the last element in the merged array (m + n - 1).\n",
    "=> While p1 and p2 are within their respective valid range (greater than or equal to 0):\n",
    "=> If the element at nums1[p1] is greater than the element at nums2[p2], set the element at nums1[p] as nums1[p1], and\n",
    "   decrement p1 and p by 1.\n",
    "=> If the element at nums1[p1] is less than or equal to the element at nums2[p2], set the element at nums1[p] as nums2[p2],\n",
    "   and decrement p2 and p by 1.\n",
    "=> After the above loop, if there are any remaining elements in nums2, copy them to the beginning of nums1 starting from p2\n",
    "   until p.\n",
    "=> Return the modified nums1 array.\n",
    "    "
   ]
  },
  {
   "cell_type": "code",
   "execution_count": 6,
   "id": "52178592",
   "metadata": {},
   "outputs": [
    {
     "name": "stdout",
     "output_type": "stream",
     "text": [
      "Merged array: [1, 2, 2, 3, 5, 6]\n"
     ]
    }
   ],
   "source": [
    "def merge(nums1, m, nums2, n):\n",
    "    p1 = m - 1\n",
    "    p2 = n - 1\n",
    "    p = m + n - 1\n",
    "\n",
    "    while p1 >= 0 and p2 >= 0:\n",
    "        if nums1[p1] > nums2[p2]:\n",
    "            nums1[p] = nums1[p1]\n",
    "            p1 -= 1\n",
    "        else:\n",
    "            nums1[p] = nums2[p2]\n",
    "            p2 -= 1\n",
    "        p -= 1\n",
    "\n",
    "    # Copy remaining elements from nums2 to nums1\n",
    "    nums1[:p2 + 1] = nums2[:p2 + 1]\n",
    "\n",
    "    return nums1\n",
    "\n",
    "# Example usage:\n",
    "nums1 = [1, 2, 3, 0, 0, 0]\n",
    "m = 3\n",
    "nums2 = [2, 5, 6]\n",
    "n = 3\n",
    "\n",
    "result = merge(nums1, m, nums2, n)\n",
    "print(\"Merged array:\", result)"
   ]
  },
  {
   "cell_type": "markdown",
   "id": "227d8d46",
   "metadata": {},
   "source": [
    "Nums1 initially contains [1, 2, 3, 0, 0, 0], with the first three elements denoting the elements to be merged. nums2 is [2, 5, 6]. After merging, nums1 becomes [1, 2, 2, 3, 5, 6], which is the final sorted array."
   ]
  },
  {
   "cell_type": "markdown",
   "id": "da02b503",
   "metadata": {},
   "source": [
    "# Q6"
   ]
  },
  {
   "cell_type": "markdown",
   "id": "686ec54a",
   "metadata": {},
   "source": [
    "Q6. Given an integer array nums, return true if any value appears at least twice in the array, and return false if every element is distinct.\n",
    "\n",
    "Example 1:\n",
    "Input: nums = [1,2,3,1]\n",
    "\n",
    "Output: true"
   ]
  },
  {
   "cell_type": "markdown",
   "id": "f91109c6",
   "metadata": {},
   "source": [
    "Ans:- \n",
    "    To determine if any value appears at least twice in an array, we can utilize a hash set to keep track of the unique elements encountered so far. Here's the step-by-step approach:\n",
    "\n",
    "=> Initialize an empty hash set.\n",
    "\n",
    "=> Iterate through each element in the array nums.\n",
    "\n",
    "=>  For each element num, check if it already exists in the hash set.\n",
    "- If it does, return True as there is a duplicate value.\n",
    "- If it doesn't, add it to the hash set.\n",
    "\n",
    "=> If the loop completes without finding any duplicates, return False as all elements are distinct."
   ]
  },
  {
   "cell_type": "code",
   "execution_count": 7,
   "id": "d9d39470",
   "metadata": {},
   "outputs": [
    {
     "name": "stdout",
     "output_type": "stream",
     "text": [
      "Result: True\n"
     ]
    }
   ],
   "source": [
    "def containsDuplicate(nums):\n",
    "    unique_set = set()\n",
    "    for num in nums:\n",
    "        if num in unique_set:\n",
    "            return True\n",
    "        unique_set.add(num)\n",
    "    return False\n",
    "\n",
    "# Example usage:\n",
    "nums = [1, 2, 3, 1]\n",
    "result = containsDuplicate(nums)\n",
    "print(\"Result:\", result)"
   ]
  },
  {
   "cell_type": "markdown",
   "id": "97323432",
   "metadata": {},
   "source": [
    " The array nums contains duplicate values since both 1 and 2 appear more than once. Therefore, the output is True."
   ]
  },
  {
   "cell_type": "markdown",
   "id": "4edb52e3",
   "metadata": {},
   "source": [
    "# Q7"
   ]
  },
  {
   "cell_type": "markdown",
   "id": "47174cb1",
   "metadata": {},
   "source": [
    "Q7. Given an integer array nums, move all 0's to the end of it while maintaining the relative order of the nonzero elements.\n",
    "\n",
    "Note that you must do this in-place without making a copy of the array.\n",
    "\n",
    "Example 1:\n",
    "Input: nums = [0,1,0,3,12]\n",
    "Output: [1,3,12,0,0]"
   ]
  },
  {
   "cell_type": "code",
   "execution_count": null,
   "id": "9c14e58e",
   "metadata": {},
   "outputs": [],
   "source": [
    "Ans:- \n",
    "    \n",
    "    To move all zeros to the end of an array while maintaining the relative order of the non-zero elements, we can utilize a two-pointer approach. Here's the step-by-step approach:\n",
    "\n",
    "=> Initialize two pointers, left and right, both initially pointing to the start of the array nums.\n",
    "\n",
    "=> Iterate through the array using a while loop with the condition right < len(nums).\n",
    "\n",
    "=> If the value at nums[right] is non-zero, swap the values at nums[left] and nums[right], and increment both pointers left \n",
    "   and right.\n",
    "=> This step effectively moves the non-zero element to the left side of the array.\n",
    "\n",
    "=> If the value at nums[right] is zero, increment only the pointer right.\n",
    "\n",
    "=> This step skips over the zero element, maintaining its position in the array.\n",
    "\n",
    "=> Continue the iteration until right reaches the end of the array.\n",
    "\n",
    "=> After the loop, all non-zero elements have been moved to the left side of the array.\n",
    "\n",
    "=> Fill the remaining elements from index left to the end of the array with zeros."
   ]
  },
  {
   "cell_type": "code",
   "execution_count": 8,
   "id": "67b7832a",
   "metadata": {},
   "outputs": [
    {
     "name": "stdout",
     "output_type": "stream",
     "text": [
      "Result: [1, 3, 12, 0, 0]\n"
     ]
    }
   ],
   "source": [
    "def moveZeroes(nums):\n",
    "    left = 0\n",
    "    right = 0\n",
    "\n",
    "    while right < len(nums):\n",
    "        if nums[right] != 0:\n",
    "            nums[left], nums[right] = nums[right], nums[left]\n",
    "            left += 1\n",
    "        right += 1\n",
    "\n",
    "    # Fill remaining elements with zeros\n",
    "    while left < len(nums):\n",
    "        nums[left] = 0\n",
    "        left += 1\n",
    "\n",
    "    return nums\n",
    "\n",
    "# Example usage:\n",
    "nums = [0, 1, 0, 3, 12]\n",
    "result = moveZeroes(nums)\n",
    "print(\"Result:\", result)"
   ]
  },
  {
   "cell_type": "markdown",
   "id": "f2ae2829",
   "metadata": {},
   "source": [
    " The array nums contains zeros as well as non-zero elements. After moving all zeros to the end while maintaining the relative order of non-zero elements, the resulting array is [1, 3, 12, 0, 0]."
   ]
  },
  {
   "cell_type": "markdown",
   "id": "13538b03",
   "metadata": {},
   "source": [
    "# Q8"
   ]
  },
  {
   "cell_type": "markdown",
   "id": "12848804",
   "metadata": {},
   "source": [
    "Q8. You have a set of integers s, which originally contains all the numbers from 1 to n. Unfortunately, due to some error, one of the numbers in s got duplicated to another number in the set, which results in repetition of one number and loss of another number.\n",
    "\n",
    "You are given an integer array nums representing the data status of this set after the error.\n",
    "\n",
    "Find the number that occurs twice and the number that is missing and return them in the form of an array.\n",
    "\n",
    "Example 1:\n",
    "Input: nums = [1,2,2,4]\n",
    "Output: [2,3]"
   ]
  },
  {
   "cell_type": "code",
   "execution_count": null,
   "id": "7baf15df",
   "metadata": {},
   "outputs": [],
   "source": [
    "Ans:- \n",
    "    \n",
    "    To find the number that occurs twice and the number that is missing in an array, we can utilize a hash set to track the\n",
    "    occurrences of numbers. Here's the step-by-step approach:\n",
    "\n",
    "=> Initialize an empty hash set and two variables, duplicate and missing, both initially set to 0.\n",
    "\n",
    "=> Iterate through each element num in the array nums.\n",
    "\n",
    "=> If num is already present in the hash set, assign it to duplicate.\n",
    "\n",
    "=> Add num to the hash set.\n",
    "\n",
    "=> Iterate from 1 to the length of nums + 1.\n",
    "\n",
    "=> If the current number is not found in the hash set, assign it to missing.\n",
    "\n",
    "=> Return the array [duplicate, missing]."
   ]
  },
  {
   "cell_type": "code",
   "execution_count": 9,
   "id": "633b62ff",
   "metadata": {},
   "outputs": [
    {
     "name": "stdout",
     "output_type": "stream",
     "text": [
      "Result: [2, 3]\n"
     ]
    }
   ],
   "source": [
    "def findErrorNums(nums):\n",
    "    num_set = set()\n",
    "    duplicate = 0\n",
    "    missing = 0\n",
    "\n",
    "    for num in nums:\n",
    "        if num in num_set:\n",
    "            duplicate = num\n",
    "        num_set.add(num)\n",
    "\n",
    "    for i in range(1, len(nums) + 1):\n",
    "        if i not in num_set:\n",
    "            missing = i\n",
    "\n",
    "    return [duplicate, missing]\n",
    "\n",
    "# Example usage:\n",
    "nums = [1, 2, 2, 4]\n",
    "result = findErrorNums(nums)\n",
    "print(\"Result:\", result)"
   ]
  },
  {
   "cell_type": "markdown",
   "id": "52ceef83",
   "metadata": {},
   "source": [
    " The array nums contains a duplicate number 2 (which is repeated twice) and a missing number 3. Therefore, the output is [2, 3]."
   ]
  },
  {
   "cell_type": "code",
   "execution_count": null,
   "id": "b20bc6c1",
   "metadata": {},
   "outputs": [],
   "source": []
  }
 ],
 "metadata": {
  "kernelspec": {
   "display_name": "Python 3 (ipykernel)",
   "language": "python",
   "name": "python3"
  },
  "language_info": {
   "codemirror_mode": {
    "name": "ipython",
    "version": 3
   },
   "file_extension": ".py",
   "mimetype": "text/x-python",
   "name": "python",
   "nbconvert_exporter": "python",
   "pygments_lexer": "ipython3",
   "version": "3.9.13"
  }
 },
 "nbformat": 4,
 "nbformat_minor": 5
}
