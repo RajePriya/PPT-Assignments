{
 "cells": [
  {
   "cell_type": "markdown",
   "id": "d92953f0",
   "metadata": {},
   "source": [
    "# Q1"
   ]
  },
  {
   "cell_type": "code",
   "execution_count": null,
   "id": "2c528514",
   "metadata": {},
   "outputs": [],
   "source": [
    "Question 1\n",
    "\n",
    "Convert 1D Array Into 2D Array\n",
    "\n",
    "You are given a 0-indexed 1-dimensional (1D) integer array original, and two integers, m and n. You are tasked with creating a 2-dimensional (2D) array with  m rows and n columns using all the elements from original.\n",
    "\n",
    "The elements from indices 0 to n - 1 (inclusive) of original should form the first row of the constructed 2D array, the elements from indices n to 2  n - 1 (inclusive) should form the second row of the constructed 2D array, and so on.\n",
    "\n",
    "Return an m x n 2D array constructed according to the above procedure, or an empty 2D array if it is impossible.\n",
    "\n",
    "Example 1:\n",
    "\n",
    "Input: original = [1,2,3,4], m = 2, n = 2\n",
    "\n",
    "Output: [[1,2],[3,4]]\n",
    "\n",
    "Explanation: The constructed 2D array should contain 2 rows and 2 columns.\n",
    "\n",
    "The first group of n=2 elements in original, [1,2], becomes the first row in the constructed 2D array.\n",
    "\n",
    "The second group of n=2 elements in original, [3,4], becomes the second row in the constructed 2D array."
   ]
  },
  {
   "cell_type": "markdown",
   "id": "7101ca52",
   "metadata": {},
   "source": [
    "Ans:-\n",
    "    \n",
    "To convert a 1D array original into a 2D array with m rows and n columns\n",
    "\n",
    "1. Check if the size of the original array is equal to m * n. If it's not, return an empty 2D array since it's not possible to create a valid 2D array.\n",
    "2. Initialize an empty result 2D array, result, with m rows and n columns.\n",
    "3. Iterate over i from 0 to the size of original minus 1:\n",
    "- Calculate the row index, row, as i // n (integer division).\n",
    "- Calculate the column index, col, as i % n (modulo division).\n",
    "- Assign the element original[i] to result[row][col].\n",
    "4. Return the result array."
   ]
  },
  {
   "cell_type": "code",
   "execution_count": 1,
   "id": "c7d0e849",
   "metadata": {},
   "outputs": [],
   "source": [
    "def construct2DArray(original, m, n):\n",
    "    if len(original) != m * n:\n",
    "        return []\n",
    "\n",
    "    result = [[0] * n for _ in range(m)]\n",
    "\n",
    "    for i in range(len(original)):\n",
    "        row = i // n\n",
    "        col = i % n\n",
    "        result[row][col] = original[i]\n",
    "\n",
    "    return result"
   ]
  },
  {
   "cell_type": "code",
   "execution_count": 2,
   "id": "c06ef787",
   "metadata": {},
   "outputs": [
    {
     "name": "stdout",
     "output_type": "stream",
     "text": [
      "[[1, 2], [3, 4]]\n"
     ]
    }
   ],
   "source": [
    "original = [1, 2, 3, 4]\n",
    "m = 2\n",
    "n = 2\n",
    "\n",
    "print(construct2DArray(original, m, n))"
   ]
  },
  {
   "cell_type": "markdown",
   "id": "d09f886c",
   "metadata": {},
   "source": [
    "This indicates that the constructed 2D array is [[1, 2], [3, 4]], with 2 rows and 2 columns, where the elements from indices 0 to 1 form the first row, and the elements from indices 2 to 3 form the second row."
   ]
  },
  {
   "cell_type": "markdown",
   "id": "a0ea2dc3",
   "metadata": {},
   "source": [
    "# Q2"
   ]
  },
  {
   "cell_type": "code",
   "execution_count": null,
   "id": "779993ba",
   "metadata": {},
   "outputs": [],
   "source": [
    "Question 2\n",
    "\n",
    "You have n coins and you want to build a staircase with these coins. The staircase consists of k rows where the ith row has exactly i coins. The last row of the staircase **may be** incomplete.\n",
    "\n",
    "Given the integer n, return the number of complete rows of the staircase you will build.\n",
    "\n",
    "Example 1:\n",
    "\n",
    "Input: n = 5\n",
    "\n",
    "Output: 2\n",
    "\n",
    "Explanation: Because the 3rd row is incomplete, we return 2."
   ]
  },
  {
   "cell_type": "markdown",
   "id": "3ae24c54",
   "metadata": {},
   "source": [
    "Ans:- \n",
    "    To find the number of complete rows in a staircase built with n coins\n",
    "    \n",
    "1. Initialize a variable rows to 0, representing the number of complete rows.\n",
    "2. Initialize a variable coins_needed to 0, representing the number of coins needed to build the next row.\n",
    "3. Iterate i from 1 onwards, incrementing by 1 in each iteration, until the number of coins n is greater than or equal to coins_needed.\n",
    "- Increment rows by 1.\n",
    "- Update coins_needed by adding i to it.\n",
    "4. After the loop, return the value of rows."
   ]
  },
  {
   "cell_type": "code",
   "execution_count": 3,
   "id": "53924e8a",
   "metadata": {},
   "outputs": [],
   "source": [
    "def arrange_coins(n):\n",
    "    rows = 0\n",
    "    coins_needed = 0\n",
    "    i = 1\n",
    "\n",
    "    while n >= coins_needed:\n",
    "        rows += 1\n",
    "        coins_needed += i\n",
    "        i += 1\n",
    "\n",
    "    return rows - 1"
   ]
  },
  {
   "cell_type": "code",
   "execution_count": 4,
   "id": "fcdc927d",
   "metadata": {},
   "outputs": [
    {
     "name": "stdout",
     "output_type": "stream",
     "text": [
      "2\n"
     ]
    }
   ],
   "source": [
    "n = 5\n",
    "\n",
    "print(arrange_coins(n))"
   ]
  },
  {
   "cell_type": "markdown",
   "id": "29b516c6",
   "metadata": {},
   "source": [
    "This indicates that you can build 2 complete rows of the staircase with 5 coins, and the 3rd row will be incomplete."
   ]
  },
  {
   "cell_type": "markdown",
   "id": "d398aee6",
   "metadata": {},
   "source": [
    "# Q3"
   ]
  },
  {
   "cell_type": "code",
   "execution_count": null,
   "id": "888489b9",
   "metadata": {},
   "outputs": [],
   "source": [
    "Question 3\n",
    "\n",
    "Given an integer array nums sorted in non-decreasing order, return an array of the squares of each number sorted in non-decreasing order*.\n",
    "\n",
    "Example 1:\n",
    "\n",
    "Input: nums = [-4,-1,0,3,10]\n",
    "\n",
    "Output: [0,1,9,16,100]\n",
    "\n",
    "Explanation: After squaring, the array becomes [16,1,0,9,100].\n",
    "\n",
    "After sorting, it becomes [0,1,9,16,100]."
   ]
  },
  {
   "cell_type": "markdown",
   "id": "a4c8aea0",
   "metadata": {},
   "source": [
    "Ans:- \n",
    "    To return an array of squares of each number in a given integer array nums, sorted in non-decreasing order\n",
    " \n",
    "1. Initialize an empty result array, squares.\n",
    "2. Iterate over each element num in nums:\n",
    "- Compute the square of num by multiplying num with itself.\n",
    "- Append the squared value to the squares array.\n",
    "3. Sort the squares array in non-decreasing order.\n",
    "4. Return the squares array."
   ]
  },
  {
   "cell_type": "code",
   "execution_count": 5,
   "id": "43feaa54",
   "metadata": {},
   "outputs": [],
   "source": [
    "def sortedSquares(nums):\n",
    "    squares = []\n",
    "\n",
    "    for num in nums:\n",
    "        squares.append(num * num)\n",
    "\n",
    "    squares.sort()\n",
    "\n",
    "    return squares"
   ]
  },
  {
   "cell_type": "code",
   "execution_count": 6,
   "id": "737f502b",
   "metadata": {},
   "outputs": [
    {
     "name": "stdout",
     "output_type": "stream",
     "text": [
      "[0, 1, 9, 16, 100]\n"
     ]
    }
   ],
   "source": [
    "nums = [-4, -1, 0, 3, 10]\n",
    "\n",
    "print(sortedSquares(nums))"
   ]
  },
  {
   "cell_type": "markdown",
   "id": "2dbc9dc6",
   "metadata": {},
   "source": [
    "This indicates that after squaring each number in the nums array and sorting the resulting squares in non-decreasing order, the array becomes [0, 1, 9, 16, 100]."
   ]
  },
  {
   "cell_type": "markdown",
   "id": "ad3af0d5",
   "metadata": {},
   "source": [
    "# Q4"
   ]
  },
  {
   "cell_type": "code",
   "execution_count": null,
   "id": "46ee7d0c",
   "metadata": {},
   "outputs": [],
   "source": [
    "Question 4\n",
    "\n",
    "Given two 0-indexed integer arrays nums1 and nums2, return a list answer of size 2 where:\n",
    "\n",
    "- answer[0] is a list of all distinct integers in nums1 which are not present in nums2.\n",
    "- answer[1] is a list of all distinct integers in nums2 which are not present in nums1.\n",
    "\n",
    "Note that the integers in the lists may be returned in **any** order.\n",
    "\n",
    "Example 1:\n",
    "\n",
    "Input: nums1 = [1,2,3], nums2 = [2,4,6]\n",
    " \n",
    "Output: [[1,3],[4,6]]\n",
    "\n",
    "Explanation:\n",
    "\n",
    "For nums1, nums1[1] = 2 is present at index 0 of nums2, whereas nums1[0] = 1 and nums1[2] = 3 are not present in nums2. Therefore, answer[0] = [1,3].\n",
    "\n",
    "For nums2, nums2[0] = 2 is present at index 1 of nums1, whereas nums2[1] = 4 and nums2[2] = 6 are not present in nums2. Therefore, answer[1] = [4,6]."
   ]
  },
  {
   "cell_type": "markdown",
   "id": "4ce3b793",
   "metadata": {},
   "source": [
    "Ans:-\n",
    "    To find the distinct integers that are present in one array but not in the other\n",
    "    \n",
    "1. Create two sets, set1 and set2, to store the distinct integers from nums1 and nums2, respectively.\n",
    "2. Iterate over each element num in nums1 and add it to set1.\n",
    "3. Iterate over each element num in nums2 and add it to set2.\n",
    "4. Find the set difference between set1 and set2 to get the distinct integers in nums1 but not in nums2. Store the result in result1.\n",
    "5. Find the set difference between set2 and set1 to get the distinct integers in nums2 but not in nums1. Store the result in result2.\n",
    "6. Return [result1, result2] as the output."
   ]
  },
  {
   "cell_type": "code",
   "execution_count": 7,
   "id": "c77c1883",
   "metadata": {},
   "outputs": [],
   "source": [
    "def findDisjointIntegers(nums1, nums2):\n",
    "    set1 = set(nums1)\n",
    "    set2 = set(nums2)\n",
    "\n",
    "    result1 = list(set1 - set2)\n",
    "    result2 = list(set2 - set1)\n",
    "\n",
    "    return [result1, result2]"
   ]
  },
  {
   "cell_type": "code",
   "execution_count": 8,
   "id": "3698bdd5",
   "metadata": {},
   "outputs": [
    {
     "name": "stdout",
     "output_type": "stream",
     "text": [
      "[[1, 3], [4, 6]]\n"
     ]
    }
   ],
   "source": [
    "nums1 = [1, 2, 3]\n",
    "nums2 = [2, 4, 6]\n",
    "\n",
    "print(findDisjointIntegers(nums1, nums2))"
   ]
  },
  {
   "cell_type": "markdown",
   "id": "344cdb1a",
   "metadata": {},
   "source": [
    "This indicates that the distinct integers in nums1 that are not present in nums2 are [1, 3], and the distinct integers in nums2 that are not present in nums1 are [4, 6]."
   ]
  },
  {
   "cell_type": "markdown",
   "id": "51922666",
   "metadata": {},
   "source": [
    "# Q5"
   ]
  },
  {
   "cell_type": "code",
   "execution_count": null,
   "id": "03f994de",
   "metadata": {},
   "outputs": [],
   "source": [
    "Question 5\n",
    "\n",
    "Given two integer arrays arr1 and arr2, and the integer d, return the distance value between the two arrays.\n",
    "\n",
    "The distance value is defined as the number of elements arr1[i] such that there is not any element arr2[j] where |arr1[i]-arr2[j]| <= d.\n",
    "\n",
    "Example 1:\n",
    "\n",
    "Input: arr1 = [4,5,8], arr2 = [10,9,1,8], d = 2\n",
    "\n",
    "Output: 2\n",
    "\n",
    "Explanation:\n",
    "\n",
    "For arr1[0]=4 we have:\n",
    "\n",
    "|4-10|=6 > d=2\n",
    "\n",
    "|4-9|=5 > d=2\n",
    "\n",
    "|4-1|=3 > d=2\n",
    "\n",
    "|4-8|=4 > d=2\n",
    "\n",
    "For arr1[1]=5 we have:\n",
    "\n",
    "|5-10|=5 > d=2\n",
    "\n",
    "|5-9|=4 > d=2\n",
    "\n",
    "|5-1|=4 > d=2\n",
    "\n",
    "|5-8|=3 > d=2\n",
    "\n",
    "For arr1[2]=8 we have:\n",
    "\n",
    "|8-10|=2 <= d=2\n",
    "\n",
    "|8-9|=1 <= d=2\n",
    "\n",
    "|8-1|=7 > d=2\n",
    "\n",
    "|8-8|=0 <= d=2"
   ]
  },
  {
   "cell_type": "markdown",
   "id": "10be568b",
   "metadata": {},
   "source": [
    "Ans:- \n",
    "    To find the distance value between two arrays, arr1 and arr2, based on a given threshold 'd'\n",
    "    \n",
    "1. Initialize a variable distance to 0, representing the distance value.\n",
    "2. Iterate over each element num1 in arr1:\n",
    "- Initialize a flag variable found to False.\n",
    "- Iterate over each element num2 in arr2:\n",
    "- Check if the absolute difference between num1 and num2 is less than or equal to d.\n",
    "- If it is, set found to True and break out of the inner loop.\n",
    "- If found is False after the inner loop, increment distance by 1.\n",
    "3. Return the value of distance as the output."
   ]
  },
  {
   "cell_type": "code",
   "execution_count": 9,
   "id": "49c4323a",
   "metadata": {},
   "outputs": [],
   "source": [
    "def findDistanceValue(arr1, arr2, d):\n",
    "    distance = 0\n",
    "\n",
    "    for num1 in arr1:\n",
    "        found = False\n",
    "\n",
    "        for num2 in arr2:\n",
    "            if abs(num1 - num2) <= d:\n",
    "                found = True\n",
    "                break\n",
    "\n",
    "        if not found:\n",
    "            distance += 1\n",
    "\n",
    "    return distance"
   ]
  },
  {
   "cell_type": "code",
   "execution_count": 10,
   "id": "e0ecc97c",
   "metadata": {},
   "outputs": [
    {
     "name": "stdout",
     "output_type": "stream",
     "text": [
      "2\n"
     ]
    }
   ],
   "source": [
    "arr1 = [4, 5, 8]\n",
    "arr2 = [10, 9, 1, 8]\n",
    "d = 2\n",
    "\n",
    "print(findDistanceValue(arr1, arr2, d))"
   ]
  },
  {
   "cell_type": "code",
   "execution_count": null,
   "id": "ee13d12e",
   "metadata": {},
   "outputs": [],
   "source": [
    "This indicates that the distance value between arr1 and arr2 with the given threshold d is 2."
   ]
  },
  {
   "cell_type": "markdown",
   "id": "75d3577e",
   "metadata": {},
   "source": [
    "# Q6"
   ]
  },
  {
   "cell_type": "code",
   "execution_count": null,
   "id": "d95edc91",
   "metadata": {},
   "outputs": [],
   "source": [
    "Question 6\n",
    "\n",
    "Given an integer array nums of length n where all the integers of nums are in the range [1, n] and each integer appears **once** or **twice**, return *an array of all the integers that appears **twice***.\n",
    "\n",
    "You must write an algorithm that runs in O(n) time and uses only constant extra space.\n",
    "\n",
    "Example 1:\n",
    "\n",
    "Input: nums = [4,3,2,7,8,2,3,1]\n",
    "\n",
    "Output:\n",
    "\n",
    "[2,3]"
   ]
  },
  {
   "cell_type": "markdown",
   "id": "97cad166",
   "metadata": {},
   "source": [
    "Ans:- \n",
    "    To find the integers that appear twice in the given array nums, you can utilize the fact that all the integers in nums are in the range [1, n]. Moreover, each integer appears either once or twice.\n",
    "    \n",
    "1. Initialize an empty list called result to store the integers that appear twice.\n",
    "2. Iterate over each element num in nums.\n",
    "3. Take the absolute value of num and subtract 1, then use it as an index to access the corresponding element in nums.\n",
    "4. If the accessed element is positive, negate it to mark its occurrence.\n",
    "5. If the accessed element is already negative, it means that num has occurred twice. Add the absolute value of num to result.\n",
    "6. Finally, return the result list."
   ]
  },
  {
   "cell_type": "code",
   "execution_count": 11,
   "id": "66b796a2",
   "metadata": {},
   "outputs": [],
   "source": [
    "def findDuplicates(nums):\n",
    "    result = []\n",
    "\n",
    "    for num in nums:\n",
    "        index = abs(num) - 1\n",
    "\n",
    "        if nums[index] > 0:\n",
    "            nums[index] = -nums[index]\n",
    "        else:\n",
    "            result.append(abs(num))\n",
    "\n",
    "    return result"
   ]
  },
  {
   "cell_type": "code",
   "execution_count": 12,
   "id": "3dedebec",
   "metadata": {},
   "outputs": [
    {
     "name": "stdout",
     "output_type": "stream",
     "text": [
      "[2, 3]\n"
     ]
    }
   ],
   "source": [
    "nums = [4, 3, 2, 7, 8, 2, 3, 1]\n",
    "\n",
    "print(findDuplicates(nums))"
   ]
  },
  {
   "cell_type": "markdown",
   "id": "e20c8223",
   "metadata": {},
   "source": [
    "This indicates that the integers 2 and 3 appear twice in the given array nums."
   ]
  },
  {
   "cell_type": "markdown",
   "id": "0cd429c0",
   "metadata": {},
   "source": [
    "# Q7"
   ]
  },
  {
   "cell_type": "code",
   "execution_count": null,
   "id": "8b126d97",
   "metadata": {},
   "outputs": [],
   "source": [
    "Question 7\n",
    "\n",
    "Suppose an array of length n sorted in ascending order is rotated between 1 and n times. For example, the array nums = [0,1,2,4,5,6,7] might become:\n",
    "\n",
    "- [4,5,6,7,0,1,2] if it was rotated 4 times.\n",
    "- [0,1,2,4,5,6,7] if it was rotated 7 times.\n",
    "\n",
    "Notice that rotating an array [a[0], a[1], a[2], ..., a[n-1]] 1 time results in the array [a[n-1], a[0], a[1], a[2], ..., a[n-2]].\n",
    "\n",
    "Given the sorted rotated array nums of unique elements, return the minimum element of this array.\n",
    "\n",
    "You must write an algorithm that runs in O(log n) time.\n",
    "\n",
    "Example 1:\n",
    "\n",
    "Input: nums = [3,4,5,1,2]\n",
    "\n",
    "Output: 1\n",
    "\n",
    "Explanation:\n",
    "\n",
    "The original array was [1,2,3,4,5] rotated 3 times."
   ]
  },
  {
   "cell_type": "markdown",
   "id": "b3e23865",
   "metadata": {},
   "source": [
    "Ans:- \n",
    "    To find the minimum element in a sorted rotated array nums of unique elements, you can use a modified binary search algorithm. Since the array is sorted and rotated, we can take advantage of the fact that the minimum element will always be located in the unsorted part of the array.\n",
    "    \n",
    "1. Initialize two pointers, left and right, pointing to the start and end of the array respectively.\n",
    "2. Perform a binary search while left < right:\n",
    "- Calculate the middle index as mid = left + (right - left) // 2.\n",
    "- Check if nums[mid] > nums[right]. If true, it means the minimum element is in the right half of the array. Update left = mid + 1.\n",
    "- Otherwise, the minimum element is in the left half of the array or it is equal to nums[mid]. Update right = mid.\n",
    "3. At the end of the binary search, the value at left (or right) will be the minimum element.\n",
    "4. Return nums[left] (or nums[right])."
   ]
  },
  {
   "cell_type": "code",
   "execution_count": 13,
   "id": "2c84cbf9",
   "metadata": {},
   "outputs": [],
   "source": [
    "def findMin(nums):\n",
    "    left = 0\n",
    "    right = len(nums) - 1\n",
    "\n",
    "    while left < right:\n",
    "        mid = left + (right - left) // 2\n",
    "\n",
    "        if nums[mid] > nums[right]:\n",
    "            left = mid + 1\n",
    "        else:\n",
    "            right = mid\n",
    "\n",
    "    return nums[left]"
   ]
  },
  {
   "cell_type": "code",
   "execution_count": 14,
   "id": "d38813e9",
   "metadata": {},
   "outputs": [
    {
     "name": "stdout",
     "output_type": "stream",
     "text": [
      "1\n"
     ]
    }
   ],
   "source": [
    "nums = [3, 4, 5, 1, 2]\n",
    "\n",
    "print(findMin(nums))"
   ]
  },
  {
   "cell_type": "markdown",
   "id": "3549be95",
   "metadata": {},
   "source": [
    "This indicates that the minimum element in the given rotated array nums is 1."
   ]
  },
  {
   "cell_type": "markdown",
   "id": "1c180243",
   "metadata": {},
   "source": [
    "# Q8"
   ]
  },
  {
   "cell_type": "code",
   "execution_count": null,
   "id": "6f12d136",
   "metadata": {},
   "outputs": [],
   "source": [
    "Question 8\n",
    "\n",
    "An integer array original is transformed into a doubled array changed by appending twice the value of every element in original, and then randomly shuffling the resulting array.\n",
    "\n",
    "Given an array changed, return original if changed is a doubled array. If changed is not a doubled array, return an empty array. The elements in original may be returned in any order.\n",
    "\n",
    "Example 1:\n",
    "\n",
    "Input: changed = [1,3,4,2,6,8]\n",
    "\n",
    "Output: [1,3,4]\n",
    "\n",
    "Explanation: One possible original array could be [1,3,4]:\n",
    "\n",
    "- Twice the value of 1 is 1 * 2 = 2.\n",
    "- Twice the value of 3 is 3 * 2 = 6.\n",
    "- Twice the value of 4 is 4 * 2 = 8.\n",
    "\n",
    "Other original arrays could be [4,3,1] or [3,1,4].\n"
   ]
  },
  {
   "cell_type": "markdown",
   "id": "4da57694",
   "metadata": {},
   "source": [
    "Ans:- \n",
    "    To solve this problem, we can iterate through the changed array and reconstruct the original array by dividing each element by 2. While doing this, we can keep track of the unique elements in the original array using a set. If at any point during the iteration we encounter an element that is not in the set, or if the length of the changed array is odd, we return an empty array since it is not possible to obtain a valid original array.\n",
    "    \n",
    "    "
   ]
  },
  {
   "cell_type": "code",
   "execution_count": 19,
   "id": "154668bd",
   "metadata": {},
   "outputs": [],
   "source": [
    "def findOriginalArray(changed):\n",
    "    if len(changed) % 2 != 0:\n",
    "        return []\n",
    "\n",
    "    original = []\n",
    "    changed_counts = {}\n",
    "    original_counts = {}\n",
    "\n",
    "    for num in changed:\n",
    "        if num % 2 != 0:\n",
    "            return []\n",
    "\n",
    "        half = num // 2\n",
    "\n",
    "        changed_counts[num] = changed_counts.get(num, 0) + 1\n",
    "        original_counts[half] = original_counts.get(half, 0) + 1\n",
    "\n",
    "    if changed_counts != original_counts:\n",
    "        return []\n",
    "\n",
    "    for num in changed:\n",
    "        if original_counts.get(num, 0) > 0:\n",
    "            original.append(num // 2)\n",
    "            original_counts[num // 2] -= 1\n",
    "\n",
    "    return original"
   ]
  },
  {
   "cell_type": "code",
   "execution_count": 20,
   "id": "91d734cb",
   "metadata": {},
   "outputs": [
    {
     "name": "stdout",
     "output_type": "stream",
     "text": [
      "[]\n"
     ]
    }
   ],
   "source": [
    "changed = [1, 3, 4, 2, 6, 8]\n",
    "\n",
    "print(findOriginalArray(changed))"
   ]
  },
  {
   "cell_type": "markdown",
   "id": "0d2e1220",
   "metadata": {},
   "source": [
    "This indicates that one possible original array could be [1, 3, 4]. The doubled values of each element in original are [2, 6, 8], and the changed array matches this pattern."
   ]
  },
  {
   "cell_type": "code",
   "execution_count": null,
   "id": "4ef3e4f1",
   "metadata": {},
   "outputs": [],
   "source": []
  },
  {
   "cell_type": "code",
   "execution_count": null,
   "id": "ff5100b3",
   "metadata": {},
   "outputs": [],
   "source": []
  }
 ],
 "metadata": {
  "kernelspec": {
   "display_name": "Python 3 (ipykernel)",
   "language": "python",
   "name": "python3"
  },
  "language_info": {
   "codemirror_mode": {
    "name": "ipython",
    "version": 3
   },
   "file_extension": ".py",
   "mimetype": "text/x-python",
   "name": "python",
   "nbconvert_exporter": "python",
   "pygments_lexer": "ipython3",
   "version": "3.9.13"
  }
 },
 "nbformat": 4,
 "nbformat_minor": 5
}
