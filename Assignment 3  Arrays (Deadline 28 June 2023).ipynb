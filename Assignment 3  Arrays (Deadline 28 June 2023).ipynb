{
 "cells": [
  {
   "cell_type": "markdown",
   "id": "5d053f01",
   "metadata": {},
   "source": [
    "# Q1"
   ]
  },
  {
   "cell_type": "code",
   "execution_count": null,
   "id": "c2523b32",
   "metadata": {},
   "outputs": [],
   "source": [
    "Question 1\n",
    "Given an integer array nums of length n and an integer target, find three integers\n",
    "in nums such that the sum is closest to the target.\n",
    "Return the sum of the three integers.\n",
    "\n",
    "You may assume that each input would have exactly one solution.\n",
    "\n",
    "Example 1:\n",
    "Input: nums = [-1,2,1,-4], target = 1\n",
    "Output: 2\n",
    "\n",
    "Explanation: The sum that is closest to the target is 2. (-1 + 2 + 1 = 2)."
   ]
  },
  {
   "cell_type": "markdown",
   "id": "909049c0",
   "metadata": {},
   "source": [
    "Ans:- \n",
    "    \n",
    "    To find three integers in the array nums such that the sum is closest to the target, we can use a two-pointer approach along with sorting the array.\n",
    "    \n",
    "1. Sort the array nums in ascending order.\n",
    "2. Initialize a variable closest_sum to store the sum that is closest to the target. Initialize it with a large value, such as infinity.\n",
    "3. Iterate over the array nums up to the second-to-last element.\n",
    "- Initialize two pointers, left and right, with left starting from the next element after the current one, and right starting from the end of the array.\n",
    "- While left is less than right, do the following:\n",
    "- Calculate the current sum as nums[i] + nums[left] + nums[right].\n",
    "- If the absolute difference between the current sum and the target is smaller than the absolute difference between closest_sum and the target, update closest_sum with the current sum.\n",
    "- If the current sum is less than the target, move the left pointer one step to the right.\n",
    "- If the current sum is greater than the target, move the right pointer one step to the left.\n",
    "4. Return closest_sum as the sum of the three integers closest to the target."
   ]
  },
  {
   "cell_type": "code",
   "execution_count": 1,
   "id": "b569e6a2",
   "metadata": {},
   "outputs": [
    {
     "name": "stdout",
     "output_type": "stream",
     "text": [
      "2\n"
     ]
    }
   ],
   "source": [
    "def threeSumClosest(nums, target):\n",
    "    nums.sort()  # Step 1: Sort the array in ascending order\n",
    "    n = len(nums)\n",
    "    closest_sum = float('inf')  # Step 2: Initialize closest_sum with a large value\n",
    "\n",
    "    for i in range(n - 2):  # Step 3: Iterate over the array up to the second-to-last element\n",
    "        left = i + 1\n",
    "        right = n - 1\n",
    "\n",
    "        while left < right:  # Step 3.1: Two-pointer approach\n",
    "            current_sum = nums[i] + nums[left] + nums[right]\n",
    "\n",
    "            if abs(current_sum - target) < abs(closest_sum - target):\n",
    "                closest_sum = current_sum\n",
    "\n",
    "            if current_sum < target:\n",
    "                left += 1\n",
    "            elif current_sum > target:\n",
    "                right -= 1\n",
    "            else:\n",
    "                return closest_sum  # If the sum is exactly equal to the target, return it\n",
    "\n",
    "    return closest_sum  # Step 4: Return closest_sum\n",
    "\n",
    "# Test case\n",
    "nums = [-1, 2, 1, -4]\n",
    "target = 1\n",
    "print(threeSumClosest(nums, target))  # Output: 2"
   ]
  },
  {
   "cell_type": "markdown",
   "id": "dd468aee",
   "metadata": {},
   "source": [
    "The output for the given test case is 2, which matches the expected result. The sum of the three integers [-1, 2, 1] is closest to the target of 1."
   ]
  },
  {
   "cell_type": "markdown",
   "id": "33d60d87",
   "metadata": {},
   "source": [
    "# Q2"
   ]
  },
  {
   "cell_type": "code",
   "execution_count": null,
   "id": "4245bacd",
   "metadata": {},
   "outputs": [],
   "source": [
    "Question 2\n",
    "Given an array nums of n integers, return an array of all the unique quadruplets\n",
    "[nums[a], nums[b], nums[c], nums[d]] such that:\n",
    "           ● 0 <= a, b, c, d < n\n",
    "           ● a, b, c, and d are distinct.\n",
    "           ● nums[a] + nums[b] + nums[c] + nums[d] == target\n",
    "\n",
    "You may return the answer in any order.\n",
    "\n",
    "Example 1:\n",
    "Input: nums = [1,0,-1,0,-2,2], target = 0\n",
    "Output: [[-2,-1,1,2],[-2,0,0,2],[-1,0,0,1]]"
   ]
  },
  {
   "cell_type": "markdown",
   "id": "dbb694db",
   "metadata": {},
   "source": [
    "Ans:- \n",
    "    \n",
    "    To find unique quadruplets in the array nums such that their sum is equal to the target, we can use a combination of sorting the array and applying a two-pointer approach along with nested loops.\n",
    "    \n",
    "    \n",
    "1. Sort the array nums in ascending order.\n",
    "2. Initialize an empty list quadruplets to store the unique quadruplets.\n",
    "3. Iterate over the array nums up to the second-to-last element.\n",
    "- If the current element is equal to the previous element, skip it to avoid duplicate quadruplets.\n",
    "- Iterate over the array starting from the next element after the current one up to the last element.\n",
    "- If the current element is equal to the previous element, skip it to avoid duplicate quadruplets.\n",
    "- Initialize two pointers, left and right, with left starting from the next element after the second loop's current element, and right starting from the end of the array.\n",
    "- While left is less than right, do the following:\n",
    "- Calculate the current sum as nums[i] + nums[j] + nums[left] + nums[right].\n",
    "- If the current sum is equal to the target, add the quadruplet [nums[i], nums[j], nums[left], nums[right]] to the quadruplets list.\n",
    "- Move left one step to the right and right one step to the left.\n",
    "- Update left and right until they point to different elements and are not equal to their previous values to avoid duplicate quadruplets.\n",
    "- If the current sum is less than the target, move the left pointer one step to the right.\n",
    "- If the current sum is greater than the target, move the right pointer one step to the left.\n",
    "4. Return the quadruplets list containing all the unique quadruplets."
   ]
  },
  {
   "cell_type": "code",
   "execution_count": 5,
   "id": "af1da966",
   "metadata": {},
   "outputs": [
    {
     "name": "stdout",
     "output_type": "stream",
     "text": [
      "[[-2, -1, 1, 2], [-2, 0, 0, 2], [-1, 0, 0, 1]]\n"
     ]
    }
   ],
   "source": [
    "def fourSum(nums, target):\n",
    "    nums.sort()  # Step 1: Sort the array in ascending order\n",
    "    n = len(nums)\n",
    "    result = []  # Step 2: Initialize an empty list to store the quadruplets\n",
    "\n",
    "    for i in range(n - 3):  # Step 3: Iterate over the array up to the second-to-last element\n",
    "        if i > 0 and nums[i] == nums[i - 1]:  # Skip duplicates for the outer loop\n",
    "            continue\n",
    "\n",
    "        for j in range(i + 1, n - 2):  # Inner loop\n",
    "            if j > i + 1 and nums[j] == nums[j - 1]:  # Skip duplicates for the inner loop\n",
    "                continue\n",
    "\n",
    "            left = j + 1\n",
    "            right = n - 1\n",
    "\n",
    "            while left < right:  # Two-pointer approach\n",
    "                current_sum = nums[i] + nums[j] + nums[left] + nums[right]\n",
    "\n",
    "                if current_sum == target:\n",
    "                    result.append([nums[i], nums[j], nums[left], nums[right]])\n",
    "\n",
    "                    # Skip duplicates for the inner loop\n",
    "                    while left < right and nums[left] == nums[left + 1]:\n",
    "                        left += 1\n",
    "                    while left < right and nums[right] == nums[right - 1]:\n",
    "                        right -= 1\n",
    "\n",
    "                    left += 1\n",
    "                    right -= 1\n",
    "                elif current_sum < target:\n",
    "                    left += 1\n",
    "                else:\n",
    "                    right -= 1\n",
    "\n",
    "    return result  # Step 4: Return the result list containing all unique quadruplets\n",
    "\n",
    "# Test case\n",
    "nums = [1, 0, -1, 0, -2, 2]\n",
    "target = 0\n",
    "print(fourSum(nums, target))  # Output: [[-2, -1, 1, 2], [-2, 0, 0, 2], [-1, 0, 0, 1]]\n"
   ]
  },
  {
   "cell_type": "markdown",
   "id": "b74b5639",
   "metadata": {},
   "source": [
    "The output for the given test case is [[ -2, -1, 1, 2], [-2, 0, 0, 2], [-1, 0, 0, 1]], which matches the expected result. It contains all the unique quadruplets whose sum is equal to the target of 0."
   ]
  },
  {
   "cell_type": "markdown",
   "id": "cc7b3189",
   "metadata": {},
   "source": [
    "# Q3"
   ]
  },
  {
   "cell_type": "code",
   "execution_count": null,
   "id": "49c0452c",
   "metadata": {},
   "outputs": [],
   "source": [
    "Question 3\n",
    "A permutation of an array of integers is an arrangement of its members into a\n",
    "sequence or linear order.\n",
    "\n",
    "For example, for arr = [1,2,3], the following are all the permutations of arr:\n",
    "[1,2,3], [1,3,2], [2, 1, 3], [2, 3, 1], [3,1,2], [3,2,1].\n",
    "\n",
    "The next permutation of an array of integers is the next lexicographically greater\n",
    "permutation of its integer. More formally, if all the permutations of the array are\n",
    "sorted in one container according to their lexicographical order, then the next\n",
    "permutation of that array is the permutation that follows it in the sorted container.\n",
    "\n",
    "If such an arrangement is not possible, the array must be rearranged as the\n",
    "lowest possible order (i.e., sorted in ascending order).\n",
    "\n",
    "● For example, the next permutation of arr = [1,2,3] is [1,3,2].\n",
    "● Similarly, the next permutation of arr = [2,3,1] is [3,1,2].\n",
    "● While the next permutation of arr = [3,2,1] is [1,2,3] because [3,2,1] does not\n",
    "have a lexicographical larger rearrangement.\n",
    "\n",
    "Given an array of integers nums, find the next permutation of nums.\n",
    "The replacement must be in place and use only constant extra memory.\n",
    "\n",
    "Example 1:\n",
    "Input: nums = [1,2,3]\n",
    "Output: [1,3,2]"
   ]
  },
  {
   "cell_type": "markdown",
   "id": "151a8a99",
   "metadata": {},
   "source": [
    "An:- \n",
    "    \n",
    "    To find the next permutation of an array nums\n",
    "1. Start from the rightmost element and find the first pair of adjacent elements nums[i] and nums[i-1] such that nums[i-1] < nums[i].\n",
    "- If such a pair does not exist, it means the array is in descending order, and we need to reverse the entire array to get the lowest possible order.\n",
    "2. Find the smallest element in the subarray nums[i:] that is greater than nums[i-1]. Let's call this element nums[j].\n",
    "3. Swap nums[i-1] with nums[j].\n",
    "4. Reverse the subarray nums[i:] to get the next lexicographically greater permutation."
   ]
  },
  {
   "cell_type": "code",
   "execution_count": 6,
   "id": "3b00e991",
   "metadata": {},
   "outputs": [
    {
     "name": "stdout",
     "output_type": "stream",
     "text": [
      "[1, 3, 2]\n"
     ]
    }
   ],
   "source": [
    "def nextPermutation(nums):\n",
    "    n = len(nums)\n",
    "    i = n - 2\n",
    "\n",
    "    # Find the first pair of adjacent elements such that nums[i-1] < nums[i]\n",
    "    while i >= 0 and nums[i] >= nums[i+1]:\n",
    "        i -= 1\n",
    "\n",
    "    if i >= 0:\n",
    "        j = n - 1\n",
    "        # Find the smallest element in nums[i:] that is greater than nums[i-1]\n",
    "        while j >= 0 and nums[j] <= nums[i]:\n",
    "            j -= 1\n",
    "        # Swap nums[i-1] with nums[j]\n",
    "        nums[i], nums[j] = nums[j], nums[i]\n",
    "\n",
    "    # Reverse the subarray nums[i:] to get the next permutation\n",
    "    left = i + 1\n",
    "    right = n - 1\n",
    "    while left < right:\n",
    "        nums[left], nums[right] = nums[right], nums[left]\n",
    "        left += 1\n",
    "        right -= 1\n",
    "\n",
    "# Test case\n",
    "nums = [1, 2, 3]\n",
    "nextPermutation(nums)\n",
    "print(nums)  # Output: [1, 3, 2]"
   ]
  },
  {
   "cell_type": "markdown",
   "id": "272038a0",
   "metadata": {},
   "source": [
    "The output for the given test case is [1, 3, 2], which is the next lexicographically greater permutation of the array [1, 2, 3]."
   ]
  },
  {
   "cell_type": "markdown",
   "id": "a1930332",
   "metadata": {},
   "source": [
    "# Q4"
   ]
  },
  {
   "cell_type": "code",
   "execution_count": null,
   "id": "66c3432e",
   "metadata": {},
   "outputs": [],
   "source": [
    "Question 4\n",
    "Given a sorted array of distinct integers and a target value, return the index if the\n",
    "target is found. If not, return the index where it would be if it were inserted in\n",
    "order.\n",
    "\n",
    "You must write an algorithm with O(log n) runtime complexity.\n",
    "\n",
    "Example 1:\n",
    "Input: nums = [1,3,5,6], target = 5\n",
    "Output: 2"
   ]
  },
  {
   "cell_type": "markdown",
   "id": "5e3a87f2",
   "metadata": {},
   "source": [
    "Ans:- \n",
    "    \n",
    "    To find the index where the target value should be inserted in a sorted array nums, we can use a modified version of the binary search algorithm.\n",
    "    \n",
    "1. Initialize two pointers, left and right, pointing to the start and end of the array, respectively.\n",
    "2. While left <= right, do the following:\n",
    "- Calculate the middle index as mid = (left + right) // 2.\n",
    "- If the target value is equal to nums[mid], return mid as the target value is found.\n",
    "- If the target value is less than nums[mid], update right = mid - 1 to search in the left half.\n",
    "- If the target value is greater than nums[mid], update left = mid + 1 to search in the right half.\n",
    "3. If the target value is not found in the array, the left pointer will indicate the index where it should be inserted."
   ]
  },
  {
   "cell_type": "code",
   "execution_count": 7,
   "id": "ec5aec48",
   "metadata": {},
   "outputs": [
    {
     "name": "stdout",
     "output_type": "stream",
     "text": [
      "2\n"
     ]
    }
   ],
   "source": [
    "def searchInsert(nums, target):\n",
    "    left = 0\n",
    "    right = len(nums) - 1\n",
    "\n",
    "    while left <= right:\n",
    "        mid = (left + right) // 2\n",
    "\n",
    "        if nums[mid] == target:\n",
    "            return mid\n",
    "        elif nums[mid] < target:\n",
    "            left = mid + 1\n",
    "        else:\n",
    "            right = mid - 1\n",
    "\n",
    "    return left\n",
    "\n",
    "# Test case\n",
    "nums = [1, 3, 5, 6]\n",
    "target = 5\n",
    "print(searchInsert(nums, target))  # Output: 2"
   ]
  },
  {
   "cell_type": "markdown",
   "id": "aefe66ab",
   "metadata": {},
   "source": [
    "The output for the given test case is 2, which is the index where the target value 5 is found in the sorted array [1, 3, 5, 6]."
   ]
  },
  {
   "cell_type": "markdown",
   "id": "baad23e1",
   "metadata": {},
   "source": [
    "# Q5"
   ]
  },
  {
   "cell_type": "code",
   "execution_count": null,
   "id": "822d98ac",
   "metadata": {},
   "outputs": [],
   "source": [
    "Question 5\n",
    "You are given a large integer represented as an integer array digits, where each\n",
    "digits[i] is the ith digit of the integer. The digits are ordered from most significant\n",
    "to least significant in left-to-right order. The large integer does not contain any\n",
    "leading 0's.\n",
    "\n",
    "Increment the large integer by one and return the resulting array of digits.\n",
    "\n",
    "Example 1:\n",
    "Input: digits = [1,2,3]\n",
    "Output: [1,2,4]\n",
    "\n",
    "Explanation: The array represents the integer 123.\n",
    "Incrementing by one gives 123 + 1 = 124.\n",
    "Thus, the result should be [1,2,4]."
   ]
  },
  {
   "cell_type": "markdown",
   "id": "ee612646",
   "metadata": {},
   "source": [
    "Ans:- \n",
    "    \n",
    "    To increment a large integer represented as an array of digits by one\n",
    "    \n",
    "1. Start from the rightmost digit and initialize a carry variable as 1.\n",
    "2. Iterate over the digits in reverse order:\n",
    "- Add the carry to the current digit.\n",
    "- If the sum is less than 10, update the current digit and set the carry to 0.\n",
    "- If the sum is equal to 10, update the current digit to 0 and set the carry to 1.\n",
    "3. After iterating through all the digits, if the carry is still 1, it means there was a carry in the most significant digit. In this case, append a new digit 1 at the beginning of the array.\n",
    "4. Reverse the array of digits to restore the correct order."
   ]
  },
  {
   "cell_type": "code",
   "execution_count": 8,
   "id": "c48674d5",
   "metadata": {},
   "outputs": [
    {
     "name": "stdout",
     "output_type": "stream",
     "text": [
      "[1, 2, 4]\n"
     ]
    }
   ],
   "source": [
    "def plusOne(digits):\n",
    "    n = len(digits)\n",
    "    carry = 1\n",
    "\n",
    "    for i in range(n - 1, -1, -1):\n",
    "        digits[i] += carry\n",
    "        if digits[i] < 10:\n",
    "            carry = 0\n",
    "            break\n",
    "        digits[i] = 0\n",
    "\n",
    "    if carry == 1:\n",
    "        digits.insert(0, 1)\n",
    "\n",
    "    return digits\n",
    "\n",
    "# Test case\n",
    "digits = [1, 2, 3]\n",
    "print(plusOne(digits))  # Output: [1, 2, 4]"
   ]
  },
  {
   "cell_type": "markdown",
   "id": "43ecdded",
   "metadata": {},
   "source": [
    "The output for the given test case is [1, 2, 4], which represents the integer 124, obtained by incrementing the original number 123 by one."
   ]
  },
  {
   "cell_type": "markdown",
   "id": "f7aa5fc2",
   "metadata": {},
   "source": [
    "# Q6"
   ]
  },
  {
   "cell_type": "code",
   "execution_count": null,
   "id": "e3076030",
   "metadata": {},
   "outputs": [],
   "source": [
    "Question 6\n",
    "Given a non-empty array of integers nums, every element appears twice except\n",
    "for one. Find that single one.\n",
    "\n",
    "You must implement a solution with a linear runtime complexity and use only\n",
    "constant extra space.\n",
    "\n",
    "Example 1:\n",
    "Input: nums = [2,2,1]\n",
    "Output: 1"
   ]
  },
  {
   "cell_type": "markdown",
   "id": "e6eed970",
   "metadata": {},
   "source": [
    "Ans:- \n",
    "    \n",
    "    To find the single element in an array where every element appears twice except for one, we can use the XOR operation. XORing an element with itself results in 0, and XORing any element with 0 results in the element itself.\n",
    "    \n",
    "1. Initialize a variable single as 0.\n",
    "2. Iterate through each element num in the array nums.\n",
    "- Update single by XORing it with num.\n",
    "3. At the end of the iteration, the value of single will be the single element in the array.\n",
    "4. Return the value of single."
   ]
  },
  {
   "cell_type": "code",
   "execution_count": 9,
   "id": "15a7ad5b",
   "metadata": {},
   "outputs": [
    {
     "name": "stdout",
     "output_type": "stream",
     "text": [
      "1\n"
     ]
    }
   ],
   "source": [
    "def singleNumber(nums):\n",
    "    single = 0\n",
    "\n",
    "    for num in nums:\n",
    "        single ^= num\n",
    "\n",
    "    return single\n",
    "\n",
    "# Test case\n",
    "nums = [2, 2, 1]\n",
    "print(singleNumber(nums))  # Output: 1"
   ]
  },
  {
   "cell_type": "markdown",
   "id": "f6679037",
   "metadata": {},
   "source": [
    "The output for the given test case is 1, which is the single element in the array [2, 2, 1]."
   ]
  },
  {
   "cell_type": "markdown",
   "id": "e204119a",
   "metadata": {},
   "source": [
    "# Q7"
   ]
  },
  {
   "cell_type": "code",
   "execution_count": null,
   "id": "b28b26de",
   "metadata": {},
   "outputs": [],
   "source": [
    "Question 7\n",
    "You are given an inclusive range [lower, upper] and a sorted unique integer array\n",
    "nums, where all elements are within the inclusive range.\n",
    "\n",
    "A number x is considered missing if x is in the range [lower, upper] and x is not in\n",
    "nums.\n",
    "\n",
    "Return the shortest sorted list of ranges that exactly covers all the missing\n",
    "numbers. That is, no element of nums is included in any of the ranges, and each\n",
    "missing number is covered by one of the ranges.\n",
    "\n",
    "Example 1:\n",
    "Input: nums = [0,1,3,50,75], lower = 0, upper = 99\n",
    "Output: [[2,2],[4,49],[51,74],[76,99]]\n",
    "\n",
    "Explanation: The ranges are:\n",
    "[2,2]\n",
    "[4,49]\n",
    "[51,74]\n",
    "[76,99]"
   ]
  },
  {
   "cell_type": "markdown",
   "id": "f428dfec",
   "metadata": {},
   "source": [
    "Ans:- \n",
    "    \n",
    "    To find the shortest sorted list of ranges that covers all the missing numbers within a given range, we can iterate through the given sorted array nums and identify the missing numbers. For each missing number, we can create a range starting from the previous number (or lower if it's the first missing number) and ending at the current missing number minus one. Finally, if there is a missing number after the last element of nums, we create a range from the last element plus one to upper.\n",
    "    \n",
    "1. Initialize an empty list result to store the ranges.\n",
    "2. Initialize a variable prev as lower - 1 to keep track of the previous number.\n",
    "3. Iterate through each element num in the array nums:\n",
    "- If num is greater than prev plus one, there is a missing number between prev plus one and num minus one. Create a range from prev plus one to num minus one and append it to result.\n",
    "- Update prev to num.\n",
    "4. If prev is less than upper, create a range from prev plus one to upper and append it to result.\n",
    "5. Return result."
   ]
  },
  {
   "cell_type": "code",
   "execution_count": 10,
   "id": "363ff207",
   "metadata": {},
   "outputs": [
    {
     "name": "stdout",
     "output_type": "stream",
     "text": [
      "[[2, 2], [4, 49], [51, 74], [76, 99]]\n"
     ]
    }
   ],
   "source": [
    "def findMissingRanges(nums, lower, upper):\n",
    "    result = []\n",
    "    prev = lower - 1\n",
    "\n",
    "    for num in nums:\n",
    "        if num > prev + 1:\n",
    "            result.append([prev + 1, num - 1])\n",
    "        prev = num\n",
    "\n",
    "    if prev < upper:\n",
    "        result.append([prev + 1, upper])\n",
    "\n",
    "    return result\n",
    "\n",
    "# Test case\n",
    "nums = [0, 1, 3, 50, 75]\n",
    "lower = 0\n",
    "upper = 99\n",
    "print(findMissingRanges(nums, lower, upper))  # Output: [[2, 2], [4, 49], [51, 74], [76, 99]]"
   ]
  },
  {
   "cell_type": "markdown",
   "id": "522ac55b",
   "metadata": {},
   "source": [
    "The output for the given test case is [[2, 2], [4, 49], [51, 74], [76, 99]], which represents the shortest sorted list of ranges that covers all the missing numbers within the range [0, 99] when considering the given array [0, 1, 3, 50, 75]."
   ]
  },
  {
   "cell_type": "markdown",
   "id": "45888446",
   "metadata": {},
   "source": [
    "# Q8"
   ]
  },
  {
   "cell_type": "code",
   "execution_count": null,
   "id": "250b0a05",
   "metadata": {},
   "outputs": [],
   "source": [
    "Question 8\n",
    "Given an array of meeting time intervals where intervals[i] = [starti, endi],\n",
    "determine if a person could attend all meetings.\n",
    "\n",
    "Example 1:\n",
    "Input: intervals = [[0,30],[5,10],[15,20]]\n",
    "Output: false"
   ]
  },
  {
   "cell_type": "markdown",
   "id": "1c0e166a",
   "metadata": {},
   "source": [
    "Ans:-\n",
    "    \n",
    "    To determine if a person could attend all meetings, we need to check if there are any overlapping intervals. If there is any overlap, it means that the person would have conflicting meetings and cannot attend all of them.\n",
    "    \n",
    "1. Sort the intervals based on their start times in ascending order.\n",
    "2. Iterate through the sorted intervals starting from the second interval:\n",
    "- Compare the start time of the current interval with the end time of the previous interval.\n",
    "- If the start time of the current interval is less than or equal to the end time of the previous interval, there is an overlap, and the person cannot attend all meetings. Return False.\n",
    "3. If there are no overlapping intervals, return True."
   ]
  },
  {
   "cell_type": "code",
   "execution_count": 11,
   "id": "0f2c1810",
   "metadata": {},
   "outputs": [
    {
     "name": "stdout",
     "output_type": "stream",
     "text": [
      "False\n"
     ]
    }
   ],
   "source": [
    "def canAttendMeetings(intervals):\n",
    "    intervals.sort(key=lambda x: x[0])  # Sort intervals based on start times\n",
    "\n",
    "    for i in range(1, len(intervals)):\n",
    "        if intervals[i][0] < intervals[i-1][1]:\n",
    "            return False\n",
    "\n",
    "    return True\n",
    "\n",
    "# Test case\n",
    "intervals = [[0, 30], [5, 10], [15, 20]]\n",
    "print(canAttendMeetings(intervals))  # Output: False"
   ]
  },
  {
   "cell_type": "markdown",
   "id": "dc743837",
   "metadata": {},
   "source": [
    "The output for the given test case is False, which means that a person cannot attend all meetings because there is an overlap between the intervals [0, 30] and [15, 20]."
   ]
  },
  {
   "cell_type": "code",
   "execution_count": null,
   "id": "d023cd93",
   "metadata": {},
   "outputs": [],
   "source": []
  },
  {
   "cell_type": "code",
   "execution_count": null,
   "id": "87f01cd9",
   "metadata": {},
   "outputs": [],
   "source": []
  }
 ],
 "metadata": {
  "kernelspec": {
   "display_name": "Python 3 (ipykernel)",
   "language": "python",
   "name": "python3"
  },
  "language_info": {
   "codemirror_mode": {
    "name": "ipython",
    "version": 3
   },
   "file_extension": ".py",
   "mimetype": "text/x-python",
   "name": "python",
   "nbconvert_exporter": "python",
   "pygments_lexer": "ipython3",
   "version": "3.9.13"
  }
 },
 "nbformat": 4,
 "nbformat_minor": 5
}
