{
 "cells": [
  {
   "cell_type": "markdown",
   "id": "86909805",
   "metadata": {},
   "source": [
    "# Q1"
   ]
  },
  {
   "cell_type": "code",
   "execution_count": null,
   "id": "1ef02f67",
   "metadata": {},
   "outputs": [],
   "source": [
    "Question 1\n",
    "Given an integer array nums of 2n integers, group these integers into n pairs (a1, b1), (a2, b2),..., (an, bn) such that the sum of min(ai, bi) for all i is maximized. Return the maximized sum.\n",
    "\n",
    "Example 1:\n",
    "Input: nums = [1,4,3,2]\n",
    "Output: 4\n",
    "\n",
    "Explanation: All possible pairings (ignoring the ordering of elements) are:\n",
    "\n",
    "1. (1, 4), (2, 3) -> min(1, 4) + min(2, 3) = 1 + 2 = 3\n",
    "2. (1, 3), (2, 4) -> min(1, 3) + min(2, 4) = 1 + 2 = 3\n",
    "3. (1, 2), (3, 4) -> min(1, 2) + min(3, 4) = 1 + 3 = 4\n",
    "So the maximum possible sum is 4"
   ]
  },
  {
   "cell_type": "markdown",
   "id": "550042ad",
   "metadata": {},
   "source": [
    "Ans:- \n",
    "    \n",
    "    To maximize the sum of the minimum elements in each pair, we need to pair the smallest numbers with each other. Sorting the array in ascending order will allow us to easily group the elements into pairs.\n",
    "    \n",
    "- Sort the given array nums in ascending order.\n",
    "- Initialize a variable max_sum to 0. This variable will store the maximum sum of minimum elements.\n",
    "- Iterate over the sorted array nums in steps of 2, starting from index 0.\n",
    "- For each iteration, add the element at the current index to max_sum.\n",
    "- Return the value of max_sum."
   ]
  },
  {
   "cell_type": "code",
   "execution_count": 1,
   "id": "7022c4e7",
   "metadata": {},
   "outputs": [
    {
     "name": "stdout",
     "output_type": "stream",
     "text": [
      "4\n"
     ]
    }
   ],
   "source": [
    "def array_pair_sum(nums):\n",
    "    nums.sort()  # Step 1: Sort the array in ascending order\n",
    "    max_sum = 0  # Step 2: Initialize max_sum\n",
    "\n",
    "    for i in range(0, len(nums), 2):  # Step 3: Iterate over the array in steps of 2\n",
    "        max_sum += nums[i]  # Add the current element to max_sum\n",
    "\n",
    "    return max_sum  # Step 4: Return max_sum\n",
    "\n",
    "# Test case\n",
    "nums = [1, 4, 3, 2]\n",
    "print(array_pair_sum(nums))  # Output: 4"
   ]
  },
  {
   "cell_type": "markdown",
   "id": "049501cb",
   "metadata": {},
   "source": [
    "The output for the given test case is 4, which matches the expected result."
   ]
  },
  {
   "cell_type": "markdown",
   "id": "d610d4cf",
   "metadata": {},
   "source": [
    "# Q2"
   ]
  },
  {
   "cell_type": "code",
   "execution_count": null,
   "id": "2518a4d0",
   "metadata": {},
   "outputs": [],
   "source": [
    "Question 2\n",
    "Alice has n candies, where the ith candy is of type candyType[i]. Alice noticed that she started to gain weight, so she visited a doctor. \n",
    "\n",
    "The doctor advised Alice to only eat n / 2 of the candies she has (n is always even). Alice likes her candies very much, and she wants to eat the maximum number of different types of candies while still following the doctor's advice. \n",
    "\n",
    "Given the integer array candyType of length n, return the maximum number of different types of candies she can eat if she only eats n / 2 of them.\n",
    "\n",
    "Example 1:\n",
    "Input: candyType = [1,1,2,2,3,3]\n",
    "Output: 3\n",
    "\n",
    "Explanation: Alice can only eat 6 / 2 = 3 candies. Since there are only 3 types, she can eat one of each type."
   ]
  },
  {
   "cell_type": "markdown",
   "id": "08c3c8c4",
   "metadata": {},
   "source": [
    "Ans:- \n",
    "\n",
    "To determine the maximum number of different types of candies Alice can eat while following the doctor's advice, we need to count the number of unique candy types in the given array. If the count of unique types is greater than or equal to n / 2, Alice can eat n / 2 different types of candies. Otherwise, she can eat all the unique types she has.\n",
    "\n",
    "\n",
    "1. Create a set unique_candies to store the unique candy types.\n",
    "2. Iterate over each candy in the array candyType.\n",
    "- Add each candy to the unique_candies set.\n",
    "3. Calculate the maximum number of different types of candies Alice can eat:\n",
    "- Take the minimum of the length of unique_candies and n / 2.\n",
    "- This ensures that if the count of unique types exceeds n / 2, Alice can only eat n / 2 different types.\n",
    "4. Return the maximum number of different types of candies."
   ]
  },
  {
   "cell_type": "code",
   "execution_count": 2,
   "id": "77fab64a",
   "metadata": {},
   "outputs": [
    {
     "name": "stdout",
     "output_type": "stream",
     "text": [
      "3\n"
     ]
    }
   ],
   "source": [
    "def max_num_of_different_types(candyType):\n",
    "    unique_candies = set()  # Step 1: Create a set to store unique candy types\n",
    "\n",
    "    for candy in candyType:  # Step 2: Iterate over each candy\n",
    "        unique_candies.add(candy)  # Add candy to the set\n",
    "\n",
    "    max_num = min(len(unique_candies), len(candyType) // 2)  # Step 3: Calculate the maximum number of different types\n",
    "\n",
    "    return max_num  # Step 4: Return the maximum number\n",
    "\n",
    "# Test case\n",
    "candyType = [1, 1, 2, 2, 3, 3]\n",
    "print(max_num_of_different_types(candyType))  # Output: 3"
   ]
  },
  {
   "cell_type": "markdown",
   "id": "146b2fd0",
   "metadata": {},
   "source": [
    "The output for the given test case is 3, which matches the expected result. Alice can eat one candy of each type, which results in three different types of candies."
   ]
  },
  {
   "cell_type": "markdown",
   "id": "7c6f3a55",
   "metadata": {},
   "source": [
    "# Q3"
   ]
  },
  {
   "cell_type": "code",
   "execution_count": null,
   "id": "6d7d22e5",
   "metadata": {},
   "outputs": [],
   "source": [
    "Question 3\n",
    "We define a harmonious array as an array where the difference between its maximum value\n",
    "and its minimum value is exactly 1.\n",
    "\n",
    "Given an integer array nums, return the length of its longest harmonious subsequence\n",
    "among all its possible subsequences.\n",
    "\n",
    "A subsequence of an array is a sequence that can be derived from the array by deleting some or no elements without changing the order of the remaining elements.\n",
    "\n",
    "Example 1:\n",
    "Input: nums = [1,3,2,2,5,2,3,7]\n",
    "Output: 5\n",
    "\n",
    "Explanation: The longest harmonious subsequence is [3,2,2,2,3]."
   ]
  },
  {
   "cell_type": "markdown",
   "id": "3a14b71d",
   "metadata": {},
   "source": [
    "Ans:- \n",
    "    \n",
    "    To find the length of the longest harmonious subsequence in the given array, we can use a hashmap to count the frequency of each number. By iterating over the array, we can check if the hashmap contains both the number and its adjacent number. If so, we can calculate the length of the harmonious subsequence formed by these two numbers and update the maximum length accordingly.\n",
    "    \n",
    "1. Create an empty hashmap num_counts to store the frequency of each number.\n",
    "2. Iterate over the array nums and update num_counts with the frequency of each number.\n",
    "3. Initialize a variable max_length to 0, which will store the maximum length of a harmonious subsequence.\n",
    "4. Iterate over the keys in num_counts.\n",
    "- For each key, check if both the key and key + 1 exist in num_counts.\n",
    "- If so, update max_length with the maximum value between max_length and the sum of the frequencies of the key and key + 1.\n",
    "5. Return max_length."
   ]
  },
  {
   "cell_type": "code",
   "execution_count": 3,
   "id": "ba0df73d",
   "metadata": {},
   "outputs": [
    {
     "name": "stdout",
     "output_type": "stream",
     "text": [
      "5\n"
     ]
    }
   ],
   "source": [
    "from collections import Counter\n",
    "\n",
    "def findLHS(nums):\n",
    "    num_counts = Counter(nums)  # Step 1: Create a hashmap to store frequency of each number\n",
    "    max_length = 0  # Step 3: Initialize max_length to 0\n",
    "\n",
    "    for num in num_counts:  # Step 4: Iterate over the keys in num_counts\n",
    "        if num + 1 in num_counts:  # Check if num + 1 exists in num_counts\n",
    "            length = num_counts[num] + num_counts[num + 1]  # Calculate the length of the harmonious subsequence\n",
    "            max_length = max(max_length, length)  # Update max_length\n",
    "\n",
    "    return max_length  # Step 5: Return max_length\n",
    "\n",
    "# Test case\n",
    "nums = [1, 3, 2, 2, 5, 2, 3, 7]\n",
    "print(findLHS(nums))  # Output: 5"
   ]
  },
  {
   "cell_type": "markdown",
   "id": "2824efe7",
   "metadata": {},
   "source": [
    "The output for the given test case is 5, which matches the expected result. The longest harmonious subsequence is [3, 2, 2, 2, 3], with a length of 5."
   ]
  },
  {
   "cell_type": "markdown",
   "id": "58f95a6d",
   "metadata": {},
   "source": [
    "# Q4"
   ]
  },
  {
   "cell_type": "code",
   "execution_count": null,
   "id": "6e447d80",
   "metadata": {},
   "outputs": [],
   "source": [
    "Question 4\n",
    "You have a long flowerbed in which some of the plots are planted, and some are not.\n",
    "However, flowers cannot be planted in adjacent plots.\n",
    "Given an integer array flowerbed containing 0's and 1's, where 0 means empty and 1 means not empty, and an integer n, return true if n new flowers can be planted in the flowerbed without violating the no-adjacent-flowers rule and false otherwise.\n",
    "\n",
    "Example 1:\n",
    "Input: flowerbed = [1,0,0,0,1], n = 1\n",
    "Output: true"
   ]
  },
  {
   "cell_type": "markdown",
   "id": "81758bda",
   "metadata": {},
   "source": [
    "Ans:- \n",
    "    \n",
    "    To determine if n new flowers can be planted in the given flowerbed without violating the no-adjacent-flowers rule, we can iterate over the flowerbed and check each plot. If a plot is empty (0) and its adjacent plots are also empty (0), we can plant a flower in that plot. We continue this process until we have planted n flowers or reached the end of the flowerbed.\n",
    "    \n",
    "1. Initialize a variable count to 0, which will store the count of newly planted flowers.\n",
    "2. Iterate over the flowerbed from index 0 to the end.\n",
    "- Check if the current plot is empty (0) and its adjacent plots are also empty (0).\n",
    "- If so, plant a flower in the current plot by setting its value to 1 and increment count by 1.\n",
    "- Update the adjacent plots to indicate that they are no longer empty by setting their values to -1.\n",
    "- Break the loop if count reaches n.\n",
    "3. Return count equal to n."
   ]
  },
  {
   "cell_type": "code",
   "execution_count": 4,
   "id": "53149f54",
   "metadata": {},
   "outputs": [
    {
     "name": "stdout",
     "output_type": "stream",
     "text": [
      "True\n"
     ]
    }
   ],
   "source": [
    "def can_place_flowers(flowerbed, n):\n",
    "    count = 0  # Step 1: Initialize count\n",
    "\n",
    "    for i in range(len(flowerbed)):  # Step 2: Iterate over the flowerbed\n",
    "        if flowerbed[i] == 0 and (i == 0 or flowerbed[i - 1] == 0) and (i == len(flowerbed) - 1 or flowerbed[i + 1] == 0):\n",
    "            # Check if current plot is empty and adjacent plots are also empty\n",
    "            flowerbed[i] = 1  # Plant a flower in the current plot\n",
    "            count += 1  # Increment count\n",
    "\n",
    "        if count == n:  # Break the loop if count reaches n\n",
    "            break\n",
    "\n",
    "    return count == n  # Step 3: Return whether count is equal to n\n",
    "\n",
    "# Test case\n",
    "flowerbed = [1, 0, 0, 0, 1]\n",
    "n = 1\n",
    "print(can_place_flowers(flowerbed, n))  # Output: True"
   ]
  },
  {
   "cell_type": "markdown",
   "id": "286114bc",
   "metadata": {},
   "source": [
    "The output for the given test case is True, which matches the expected result. It is possible to plant 1 new flower in the flowerbed without violating the no-adjacent-flowers rule."
   ]
  },
  {
   "cell_type": "markdown",
   "id": "8cddbb70",
   "metadata": {},
   "source": [
    "# Q5"
   ]
  },
  {
   "cell_type": "code",
   "execution_count": null,
   "id": "12ed46a3",
   "metadata": {},
   "outputs": [],
   "source": [
    "Question 5\n",
    "Given an integer array nums, find three numbers whose product is maximum and return the maximum product.\n",
    "\n",
    "Example 1:\n",
    "Input: nums = [1,2,3]\n",
    "Output: 6"
   ]
  },
  {
   "cell_type": "markdown",
   "id": "3740d907",
   "metadata": {},
   "source": [
    "Ans:- \n",
    "    \n",
    "    To find the maximum product of three numbers in the given array, we need to consider both positive and negative numbers. The maximum product can be achieved by either multiplying the three largest positive numbers or multiplying the two smallest negative numbers with the largest positive number.\n",
    "    \n",
    "1. Sort the array nums in ascending order.\n",
    "2. Calculate two possible products:\n",
    "- Multiply the three largest elements (last three elements after sorting) and store it in the variable product1.\n",
    "- Multiply the two smallest elements (first two elements after sorting) with the largest element (last element after sorting) and store it in the variable product2.\n",
    "3. Return the maximum value between product1 and product2."
   ]
  },
  {
   "cell_type": "code",
   "execution_count": 5,
   "id": "6235d8b0",
   "metadata": {},
   "outputs": [
    {
     "name": "stdout",
     "output_type": "stream",
     "text": [
      "6\n"
     ]
    }
   ],
   "source": [
    "def maximum_product(nums):\n",
    "    nums.sort()  # Step 1: Sort the array in ascending order\n",
    "\n",
    "    product1 = nums[-1] * nums[-2] * nums[-3]  # Calculate product of three largest elements\n",
    "    product2 = nums[0] * nums[1] * nums[-1]  # Calculate product of two smallest elements and the largest element\n",
    "\n",
    "    return max(product1, product2)  # Step 3: Return the maximum product\n",
    "\n",
    "# Test case\n",
    "nums = [1, 2, 3]\n",
    "print(maximum_product(nums))  # Output: 6"
   ]
  },
  {
   "cell_type": "markdown",
   "id": "833e724a",
   "metadata": {},
   "source": [
    "The output for the given test case is 6, which matches the expected result. The maximum product of three numbers in the array [1, 2, 3] is 6."
   ]
  },
  {
   "cell_type": "markdown",
   "id": "77992310",
   "metadata": {},
   "source": [
    "# Q6"
   ]
  },
  {
   "cell_type": "code",
   "execution_count": null,
   "id": "b0d409e8",
   "metadata": {},
   "outputs": [],
   "source": [
    "Question 6\n",
    "Given an array of integers nums which is sorted in ascending order, and an integer target,\n",
    "write a function to search target in nums. If target exists, then return its index. Otherwise,\n",
    "return -1.\n",
    "\n",
    "You must write an algorithm with O(log n) runtime complexity.\n",
    "\n",
    "Input: nums = [-1,0,3,5,9,12], target = 9\n",
    "Output: 4\n",
    "\n",
    "Explanation: 9 exists in nums and its index is 4"
   ]
  },
  {
   "cell_type": "markdown",
   "id": "1b1d3e7a",
   "metadata": {},
   "source": [
    "Ans:- \n",
    "    \n",
    "    To search for the target value in the sorted array nums and return its index, we can use the binary search algorithm. Since the array is already sorted, we can take advantage of its properties to achieve the desired runtime complexity of O(log n).\n",
    "    \n",
    "1. Initialize two pointers, left and right, pointing to the start and end of the array, respectively.\n",
    "2. While left is less than or equal to right, do the following:\n",
    "- Calculate the middle index as (left + right) // 2.\n",
    "- If the value at the middle index is equal to the target, return the middle index.\n",
    "- If the value at the middle index is greater than the target, update right to be mid - 1.\n",
    "- If the value at the middle index is less than the target, update left to be mid + 1.\n",
    "3. If the target is not found, return -1."
   ]
  },
  {
   "cell_type": "code",
   "execution_count": 6,
   "id": "5c51d0ee",
   "metadata": {},
   "outputs": [
    {
     "name": "stdout",
     "output_type": "stream",
     "text": [
      "4\n"
     ]
    }
   ],
   "source": [
    "def search(nums, target):\n",
    "    left = 0  # Step 1: Initialize left pointer\n",
    "    right = len(nums) - 1  # Initialize right pointer\n",
    "\n",
    "    while left <= right:  # Step 2: Binary search\n",
    "        mid = (left + right) // 2  # Calculate middle index\n",
    "\n",
    "        if nums[mid] == target:  # Target found\n",
    "            return mid\n",
    "        elif nums[mid] > target:  # Target is in the left half\n",
    "            right = mid - 1\n",
    "        else:  # Target is in the right half\n",
    "            left = mid + 1\n",
    "\n",
    "    return -1  # Step 3: Target not found\n",
    "\n",
    "# Test case\n",
    "nums = [-1, 0, 3, 5, 9, 12]\n",
    "target = 9\n",
    "print(search(nums, target))  # Output: 4"
   ]
  },
  {
   "cell_type": "markdown",
   "id": "79fce264",
   "metadata": {},
   "source": [
    "The output for the given test case is 4, which matches the expected result. The target value 9 exists in the array nums at index 4."
   ]
  },
  {
   "cell_type": "markdown",
   "id": "f8d6a9ed",
   "metadata": {},
   "source": [
    "# Q7"
   ]
  },
  {
   "cell_type": "code",
   "execution_count": null,
   "id": "6b567e74",
   "metadata": {},
   "outputs": [],
   "source": [
    "Question 7\n",
    "An array is monotonic if it is either monotone increasing or monotone decreasing.\n",
    "\n",
    "An array nums is monotone increasing if for all i <= j, nums[i] <= nums[j]. An array nums is\n",
    "monotone decreasing if for all i <= j, nums[i] >= nums[j].\n",
    "\n",
    "Given an integer array nums, return true if the given array is monotonic, or false otherwise.\n",
    "\n",
    "Example 1:\n",
    "Input: nums = [1,2,2,3]\n",
    "Output: true"
   ]
  },
  {
   "cell_type": "markdown",
   "id": "21f8505d",
   "metadata": {},
   "source": [
    "Ans:- \n",
    "    \n",
    "    To determine if an array is monotonic, we can check if it is either monotone increasing or monotone decreasing. We can do this by comparing adjacent elements in the array.\n",
    "    \n",
    "1. Initialize two boolean variables, isIncreasing and isDecreasing, to True.\n",
    "2. Iterate over the array nums from index 1 to the end.\n",
    "- If the current element is greater than the previous element, update isDecreasing to False.\n",
    "- If the current element is less than the previous element, update isIncreasing to False.\n",
    "- If both isIncreasing and isDecreasing are False, return False.\n",
    "3. Return True if either isIncreasing or isDecreasing is True, indicating that the array is monotonic."
   ]
  },
  {
   "cell_type": "code",
   "execution_count": 7,
   "id": "55c5f07c",
   "metadata": {},
   "outputs": [
    {
     "name": "stdout",
     "output_type": "stream",
     "text": [
      "True\n"
     ]
    }
   ],
   "source": [
    "def isMonotonic(nums):\n",
    "    isIncreasing = True  # Step 1: Initialize isIncreasing to True\n",
    "    isDecreasing = True  # Initialize isDecreasing to True\n",
    "\n",
    "    for i in range(1, len(nums)):  # Step 2: Iterate over the array from index 1\n",
    "        if nums[i] > nums[i - 1]:  # Check if current element is greater than previous element\n",
    "            isDecreasing = False\n",
    "        elif nums[i] < nums[i - 1]:  # Check if current element is less than previous element\n",
    "            isIncreasing = False\n",
    "\n",
    "        if not isIncreasing and not isDecreasing:  # Check if both isIncreasing and isDecreasing are False\n",
    "            return False\n",
    "\n",
    "    return isIncreasing or isDecreasing  # Step 3: Return True if either isIncreasing or isDecreasing is True\n",
    "\n",
    "# Test case\n",
    "nums = [1, 2, 2, 3]\n",
    "print(isMonotonic(nums))  # Output: True"
   ]
  },
  {
   "cell_type": "markdown",
   "id": "2d4c1b27",
   "metadata": {},
   "source": [
    "The output for the given test case is True, which matches the expected result. The array [1, 2, 2, 3] is monotonic as it is monotone increasing."
   ]
  },
  {
   "cell_type": "markdown",
   "id": "2028c6a0",
   "metadata": {},
   "source": [
    "# Q8"
   ]
  },
  {
   "cell_type": "code",
   "execution_count": null,
   "id": "cfa612f6",
   "metadata": {},
   "outputs": [],
   "source": [
    "Question 8\n",
    "You are given an integer array nums and an integer k.\n",
    "\n",
    "In one operation, you can choose any index i where 0 <= i < nums.length and change nums[i] to nums[i] + x where x is an integer from the range [-k, k]. You can apply this operation at most once for each index i.\n",
    "\n",
    "The score of nums is the difference between the maximum and minimum elements in nums.\n",
    "\n",
    "Return the minimum score of nums after applying the mentioned operation at most once for each index in it.\n",
    "\n",
    "Example 1:\n",
    "Input: nums = [1], k = 0\n",
    "Output: 0\n",
    "\n",
    "Explanation: The score is max(nums) - min(nums) = 1 - 1 = 0."
   ]
  },
  {
   "cell_type": "markdown",
   "id": "9563e360",
   "metadata": {},
   "source": [
    "Ans:- \n",
    "    \n",
    "    To minimize the score of the given array nums after applying the mentioned operation at most once for each index\n",
    "    \n",
    "1. Find the minimum and maximum values in the array nums and calculate the initial score as max(nums) - min(nums).\n",
    "2. If the difference between the minimum and maximum values is already 2 * k or greater, return the initial score, as it cannot be further minimized.\n",
    "3. Otherwise, adjust the minimum and maximum values using the operation.\n",
    "- Add k to the minimum value and subtract k from the maximum value to make the range as small as possible.\n",
    "4. Return the updated score as max(nums) - min(nums)."
   ]
  },
  {
   "cell_type": "code",
   "execution_count": 8,
   "id": "66989caf",
   "metadata": {},
   "outputs": [
    {
     "name": "stdout",
     "output_type": "stream",
     "text": [
      "0\n"
     ]
    }
   ],
   "source": [
    "def minScore(nums, k):\n",
    "    minimum = min(nums)  # Step 1: Find the minimum value\n",
    "    maximum = max(nums)  # Find the maximum value\n",
    "\n",
    "    if maximum - minimum >= 2 * k:  # Step 2: Check if difference is already 2*k or greater\n",
    "        return maximum - minimum\n",
    "\n",
    "    # Step 3: Adjust minimum and maximum values\n",
    "    minimum += k\n",
    "    maximum -= k\n",
    "\n",
    "    # Step 4: Return updated score\n",
    "    return maximum - minimum\n",
    "\n",
    "# Test case\n",
    "nums = [1]\n",
    "k = 0\n",
    "print(minScore(nums, k))  # Output: 0"
   ]
  },
  {
   "cell_type": "markdown",
   "id": "2f325f23",
   "metadata": {},
   "source": [
    "The output for the given test case is 0, which matches the expected result. The minimum score of the array [1] after applying the operation at most once for each index is 0, as the difference between the maximum and minimum values is already 0."
   ]
  },
  {
   "cell_type": "code",
   "execution_count": null,
   "id": "79980b2b",
   "metadata": {},
   "outputs": [],
   "source": []
  },
  {
   "cell_type": "code",
   "execution_count": null,
   "id": "d682e8eb",
   "metadata": {},
   "outputs": [],
   "source": []
  }
 ],
 "metadata": {
  "kernelspec": {
   "display_name": "Python 3 (ipykernel)",
   "language": "python",
   "name": "python3"
  },
  "language_info": {
   "codemirror_mode": {
    "name": "ipython",
    "version": 3
   },
   "file_extension": ".py",
   "mimetype": "text/x-python",
   "name": "python",
   "nbconvert_exporter": "python",
   "pygments_lexer": "ipython3",
   "version": "3.9.13"
  }
 },
 "nbformat": 4,
 "nbformat_minor": 5
}
