{
 "cells": [
  {
   "cell_type": "markdown",
   "id": "df61b426",
   "metadata": {},
   "source": [
    "# Q1"
   ]
  },
  {
   "cell_type": "code",
   "execution_count": null,
   "id": "4874976b",
   "metadata": {},
   "outputs": [],
   "source": [
    "Question 1\n",
    "\n",
    "Given two strings s and t, determine if they are isomorphic.\n",
    "\n",
    "Two strings s and t are isomorphic if the characters in s can be replaced to get t.\n",
    "\n",
    "All occurrences of a character must be replaced with another character while preserving the order of characters. No two characters may map to the same character, but a character may map to itself.\n",
    "\n",
    "Example 1:\n",
    "\n",
    "Input: s = \"egg\", t = \"add\"\n",
    "\n",
    "Output: true"
   ]
  },
  {
   "cell_type": "markdown",
   "id": "9e280085",
   "metadata": {},
   "source": [
    "Ans:- \n",
    "    \n",
    "To determine if two strings s and t are isomorphic, we need to check if there is a one-to-one mapping between the characters of s and t. In other words, each character in s should correspond to exactly one character in t, and vice versa."
   ]
  },
  {
   "cell_type": "code",
   "execution_count": 1,
   "id": "46409a8d",
   "metadata": {},
   "outputs": [],
   "source": [
    "def isIsomorphic(s, t):\n",
    "    if len(s) != len(t):\n",
    "        return False\n",
    "    \n",
    "    mapping_s = {}\n",
    "    mapping_t = {}\n",
    "    \n",
    "    for i in range(len(s)):\n",
    "        char_s = s[i]\n",
    "        char_t = t[i]\n",
    "        \n",
    "        if char_s in mapping_s:\n",
    "            if mapping_s[char_s] != char_t:\n",
    "                return False\n",
    "        else:\n",
    "            mapping_s[char_s] = char_t\n",
    "        \n",
    "        if char_t in mapping_t:\n",
    "            if mapping_t[char_t] != char_s:\n",
    "                return False\n",
    "        else:\n",
    "            mapping_t[char_t] = char_s\n",
    "    \n",
    "    return True"
   ]
  },
  {
   "cell_type": "code",
   "execution_count": 2,
   "id": "d36a3b8d",
   "metadata": {},
   "outputs": [
    {
     "name": "stdout",
     "output_type": "stream",
     "text": [
      "True\n"
     ]
    }
   ],
   "source": [
    "s = \"egg\"\n",
    "t = \"add\"\n",
    "print(isIsomorphic(s, t))"
   ]
  },
  {
   "cell_type": "markdown",
   "id": "e335f3ec",
   "metadata": {},
   "source": [
    "The output is True, indicating that the strings s and t are isomorphic.\n",
    "\n",
    "The algorithm iterates through each character of s and t. It maintains two dictionaries (mapping_s and mapping_t) to store the mappings between characters. For each character, it checks if the character has been encountered before. If it has, it verifies if the mapping is consistent. If not, it adds the mapping to the respective dictionary. If at any point a mapping is found to be inconsistent, the function returns False. If the entire iteration completes without finding any inconsistent mappings, the function returns True."
   ]
  },
  {
   "cell_type": "markdown",
   "id": "c7755002",
   "metadata": {},
   "source": [
    "# Q2"
   ]
  },
  {
   "cell_type": "code",
   "execution_count": null,
   "id": "29973794",
   "metadata": {},
   "outputs": [],
   "source": [
    "Question 2\n",
    "\n",
    "Given a string num which represents an integer, return true if num is a strobogrammatic number.\n",
    "\n",
    "A strobogrammatic number is a number that looks the same when rotated 180 degrees (looked at upside down).\n",
    "\n",
    "Example 1:\n",
    "\n",
    "Input: num = \"69\"\n",
    "\n",
    "Output:\n",
    "\n",
    "true"
   ]
  },
  {
   "cell_type": "markdown",
   "id": "fc59bbe5",
   "metadata": {},
   "source": [
    "Ans:-\n",
    "    To determine if a given string num is a strobogrammatic number, we need to check if the string reads the same when rotated 180 degrees. In other words, the characters in the string should have valid pairs that result in the same character when rotated."
   ]
  },
  {
   "cell_type": "code",
   "execution_count": 3,
   "id": "aca91f41",
   "metadata": {},
   "outputs": [],
   "source": [
    "def isStrobogrammatic(num):\n",
    "    mapping = {'0': '0', '1': '1', '6': '9', '8': '8', '9': '6'}\n",
    "    \n",
    "    left = 0\n",
    "    right = len(num) - 1\n",
    "    \n",
    "    while left <= right:\n",
    "        if num[left] not in mapping or mapping[num[left]] != num[right]:\n",
    "            return False\n",
    "        left += 1\n",
    "        right -= 1\n",
    "    \n",
    "    return True"
   ]
  },
  {
   "cell_type": "code",
   "execution_count": 4,
   "id": "4368e24b",
   "metadata": {},
   "outputs": [
    {
     "name": "stdout",
     "output_type": "stream",
     "text": [
      "True\n"
     ]
    }
   ],
   "source": [
    "num = \"69\"\n",
    "print(isStrobogrammatic(num))"
   ]
  },
  {
   "cell_type": "markdown",
   "id": "7fcff48d",
   "metadata": {},
   "source": [
    "The algorithm uses a dictionary mapping to store the valid pairs of characters. It then compares the characters from the left and right ends of the string. If the character on the left is not in the mapping or its mapped value doesn't match the character on the right, the function returns False. If the entire iteration completes without finding any inconsistencies, the function returns True."
   ]
  },
  {
   "cell_type": "markdown",
   "id": "d64b7cb6",
   "metadata": {},
   "source": [
    "# Q3"
   ]
  },
  {
   "cell_type": "code",
   "execution_count": null,
   "id": "ae4a75d6",
   "metadata": {},
   "outputs": [],
   "source": [
    "Question 3\n",
    "\n",
    "Given two non-negative integers, num1 and num2 represented as string, return the sum of num1 and num2 as a string.\n",
    "\n",
    "You must solve the problem without using any built-in library for handling large integers (such as BigInteger). You must also not convert the inputs to integers directly.\n",
    "\n",
    "Example 1:\n",
    "\n",
    "Input: num1 = \"11\", num2 = \"123\"\n",
    "\n",
    "Output:\n",
    "\n",
    "\"134\""
   ]
  },
  {
   "cell_type": "markdown",
   "id": "654ae6b7",
   "metadata": {},
   "source": [
    "Ans:- \n",
    "    To add two non-negative integers num1 and num2 represented as strings, we can perform digit-by-digit addition similar to how we do it manually. We start from the least significant digits and keep track of the carry as we move towards the most significant digits."
   ]
  },
  {
   "cell_type": "code",
   "execution_count": 5,
   "id": "0b489c5a",
   "metadata": {},
   "outputs": [],
   "source": [
    "def addStrings(num1, num2):\n",
    "    result = []\n",
    "    carry = 0\n",
    "    i = len(num1) - 1\n",
    "    j = len(num2) - 1\n",
    "    \n",
    "    while i >= 0 or j >= 0 or carry > 0:\n",
    "        digit1 = int(num1[i]) if i >= 0 else 0\n",
    "        digit2 = int(num2[j]) if j >= 0 else 0\n",
    "        \n",
    "        total = digit1 + digit2 + carry\n",
    "        carry = total // 10\n",
    "        digit = total % 10\n",
    "        \n",
    "        result.append(str(digit))\n",
    "        \n",
    "        i -= 1\n",
    "        j -= 1\n",
    "    \n",
    "    return ''.join(result[::-1])"
   ]
  },
  {
   "cell_type": "code",
   "execution_count": 6,
   "id": "ba046825",
   "metadata": {},
   "outputs": [
    {
     "name": "stdout",
     "output_type": "stream",
     "text": [
      "134\n"
     ]
    }
   ],
   "source": [
    "num1 = \"11\"\n",
    "num2 = \"123\"\n",
    "print(addStrings(num1, num2))"
   ]
  },
  {
   "cell_type": "markdown",
   "id": "f442747e",
   "metadata": {},
   "source": [
    "The output is \"134\", which is the sum of num1 and num2 as a string.\n",
    "\n",
    "The algorithm iterates through the input strings num1 and num2 from right to left, adding the corresponding digits along with the carry. The carry is updated based on the sum of the current digits. The result is constructed by appending the digits to a list. Finally, the list is reversed and joined to form the resulting string."
   ]
  },
  {
   "cell_type": "markdown",
   "id": "35a6d869",
   "metadata": {},
   "source": [
    "# Q4"
   ]
  },
  {
   "cell_type": "code",
   "execution_count": null,
   "id": "e1f1082f",
   "metadata": {},
   "outputs": [],
   "source": [
    "Question 4\n",
    "\n",
    "Given a string s, reverse the order of characters in each word within a sentence while still preserving whitespace and initial word order.\n",
    "\n",
    "Example 1:\n",
    "\n",
    "Input: s = \"Let's take LeetCode contest\"\n",
    "\n",
    "Output: \"s'teL ekat edoCteeL tsetnoc\""
   ]
  },
  {
   "cell_type": "markdown",
   "id": "90b5397e",
   "metadata": {},
   "source": [
    "Ans:- \n",
    "    To reverse the order of characters in each word within a sentence while preserving whitespace and initial word order, we can split the sentence into individual words, reverse each word, and then join them back together."
   ]
  },
  {
   "cell_type": "code",
   "execution_count": 7,
   "id": "c592047d",
   "metadata": {},
   "outputs": [],
   "source": [
    "def reverseWords(s):\n",
    "    words = s.split()  # Split the sentence into words\n",
    "    reversed_words = [word[::-1] for word in words]  # Reverse each word\n",
    "    return ' '.join(reversed_words)  # Join the reversed words with whitespace\n"
   ]
  },
  {
   "cell_type": "code",
   "execution_count": 8,
   "id": "b0f05d4b",
   "metadata": {},
   "outputs": [
    {
     "name": "stdout",
     "output_type": "stream",
     "text": [
      "s'teL ekat edoCteeL tsetnoc\n"
     ]
    }
   ],
   "source": [
    "s = \"Let's take LeetCode contest\"\n",
    "print(reverseWords(s))"
   ]
  },
  {
   "cell_type": "markdown",
   "id": "ce7ea467",
   "metadata": {},
   "source": [
    "The output is \"s'teL ekat edoCteeL tsetnoc\", which is the sentence with the order of characters reversed within each word while preserving whitespace and initial word order.\n",
    "\n",
    "The function splits the input sentence s using whitespace as the delimiter, creating a list of words. It then applies a list comprehension to reverse each word by using slicing ([::-1]). Finally, it joins the reversed words back together using ' '.join() and returns the result."
   ]
  },
  {
   "cell_type": "markdown",
   "id": "a60a8e54",
   "metadata": {},
   "source": [
    "# Q5"
   ]
  },
  {
   "cell_type": "code",
   "execution_count": null,
   "id": "e530ebf8",
   "metadata": {},
   "outputs": [],
   "source": [
    "Question 5\n",
    "\n",
    "Given a string s and an integer k, reverse the first k characters for every 2k characters counting from the start of the string.\n",
    "\n",
    "If there are fewer than k characters left, reverse all of them. If there are less than 2k but greater than or equal to k characters, then reverse the first k characters and leave the other as original.\n",
    "\n",
    "Example 1:\n",
    "\n",
    "Input: s = \"abcdefg\", k = 2\n",
    "\n",
    "Output:\n",
    "\n",
    "\"bacdfeg\""
   ]
  },
  {
   "cell_type": "markdown",
   "id": "f895f228",
   "metadata": {},
   "source": [
    "Ans:- \n",
    "    To reverse the first k characters for every 2k characters counting from the start of the string, we can iterate through the string and reverse the appropriate substrings."
   ]
  },
  {
   "cell_type": "code",
   "execution_count": 9,
   "id": "5b4f3007",
   "metadata": {},
   "outputs": [],
   "source": [
    "def reverseStr(s, k):\n",
    "    # Convert the string to a list of characters\n",
    "    chars = list(s)\n",
    "    \n",
    "    # Iterate through the string with a step of 2k\n",
    "    for i in range(0, len(chars), 2*k):\n",
    "        # Reverse the first k characters\n",
    "        chars[i:i+k] = reversed(chars[i:i+k])\n",
    "    \n",
    "    # Convert the list of characters back to a string\n",
    "    return ''.join(chars)"
   ]
  },
  {
   "cell_type": "code",
   "execution_count": 10,
   "id": "b973634d",
   "metadata": {},
   "outputs": [
    {
     "name": "stdout",
     "output_type": "stream",
     "text": [
      "bacdfeg\n"
     ]
    }
   ],
   "source": [
    "s = \"abcdefg\"\n",
    "k = 2\n",
    "print(reverseStr(s, k))"
   ]
  },
  {
   "cell_type": "markdown",
   "id": "721478f5",
   "metadata": {},
   "source": [
    "The output is \"bacdfeg\", which is the string with the first k characters reversed for every 2k characters starting from the beginning of the string.\n",
    "\n",
    "The function converts the input string s to a list of characters. Then, it iterates through the string with a step of 2k, reversing the first k characters in each iteration using list slicing and the reversed() function. Finally, it converts the list of characters back to a string using ''.join() and returns the result."
   ]
  },
  {
   "cell_type": "markdown",
   "id": "749cde66",
   "metadata": {},
   "source": [
    "# Q6"
   ]
  },
  {
   "cell_type": "code",
   "execution_count": null,
   "id": "89dd46d1",
   "metadata": {},
   "outputs": [],
   "source": [
    "Question 6\n",
    "\n",
    "Given two strings s and goal, return true if and only if s can become goal after some number of shifts on s.\n",
    "\n",
    "A shift on s consists of moving the leftmost character of s to the rightmost position.\n",
    "\n",
    "- For example, if s = \"abcde\", then it will be \"bcdea\" after one shift.\n",
    "\n",
    "Example 1:\n",
    "\n",
    "Input: s = \"abcde\", goal = \"cdeab\"\n",
    "\n",
    "Output:\n",
    "\n",
    "true"
   ]
  },
  {
   "cell_type": "markdown",
   "id": "91a31e90",
   "metadata": {},
   "source": [
    "Ans:- \n",
    "    To check if a string s can become goal after some number of shifts, we can concatenate s with itself to form a new string s2. Then we check if goal is a substring of s2."
   ]
  },
  {
   "cell_type": "code",
   "execution_count": 11,
   "id": "52adbd63",
   "metadata": {},
   "outputs": [],
   "source": [
    "def rotateString(s, goal):\n",
    "    # Check if the lengths of s and goal are equal\n",
    "    if len(s) != len(goal):\n",
    "        return False\n",
    "    \n",
    "    # Concatenate s with itself\n",
    "    s2 = s + s\n",
    "    \n",
    "    # Check if goal is a substring of s2\n",
    "    if goal in s2:\n",
    "        return True\n",
    "    \n",
    "    return False"
   ]
  },
  {
   "cell_type": "code",
   "execution_count": 12,
   "id": "8e95c3bb",
   "metadata": {},
   "outputs": [
    {
     "name": "stdout",
     "output_type": "stream",
     "text": [
      "True\n"
     ]
    }
   ],
   "source": [
    "s = \"abcde\"\n",
    "goal = \"cdeab\"\n",
    "print(rotateString(s, goal))"
   ]
  },
  {
   "cell_type": "markdown",
   "id": "75722981",
   "metadata": {},
   "source": [
    "The output is True, which means s can become goal after some number of shifts.\n",
    "\n",
    "The function first checks if the lengths of s and goal are equal. If they are not equal, it returns False since it is not possible for s to become goal. Otherwise, it concatenates s with itself to form s2. Then, it checks if goal is a substring of s2. If it is, it returns True; otherwise, it returns False"
   ]
  },
  {
   "cell_type": "markdown",
   "id": "14c3c30e",
   "metadata": {},
   "source": [
    "# Q7"
   ]
  },
  {
   "cell_type": "code",
   "execution_count": null,
   "id": "e5ee025d",
   "metadata": {},
   "outputs": [],
   "source": [
    "Question 7\n",
    "\n",
    "Given two strings s and t, return true if they are equal when both are typed into empty text editors. '#' means a backspace character.\n",
    "\n",
    "Note that after backspacing an empty text, the text will continue empty.\n",
    "\n",
    "Example 1:\n",
    "\n",
    "Input: s = \"ab#c\", t = \"ad#c\"\n",
    "\n",
    "Output: true\n",
    "\n",
    "Explanation:\n",
    "\n",
    "Both s and t become \"ac\"."
   ]
  },
  {
   "cell_type": "code",
   "execution_count": null,
   "id": "62494607",
   "metadata": {},
   "outputs": [],
   "source": [
    "Ans:-\n",
    "    To compare two strings s and t that contain backspace characters ('#'), we can use a stack-based approach."
   ]
  },
  {
   "cell_type": "code",
   "execution_count": 13,
   "id": "25e36e77",
   "metadata": {},
   "outputs": [],
   "source": [
    "def backspaceCompare(s, t):\n",
    "    def process_string(string):\n",
    "        stack = []\n",
    "        for char in string:\n",
    "            if char != '#':\n",
    "                stack.append(char)\n",
    "            elif stack:\n",
    "                stack.pop()\n",
    "        return ''.join(stack)\n",
    "    \n",
    "    return process_string(s) == process_string(t)"
   ]
  },
  {
   "cell_type": "code",
   "execution_count": 14,
   "id": "1acf7293",
   "metadata": {},
   "outputs": [
    {
     "name": "stdout",
     "output_type": "stream",
     "text": [
      "True\n"
     ]
    }
   ],
   "source": [
    "s = \"ab#c\"\n",
    "t = \"ad#c\"\n",
    "print(backspaceCompare(s, t))"
   ]
  },
  {
   "cell_type": "markdown",
   "id": "7649dc96",
   "metadata": {},
   "source": [
    "The output is True, indicating that both s and t become \"ac\" after applying the backspace operations.\n",
    "\n",
    "The function process_string takes a string as input and simulates the effect of backspacing by using a stack. It iterates over each character in the string. If the character is not a backspace ('#'), it is added to the stack. If the character is a backspace and the stack is not empty, the topmost element is removed (as if a backspace is applied). Finally, the function returns the processed string by joining the characters in the stack.\n",
    "\n",
    "The main function backspaceCompare applies the process_string function to both input strings s and t and compares the processed strings for equality. If they are equal, it returns True; otherwise, it returns False."
   ]
  },
  {
   "cell_type": "markdown",
   "id": "477ef0fb",
   "metadata": {},
   "source": [
    "# Q8"
   ]
  },
  {
   "cell_type": "code",
   "execution_count": null,
   "id": "51277118",
   "metadata": {},
   "outputs": [],
   "source": [
    "Question 8\n",
    "\n",
    "You are given an array coordinates, coordinates[i] = [x, y], where [x, y] represents the coordinate of a point. Check if these points make a straight line in the XY plane.\n",
    "\n",
    "Example 1:\n",
    "\n",
    "Input: coordinates = [[1,2],[2,3],[3,4],[4,5],[5,6],[6,7]]\n",
    "\n",
    "Output: true"
   ]
  },
  {
   "cell_type": "code",
   "execution_count": null,
   "id": "0bceb080",
   "metadata": {},
   "outputs": [],
   "source": [
    "Ans:- \n",
    "    To check if the given array of coordinates forms a straight line in the XY plane, we can utilize the concept of slope."
   ]
  },
  {
   "cell_type": "code",
   "execution_count": 15,
   "id": "e56b7ed2",
   "metadata": {},
   "outputs": [],
   "source": [
    "def checkStraightLine(coordinates):\n",
    "    # Calculate the slope between the first two points\n",
    "    x0, y0 = coordinates[0]\n",
    "    x1, y1 = coordinates[1]\n",
    "    initial_slope = (y1 - y0) / (x1 - x0) if x1 - x0 != 0 else float('inf')\n",
    "\n",
    "    # Check if the slope between subsequent points is the same\n",
    "    for i in range(2, len(coordinates)):\n",
    "        xi, yi = coordinates[i]\n",
    "        slope = (yi - y0) / (xi - x0) if xi - x0 != 0 else float('inf')\n",
    "        if slope != initial_slope:\n",
    "            return False\n",
    "\n",
    "    return True"
   ]
  },
  {
   "cell_type": "code",
   "execution_count": 16,
   "id": "771aa6bc",
   "metadata": {},
   "outputs": [
    {
     "name": "stdout",
     "output_type": "stream",
     "text": [
      "True\n"
     ]
    }
   ],
   "source": [
    "coordinates = [[1,2],[2,3],[3,4],[4,5],[5,6],[6,7]]\n",
    "print(checkStraightLine(coordinates))"
   ]
  },
  {
   "cell_type": "markdown",
   "id": "2acdf23a",
   "metadata": {},
   "source": [
    "The output is True, indicating that the given coordinates form a straight line in the XY plane.\n",
    "\n",
    "The function checkStraightLine takes the array of coordinates as input. It calculates the slope between the first two points (x0, y0) and (x1, y1). If the difference in x values is zero, the slope is set to infinity to handle the case of vertical lines. Then, it iterates through the remaining coordinates and calculates the slope between each point and the initial point (x0, y0). If any of the calculated slopes differ from the initial slope, the function returns False indicating that the coordinates do not form a straight line. If all slopes are the same, the function returns True."
   ]
  },
  {
   "cell_type": "code",
   "execution_count": null,
   "id": "a1ea5969",
   "metadata": {},
   "outputs": [],
   "source": []
  },
  {
   "cell_type": "code",
   "execution_count": null,
   "id": "d747825b",
   "metadata": {},
   "outputs": [],
   "source": []
  }
 ],
 "metadata": {
  "kernelspec": {
   "display_name": "Python 3 (ipykernel)",
   "language": "python",
   "name": "python3"
  },
  "language_info": {
   "codemirror_mode": {
    "name": "ipython",
    "version": 3
   },
   "file_extension": ".py",
   "mimetype": "text/x-python",
   "name": "python",
   "nbconvert_exporter": "python",
   "pygments_lexer": "ipython3",
   "version": "3.9.13"
  }
 },
 "nbformat": 4,
 "nbformat_minor": 5
}
