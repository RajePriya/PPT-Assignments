{
 "cells": [
  {
   "cell_type": "markdown",
   "id": "522c5640",
   "metadata": {},
   "source": [
    "# Q1"
   ]
  },
  {
   "cell_type": "code",
   "execution_count": null,
   "id": "f2db1333",
   "metadata": {},
   "outputs": [],
   "source": [
    "Q.1 <!DOCTYPE html> is it a tag of html? If not, what is it and why do we use it?"
   ]
  },
  {
   "cell_type": "markdown",
   "id": "da6918c0",
   "metadata": {},
   "source": [
    "Ans:- \n",
    "    \n",
    "    No, <!DOCTYPE html> is not a tag in HTML. It is referred to as the Document Type Declaration (DTD) or Document Type Definition.\n",
    "\n",
    "The <!DOCTYPE html> declaration is used at the beginning of an HTML document to specify the version of HTML being used and to define the document type. It is not an HTML tag, but rather an instruction for the web browser or parser to interpret the document correctly.\n",
    "\n",
    "The purpose of the DOCTYPE declaration is to inform the browser about the rules and standards that should be followed when parsing and rendering the HTML document. It helps the browser determine the correct rendering mode, such as whether to use quirks mode or standards mode.\n",
    "\n",
    "For modern web development, the DOCTYPE declaration <!DOCTYPE html> is used for HTML5 documents. It signifies that the document follows the HTML5 specification, which is the latest and most widely supported version of HTML.\n",
    "\n",
    "Including the DOCTYPE declaration is important because it ensures that the web page is rendered consistently across different browsers and devices, as they will interpret the HTML code according to the specified standards and rules.\n",
    "\n",
    "In summary, <!DOCTYPE html> is not an HTML tag, but rather a declaration that specifies the version of HTML being used and helps ensure consistent rendering of the HTML document across different browsers."
   ]
  },
  {
   "cell_type": "markdown",
   "id": "dc405ab5",
   "metadata": {},
   "source": [
    "# Q2"
   ]
  },
  {
   "cell_type": "code",
   "execution_count": null,
   "id": "bb26e632",
   "metadata": {},
   "outputs": [],
   "source": [
    "Q.2 Explain Semantic tags in html? And why do we need it?"
   ]
  },
  {
   "cell_type": "markdown",
   "id": "6b0b38b6",
   "metadata": {},
   "source": [
    "Ans:- \n",
    "    \n",
    "    Semantic tags in HTML are elements that provide meaningful and descriptive information about the content they enclose. Unlike generic block-level or inline elements, semantic tags convey the purpose and structure of the content, making it more understandable to both humans and search engines.\n",
    "\n",
    "Here are some commonly used semantic tags in HTML5:\n",
    "\n",
    "1. <header>: Represents the introductory content or a container for the site header.\n",
    "2. <nav>: Defines a section containing navigation links.\n",
    "3. <main>: Specifies the main content of the document.\n",
    "4. <article>: Represents a self-contained composition, such as a blog post or news article.\n",
    "5. <section>: Defines a thematic grouping of content within an article or a document.\n",
    "6. <aside>: Represents content that is tangentially related to the main content, such as sidebars or callout boxes.\n",
    "7. <footer>: Represents the footer of a document or a section.\n",
    "\n",
    "    \n",
    "## The use of semantic tags brings several benefits:\n",
    "\n",
    "1. Improved accessibility: Semantic tags provide semantic meaning to assistive technologies, making it easier for users with disabilities to navigate and understand the content.\n",
    "2. Search engine optimization (SEO): Semantic markup helps search engines understand the structure and context of the content, potentially improving search engine rankings and visibility.\n",
    "3. Maintainability and readability: Semantic tags make the HTML code more readable and maintainable for developers, as they clearly indicate the purpose and structure of the content.\n",
    "4. Future-proofing: Semantic tags help ensure that the HTML code remains relevant and compatible with future updates to HTML standards.\n",
    "\n",
    "By using semantic tags appropriately, you can enhance the structure, accessibility, and search engine visibility of your web pages. They contribute to a better understanding of the content by both machines and humans, leading to improved user experiences and better overall web development practices."
   ]
  },
  {
   "cell_type": "markdown",
   "id": "d7144755",
   "metadata": {},
   "source": [
    "# Q3"
   ]
  },
  {
   "cell_type": "code",
   "execution_count": null,
   "id": "6130fc25",
   "metadata": {},
   "outputs": [],
   "source": [
    "Q.3 Differentiate between HTML Tags and Elements?"
   ]
  },
  {
   "cell_type": "markdown",
   "id": "b1f9b021",
   "metadata": {},
   "source": [
    "Ans:- \n",
    "    \n",
    "    In HTML, the terms \"tags\" and \"elements\" refer to different aspects of the markup language:\n",
    "\n",
    "1. HTML Tags:\n",
    ". HTML tags are the markup components used to define the structure and presentation of the content in an HTML document.\n",
    ". Tags are enclosed in angle brackets (< and >) and usually come in pairs: an opening tag and a closing tag.\n",
    ". Opening tags indicate the start of an element, while closing tags indicate the end of an element.\n",
    ". Examples of HTML tags: <h1>, <p>, <div>, <a>, <img>, <table>, etc.\n",
    "\n",
    "2. HTML Elements:\n",
    ". HTML elements are composed of HTML tags along with the content they enclose (if any) and any attributes that provide . . additional information about the element.\n",
    ". An element consists of an opening tag, the content (text, other elements), and a closing tag.\n",
    ". Elements represent the building blocks of an HTML document, defining the structure and semantics of the content.\n",
    "=> Examples of HTML elements:\n",
    ". <h1>Welcome</h1>: The <h1> element is the HTML tag that defines a heading level 1 element, and \"Welcome\" is the content within the element.\n",
    "    \n",
    ". <a href=\"https://www.example.com\">Click here</a>: The <a> element is the tag that defines an anchor/link, and \"Click here\" is the content within the link. The href attribute provides the URL the link should point to.\n",
    "    \n",
    "    \n",
    "In summary, HTML tags are the markup components used to define the structure and presentation of content, while HTML elements are composed of tags along with their content and attributes. Elements represent the complete building blocks of an HTML document, including the opening and closing tags, content, and additional attributes."
   ]
  },
  {
   "cell_type": "markdown",
   "id": "27fc7f90",
   "metadata": {},
   "source": [
    "# Q4"
   ]
  },
  {
   "cell_type": "code",
   "execution_count": null,
   "id": "98c769f3",
   "metadata": {},
   "outputs": [],
   "source": [
    "Q.4 Build Your Resume using HTML only"
   ]
  },
  {
   "cell_type": "code",
   "execution_count": null,
   "id": "8c529886",
   "metadata": {},
   "outputs": [],
   "source": [
    "<body>\n",
    "  <!-- Personal Information -->\n",
    "  <h1>Your Name</h1>\n",
    "  <p>Email: example@example.com</p>\n",
    "  <p>Phone: 123-456-7890</p>\n",
    "\n",
    "  <!-- Education Section -->\n",
    "  <h2>Education</h2>\n",
    "  <p>Bachelor of Science, University Name, Graduation Year</p>\n",
    "\n",
    "  <!-- Experience Section -->\n",
    "  <h2>Experience</h2>\n",
    "  <p>Job Title, Company Name, Employment Duration</p>\n",
    "  <p>Job Description</p>\n",
    "\n",
    "  <!-- Skills Section -->\n",
    "  <h2>Skills</h2>\n",
    "  <ul>\n",
    "    <li>Skill 1</li>\n",
    "    <li>Skill 2</li>\n",
    "    <li>Skill 3</li>\n",
    "  </ul>\n",
    "</body>"
   ]
  },
  {
   "cell_type": "code",
   "execution_count": null,
   "id": "35625183",
   "metadata": {},
   "outputs": [],
   "source": [
    "Save the file with a .html extension, such as \"resume.html\" (choose the appropriate name).\n",
    "Open the saved HTML file in a web browser by double-clicking on it. This will render the HTML and display your resume.\n",
    "By following these steps, you will have an HTML file containing your resume that can be viewed in a web browser. "
   ]
  },
  {
   "cell_type": "markdown",
   "id": "0ea40cff",
   "metadata": {},
   "source": [
    "# Q5"
   ]
  },
  {
   "cell_type": "code",
   "execution_count": null,
   "id": "d6be8979",
   "metadata": {},
   "outputs": [],
   "source": [
    "Write HTML code so that it looks like the below image"
   ]
  },
  {
   "cell_type": "code",
   "execution_count": null,
   "id": "4c045d32",
   "metadata": {},
   "outputs": [],
   "source": [
    "<!DOCTYPE html>\n",
    "<html>\n",
    "<head>\n",
    "  <meta charset=\"UTF-8\">\n",
    "  <title>Learning Schedule and Programmer Essentials</title>\n",
    "</head>\n",
    "<body>\n",
    "  <h2>Learning Schedule</h2>\n",
    "  <table>\n",
    "    <tr>\n",
    "      <th>Day1</th>\n",
    "      <th>Day2</th>\n",
    "      <th>Day3</th>\n",
    "      <th>Day4</th>\n",
    "    </tr>\n",
    "    <tr>\n",
    "      <td>Linux</td>\n",
    "      <td>HTML</td>\n",
    "      <td>Linux2</td>\n",
    "      <td>Linux3</td>\n",
    "    </tr>\n",
    "    <tr>\n",
    "      <td>GIT1</td>\n",
    "      <td>CSS</td>\n",
    "      <td>Git2</td>\n",
    "      <td>Bootstrap</td>\n",
    "    </tr>\n",
    "  </table>\n",
    "  \n",
    "  <h2>Contact Form</h2>\n",
    "  <form>\n",
    "    <label for=\"name\">Name:</label>\n",
    "    <input type=\"text\" id=\"name\" name=\"name\">\n",
    "    <br>\n",
    "    <label for=\"phone\">Phone no:</label>\n",
    "    <input type=\"text\" id=\"phone\" name=\"phone\">\n",
    "    <br>\n",
    "    <label for=\"email\">Email Id:</label>\n",
    "    <input type=\"email\" id=\"email\" name=\"email\">\n",
    "    <br>\n",
    "    <input type=\"submit\" value=\"Submit\">\n",
    "  </form>\n",
    "\n",
    "  <h2>Programmer Essentials</h2>\n",
    "  <ol>\n",
    "    <li>A Problem-solving mindset</li>\n",
    "    <li>Consistency\n",
    "      <ul>\n",
    "        <li>Clean Code</li>\n",
    "        <li>Thorough knowledge of core concepts</li>\n",
    "        <li>Readable Code</li>\n",
    "        <li>Speed</li>\n",
    "      </ul>\n",
    "    </li>\n",
    "  </ol>\n",
    "</body>\n",
    "</html>"
   ]
  },
  {
   "cell_type": "markdown",
   "id": "5925ba54",
   "metadata": {},
   "source": [
    "The above code need to save in text tile and save as leaning.html then we can get the given image"
   ]
  },
  {
   "cell_type": "markdown",
   "id": "b536861c",
   "metadata": {},
   "source": [
    "# Q6"
   ]
  },
  {
   "cell_type": "code",
   "execution_count": null,
   "id": "af05c4d1",
   "metadata": {},
   "outputs": [],
   "source": [
    "Q.6 What are some of the advantages of HTML5 over its previous versions?"
   ]
  },
  {
   "cell_type": "markdown",
   "id": "2f6df33a",
   "metadata": {},
   "source": [
    "Ans:- \n",
    "    \n",
    "    HTML5 introduced several advantages and improvements over its previous versions. Here are some key advantages of HTML5:\n",
    "\n",
    "1. Rich multimedia support: HTML5 provides native support for audio and video elements without requiring additional plugins like Flash. This enables easier integration of multimedia content into web pages, enhancing the user experience.\n",
    "2. Canvas element: HTML5 introduced the <canvas> element, which allows for dynamic rendering and manipulation of graphics, animations, and interactive visualizations directly within the browser, without the need for external plugins.\n",
    "3. Improved form handling: HTML5 introduced new input types (e.g., email, date, number) and attributes (e.g., placeholder, required) that enhance form handling and validation. This makes it easier to create user-friendly and accessible web forms.\n",
    "4. Mobile support: HTML5 is designed to be mobile-friendly and responsive, providing features such as geolocation APIs, offline storage, and touch events. This enables the development of mobile-friendly websites and web applications.\n",
    "5. Semantic elements: HTML5 introduced a set of semantic elements (e.g., #<header>, #<nav>, #<article>, #<footer>) that provide a clearer and more meaningful structure to web pages. These semantic elements enhance accessibility, search engine optimization (SEO), and overall code readability.\n",
    "6. Local storage: HTML5 introduced the localStorage API, which enables web applications to store data locally within the user's browser. This allows for persistent data storage even when the user navigates away from the website, providing a better user experience.\n",
    "7. Improved offline capabilities: HTML5 introduced the Application Cache (appcache) and Service Workers, which enable web applications to work offline or in low-connectivity situations. This enables the caching and offline availability of web pages, enhancing performance and user experience.\n",
    "8. Simplified doctype declaration: HTML5 introduced the simplified <!DOCTYPE html> declaration, removing the need for the longer and more complex doctype declarations used in previous versions. This simplifies the setup of HTML documents and ensures more consistent rendering across browsers.\n",
    "\n",
    "These are just a few of the advantages that HTML5 brings over its previous versions. HTML5 provides enhanced functionality, improved multimedia support, better mobile compatibility, and more streamlined development practices, making it the recommended standard for modern web development."
   ]
  },
  {
   "cell_type": "markdown",
   "id": "262a4801",
   "metadata": {},
   "source": [
    "# Q7"
   ]
  },
  {
   "cell_type": "code",
   "execution_count": null,
   "id": "92252299",
   "metadata": {},
   "outputs": [],
   "source": [
    "Q.7 Create a simple Music player using html only"
   ]
  },
  {
   "cell_type": "code",
   "execution_count": null,
   "id": "58519a0c",
   "metadata": {},
   "outputs": [],
   "source": [
    "<!DOCTYPE html>\n",
    "<html>\n",
    "<head>\n",
    "  <meta charset=\"UTF-8\">\n",
    "  <title>Music Player</title>\n",
    "  <style>\n",
    "    .music-player {\n",
    "      display: flex;\n",
    "      align-items: center;\n",
    "      gap: 10px;\n",
    "    }\n",
    "  </style>\n",
    "</head>\n",
    "<body>\n",
    "  <div class=\"music-player\">\n",
    "    <audio src=\"path/to/your/song.mp3\" controls></audio>\n",
    "    <p>Song Title</p>\n",
    "  </div>\n",
    "</body>\n",
    "</html>"
   ]
  },
  {
   "cell_type": "code",
   "execution_count": null,
   "id": "d652fb26",
   "metadata": {},
   "outputs": [],
   "source": [
    "The above code need to save in text tile and save as musicplayer.html then we can get the music load"
   ]
  },
  {
   "cell_type": "markdown",
   "id": "10c6ad50",
   "metadata": {},
   "source": [
    "we have a basic HTML structure that includes an <audio> element to play the audio file and a <p> element to display the song title. The src attribute of the <audio> element should be set to the path of your desired audio file.\n",
    "\n",
    "The controls attribute enables the default controls for the audio player, allowing users to play, pause, adjust volume, and seek through the audio. You can customize the appearance and behavior of the player further using CSS.\n",
    "\n",
    "Please note that this example provides a basic foundation for a music player and might not include advanced features like playlist management or song selection. You can expand upon this code and add additional functionality as needed, such as playlist controls or multiple songs."
   ]
  },
  {
   "cell_type": "markdown",
   "id": "477da995",
   "metadata": {},
   "source": [
    "# Q8"
   ]
  },
  {
   "cell_type": "code",
   "execution_count": null,
   "id": "a12c68d5",
   "metadata": {},
   "outputs": [],
   "source": [
    "Q.8 What is the difference between <figure> tag and <img> tag?"
   ]
  },
  {
   "cell_type": "markdown",
   "id": "98adfdb2",
   "metadata": {},
   "source": [
    "The <figure> tag and the <img> tag serve different purposes and have different roles in HTML:\n",
    "\n",
    "1. <img> tag:\n",
    ". The <img> tag is used to embed an image in an HTML document.\n",
    ". It is a self-closing tag and does not require a closing tag.\n",
    ". The <img> tag requires the src attribute, which specifies the source (URL or file path) of the image.\n",
    ". Additional attributes can be used to define the image's width, height, alternative text, etc.\n",
    ". The <img> tag is primarily used to display images within the content of a webpage."
   ]
  },
  {
   "cell_type": "code",
   "execution_count": null,
   "id": "8be64f1d",
   "metadata": {},
   "outputs": [],
   "source": [
    "<img src=\"path/to/image.jpg\" alt=\"Image description\" width=\"300\" height=\"200\">\n"
   ]
  },
  {
   "cell_type": "markdown",
   "id": "924c558c",
   "metadata": {},
   "source": [
    "2. <figure> tag:\n",
    ". The <figure> tag represents self-contained content that is referenced or explained within the main content of an HTML document.\n",
    ". It is a block-level element and requires both an opening and closing tag.\n",
    ". The <figure> tag is typically used in combination with the <figcaption> tag to provide a caption or description for the      content it contains.\n",
    ". The content within the <figure> element can include images, illustrations, diagrams, videos, audio, code snippets, etc.\n",
    ". The purpose of the <figure> tag is to semantically group together related content that should be treated as a single unit."
   ]
  },
  {
   "cell_type": "code",
   "execution_count": null,
   "id": "ed83e100",
   "metadata": {},
   "outputs": [],
   "source": [
    "<figure>\n",
    "  <img src=\"path/to/image.jpg\" alt=\"Image description\">\n",
    "  <figcaption>Figure caption or description</figcaption>\n",
    "</figure>"
   ]
  },
  {
   "cell_type": "markdown",
   "id": "fcd69dc0",
   "metadata": {},
   "source": [
    " the <figure> element contains both the <img> element and the <figcaption> element. The <figcaption> element provides a caption or description for the image contained within the <figure>.\n",
    "\n",
    "In summary, while the <img> tag is specifically for embedding images, the <figure> tag is used to group and provide context for self-contained content, including images, within an HTML document."
   ]
  },
  {
   "cell_type": "markdown",
   "id": "125c6aa2",
   "metadata": {},
   "source": [
    "# Q9"
   ]
  },
  {
   "cell_type": "code",
   "execution_count": null,
   "id": "f8cbfe7e",
   "metadata": {},
   "outputs": [],
   "source": [
    "Q.9 What’s the difference between html tag and attribute and give example of some global attributes?"
   ]
  },
  {
   "cell_type": "markdown",
   "id": "91a13243",
   "metadata": {},
   "source": [
    "ANs:- \n",
    "    \n",
    "    In HTML, tags and attributes serve different purposes:\n",
    "\n",
    "1. HTML Tags:\n",
    ". HTML tags define the structure and semantics of elements in an HTML document.\n",
    ". Tags are enclosed in angle brackets (< and >).\n",
    ". Tags can be either paired (with an opening and closing tag) or self-closing.\n",
    ". Examples of HTML tags: <h1>, <p>, <div>, <a>, <img>, <table>, etc.\n",
    "\n",
    "2. HTML Attributes:\n",
    ". HTML attributes provide additional information or modify the behavior of HTML elements.\n",
    ". Attributes are used within the opening tag of an element.\n",
    ". Attributes consist of a name and a value, separated by an equals sign (=) and enclosed in quotation marks (\"\" or '').\n",
    ". Examples of HTML attributes: class, id, src, href, alt, style, width, height, etc.\n",
    "\n",
    "Global attributes are a set of attributes that can be used on any HTML element. They provide common functionality and characteristics that can be applied universally. Here are some examples of global attributes:\n",
    "\n",
    "1. class attribute: Specifies one or more CSS classes to apply to an element for styling or JavaScript manipulation.\n",
    "Example: <div class=\"container\">...</div>\n",
    "\n",
    "2. id attribute: Specifies a unique identifier for an element, allowing it to be targeted by CSS or JavaScript.\n",
    "Example: <p id=\"intro\">...</p>\n",
    "\n",
    "3. style attribute: Defines inline CSS styles to be applied to an element.\n",
    "Example: <h1 style=\"color: blue;\">...</h1>\n",
    "\n",
    "4. title attribute: Provides additional information or a tooltip for an element when the user hovers over it.\n",
    "Example: <a href=\"#\" title=\"Click here for more information\">...</a>\n",
    "\n",
    "5. data-* attributes: Allows custom data to be added to an element for scripting or styling purposes.\n",
    "Example: <div data-category=\"product\" data-price=\"19.99\">...</div>\n",
    "\n",
    "These are just a few examples of global attributes in HTML. Global attributes provide flexibility and versatility for working with HTML elements across different contexts and use cases."
   ]
  },
  {
   "cell_type": "markdown",
   "id": "9ae01a69",
   "metadata": {},
   "source": [
    "# Q10"
   ]
  },
  {
   "cell_type": "code",
   "execution_count": null,
   "id": "6be31f84",
   "metadata": {},
   "outputs": [],
   "source": [
    "Q.10 Write Html code so that it looks like the below image "
   ]
  },
  {
   "cell_type": "code",
   "execution_count": null,
   "id": "569ddb6d",
   "metadata": {},
   "outputs": [],
   "source": [
    "\n",
    "|-----------|--------------------------------------------------------------|\n",
    "|DAY        |                        Seminar                               |\n",
    "|-----------|------------------------------|-------------------------------|\n",
    "|           |           Shedule            |                               |\n",
    "|-----------|----------------|-------------|           Topic               |\n",
    "|           |    Begin       |    End      |                               |\n",
    "|-----------|----------------|-------------|-------------------------------|                                      \n",
    "|           |                |             |       Introduction to X       |\n",
    "|   Monday  |   8:00 a.m.    | 5:00 p.m.   |-------------------------------|\n",
    "|           |                |             |   Validity Dtd and Relad NG   |\n",
    "|-----------|----------------|-------------|-------------------------------|     \n",
    "|           |  8:00 a.m.     | 11:00 p.m.  |                               |\n",
    "|           | 11:00 a.m.     |  2:00 p.m.  |             XPath             |         \n",
    "|  Tuesday  |----------------|-------------|-------------------------------|   \n",
    "|           |  2:00 p.m.     | 5:00 p.m.   |      XSL Transformations      |\n",
    "|-----------|----------------|-------------|-------------------------------|                     \n",
    "|Wednesday  |  8:00 a.m.     | 12:00 p.m.  |    XSL Formatting objects     |\n",
    "|-----------|----------------|-------------|-------------------------------|  "
   ]
  },
  {
   "cell_type": "code",
   "execution_count": null,
   "id": "832a3ac1",
   "metadata": {},
   "outputs": [],
   "source": [
    "<!DOCTYPE html>\n",
    "<html>\n",
    "<head>\n",
    "  <meta charset=\"UTF-8\">\n",
    "  <title>Seminar Schedule</title>\n",
    "  <style>\n",
    "    table {\n",
    "      width: 100%;\n",
    "      border-collapse: collapse;\n",
    "    }\n",
    "    th, td {\n",
    "      border: 1px solid black;\n",
    "      padding: 8px;\n",
    "    }\n",
    "    th {\n",
    "      text-align: center;\n",
    "    }\n",
    "  </style>\n",
    "</head>\n",
    "<body>\n",
    "  <table>\n",
    "    <tr>\n",
    "      <th colspan=\"2\">DAY</th>\n",
    "      <th colspan=\"3\">Seminar</th>\n",
    "    </tr>\n",
    "    <tr>\n",
    "      <th rowspan=\"2\"> </th>\n",
    "      <th>Schedule</th>\n",
    "      <th>Topic</th>\n",
    "      <th>Begin</th>\n",
    "      <th>End</th>\n",
    "    </tr>\n",
    "    <tr>\n",
    "      <th>Monday</th>\n",
    "      <td>Introduction to X</td>\n",
    "      <td>8:00 a.m.</td>\n",
    "      <td>5:00 p.m.</td>\n",
    "    </tr>\n",
    "    <tr>\n",
    "      <th>Tuesday</th>\n",
    "      <td>Validity Dtd and Relad NG</td>\n",
    "      <td>8:00 a.m.</td>\n",
    "      <td>11:00 p.m.</td>\n",
    "    </tr>\n",
    "    <tr>\n",
    "      <th rowspan=\"2\">Wednesday</th>\n",
    "      <td>XPath</td>\n",
    "      <td>11:00 a.m.</td>\n",
    "      <td>2:00 p.m.</td>\n",
    "    </tr>\n",
    "    <tr>\n",
    "      <td>XSL Transformations</td>\n",
    "      <td>2:00 p.m.</td>\n",
    "      <td>5:00 p.m.</td>\n",
    "    </tr>\n",
    "    <tr>\n",
    "      <th>Thursday</th>\n",
    "      <td>XSL Formatting objects</td>\n",
    "      <td>8:00 a.m.</td>\n",
    "      <td>12:00 p.m.</td>\n",
    "    </tr>\n",
    "  </table>\n",
    "</body>\n",
    "</html>"
   ]
  },
  {
   "cell_type": "markdown",
   "id": "b6b46102",
   "metadata": {},
   "source": [
    "The code above will generate a table with the desired structure and content based on the provided image. You can customize the appearance of the table by modifying the CSS styles within the <style> tags."
   ]
  },
  {
   "cell_type": "code",
   "execution_count": null,
   "id": "f12ad071",
   "metadata": {},
   "outputs": [],
   "source": []
  },
  {
   "cell_type": "code",
   "execution_count": null,
   "id": "475fc5a5",
   "metadata": {},
   "outputs": [],
   "source": []
  }
 ],
 "metadata": {
  "kernelspec": {
   "display_name": "Python 3 (ipykernel)",
   "language": "python",
   "name": "python3"
  },
  "language_info": {
   "codemirror_mode": {
    "name": "ipython",
    "version": 3
   },
   "file_extension": ".py",
   "mimetype": "text/x-python",
   "name": "python",
   "nbconvert_exporter": "python",
   "pygments_lexer": "ipython3",
   "version": "3.9.13"
  }
 },
 "nbformat": 4,
 "nbformat_minor": 5
}
