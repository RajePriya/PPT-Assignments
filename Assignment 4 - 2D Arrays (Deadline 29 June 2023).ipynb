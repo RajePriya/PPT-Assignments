{
 "cells": [
  {
   "cell_type": "markdown",
   "id": "d642fa21",
   "metadata": {},
   "source": [
    "# Q1"
   ]
  },
  {
   "cell_type": "code",
   "execution_count": null,
   "id": "4bca1777",
   "metadata": {},
   "outputs": [],
   "source": [
    "Question 1\n",
    "Given three integer arrays arr1, arr2 and arr3 **sorted** in **strictly increasing** order, return a sorted array of **only** the integers that appeared in **all** three arrays.\n",
    "\n",
    "Example 1:\n",
    "\n",
    "Input: arr1 = [1,2,3,4,5], arr2 = [1,2,5,7,9], arr3 = [1,3,4,5,8]\n",
    "\n",
    "Output: [1,5]\n",
    "\n",
    "Explanation: Only 1 and 5 appeared in the three arrays."
   ]
  },
  {
   "cell_type": "markdown",
   "id": "2e08cea0",
   "metadata": {},
   "source": [
    "Ans:-\n",
    "    \n",
    "    To find the integers that appeared in all three arrays, you can use the following algorithm:\n",
    "\n",
    "1. Initialize three pointers, one for each array: ptr1, ptr2, and ptr3. Set them to 0, indicating the start of each array.\n",
    "2. Create an empty list to store the common elements: result = [].\n",
    "3. While ptr1, ptr2, and ptr3 are within the bounds of their respective arrays:\n",
    "- If arr1[ptr1], arr2[ptr2], and arr3[ptr3] are equal, it means an element is common in all three arrays. Add it to result and -increment all three pointers.\n",
    "- If any of the elements is smaller than the others, increment its corresponding pointer.\n",
    "- Otherwise, if none of the elements is smaller, it means they are all different. Increment any pointer arbitrarily.\n",
    "4. Return result."
   ]
  },
  {
   "cell_type": "code",
   "execution_count": 1,
   "id": "ecf070be",
   "metadata": {},
   "outputs": [],
   "source": [
    "def find_common_elements(arr1, arr2, arr3):\n",
    "    ptr1, ptr2, ptr3 = 0, 0, 0\n",
    "    result = []\n",
    "\n",
    "    while ptr1 < len(arr1) and ptr2 < len(arr2) and ptr3 < len(arr3):\n",
    "        if arr1[ptr1] == arr2[ptr2] == arr3[ptr3]:\n",
    "            result.append(arr1[ptr1])\n",
    "            ptr1 += 1\n",
    "            ptr2 += 1\n",
    "            ptr3 += 1\n",
    "        elif arr1[ptr1] < arr2[ptr2] or arr1[ptr1] < arr3[ptr3]:\n",
    "            ptr1 += 1\n",
    "        elif arr2[ptr2] < arr1[ptr1] or arr2[ptr2] < arr3[ptr3]:\n",
    "            ptr2 += 1\n",
    "        else:\n",
    "            ptr3 += 1\n",
    "\n",
    "    return result"
   ]
  },
  {
   "cell_type": "code",
   "execution_count": 2,
   "id": "59541486",
   "metadata": {},
   "outputs": [
    {
     "name": "stdout",
     "output_type": "stream",
     "text": [
      "[1, 5]\n"
     ]
    }
   ],
   "source": [
    "arr1 = [1,2,3,4,5]\n",
    "arr2 = [1,2,5,7,9]\n",
    "arr3 = [1,3,4,5,8]\n",
    "\n",
    "print(find_common_elements(arr1, arr2, arr3))"
   ]
  },
  {
   "cell_type": "markdown",
   "id": "a13d90f6",
   "metadata": {},
   "source": [
    "This indicates that 1 and 5 are the only integers that appeared in all three arrays."
   ]
  },
  {
   "cell_type": "markdown",
   "id": "4e82b4b4",
   "metadata": {},
   "source": [
    "# Q2"
   ]
  },
  {
   "cell_type": "markdown",
   "id": "74f27221",
   "metadata": {},
   "source": [
    "Question 2\n",
    "\n",
    "Given two 0-indexed integer arrays nums1 and nums2, return a list answer of size 2 where:\n",
    "\n",
    "- answer[0] is a list of all distinct integers in nums1 which are not present in nums2.\n",
    "- answer[1] is a list of all distinct integers in nums2 which are not present in nums1.\n",
    "\n",
    "Note that the integers in the lists may be returned in any order.\n",
    "\n",
    "Example 1:\n",
    "\n",
    "Input: nums1 = [1,2,3], nums2 = [2,4,6]\n",
    "\n",
    "Output: [[1,3],[4,6]]\n",
    "\n",
    "Explanation:\n",
    "\n",
    "For nums1, nums1[1] = 2 is present at index 0 of nums2, whereas nums1[0] = 1 and nums1[2] = 3 are not present in nums2. Therefore, answer[0] = [1,3].\n",
    "\n",
    "For nums2, nums2[0] = 2 is present at index 1 of nums1, whereas nums2[1] = 4 and nums2[2] = 6 are not present in nums2. Therefore, answer[1] = [4,6]."
   ]
  },
  {
   "cell_type": "markdown",
   "id": "c14a8c67",
   "metadata": {},
   "source": [
    "Ans:- \n",
    "    \n",
    "- Create two sets, set1 and set2, to store the distinct elements of nums1 and nums2, respectively.\n",
    "- Iterate over each element in nums1 and add it to set1.\n",
    "- Iterate over each element in nums2 and add it to set2.\n",
    "- Create two lists, not_in_nums2 and not_in_nums1, to store the elements that are in set1 but not in set2, and the elements that are in set2 but not in set1, respectively.\n",
    "- Iterate over each element in set1 and check if it exists in set2. If not, add it to not_in_nums2.\n",
    "- Iterate over each element in set2 and check if it exists in set1. If not, add it to not_in_nums1.\n",
    "- Return the list [not_in_nums1, not_in_nums2]."
   ]
  },
  {
   "cell_type": "code",
   "execution_count": 3,
   "id": "409c19c6",
   "metadata": {},
   "outputs": [],
   "source": [
    "def find_disjoint_elements(nums1, nums2):\n",
    "    set1 = set(nums1)\n",
    "    set2 = set(nums2)\n",
    "\n",
    "    not_in_nums2 = [num for num in set1 if num not in set2]\n",
    "    not_in_nums1 = [num for num in set2 if num not in set1]\n",
    "\n",
    "    return [not_in_nums1, not_in_nums2]"
   ]
  },
  {
   "cell_type": "code",
   "execution_count": 4,
   "id": "d1de6a10",
   "metadata": {},
   "outputs": [
    {
     "name": "stdout",
     "output_type": "stream",
     "text": [
      "[[4, 6], [1, 3]]\n"
     ]
    }
   ],
   "source": [
    "nums1 = [1,2,3]\n",
    "nums2 = [2,4,6]\n",
    "\n",
    "print(find_disjoint_elements(nums1, nums2))"
   ]
  },
  {
   "cell_type": "markdown",
   "id": "2f3a5e64",
   "metadata": {},
   "source": [
    "This indicates that [4, 6] are the distinct integers in nums2 not present in nums1, and [1, 3] are the distinct integers in nums1 not present in nums2."
   ]
  },
  {
   "cell_type": "markdown",
   "id": "b43b5057",
   "metadata": {},
   "source": [
    "# Q3"
   ]
  },
  {
   "cell_type": "code",
   "execution_count": null,
   "id": "bfc93d6a",
   "metadata": {},
   "outputs": [],
   "source": [
    "Question 3\n",
    "Given a 2D integer array matrix, return the transpose of matrix.\n",
    "\n",
    "The transpose of a matrix is the matrix flipped over its main diagonal, switching the matrix's row and column indices.\n",
    "\n",
    "Example 1:\n",
    "\n",
    "Input: matrix = [[1,2,3],[4,5,6],[7,8,9]]\n",
    "\n",
    "Output: [[1,4,7],[2,5,8],[3,6,9]]"
   ]
  },
  {
   "cell_type": "markdown",
   "id": "d20869d5",
   "metadata": {},
   "source": [
    "Ans:- \n",
    "    To obtain the transpose of a matrix\n",
    "    \n",
    "- Initialize an empty result matrix with dimensions n rows and m columns, where n is the number of columns in the original matrix and m is the number of rows.\n",
    "- Iterate over each element in the original matrix. For each element at index (i, j), add it to the result matrix at index (j, i).\n",
    "- Return the result matrix."
   ]
  },
  {
   "cell_type": "code",
   "execution_count": 5,
   "id": "cde4e677",
   "metadata": {},
   "outputs": [],
   "source": [
    "def transpose(matrix):\n",
    "    n = len(matrix)\n",
    "    m = len(matrix[0])\n",
    "\n",
    "    result = [[0] * n for _ in range(m)]\n",
    "\n",
    "    for i in range(n):\n",
    "        for j in range(m):\n",
    "            result[j][i] = matrix[i][j]\n",
    "\n",
    "    return result"
   ]
  },
  {
   "cell_type": "code",
   "execution_count": 6,
   "id": "5dfd6e3c",
   "metadata": {},
   "outputs": [
    {
     "name": "stdout",
     "output_type": "stream",
     "text": [
      "[[1, 4, 7], [2, 5, 8], [3, 6, 9]]\n"
     ]
    }
   ],
   "source": [
    "matrix = [[1,2,3],[4,5,6],[7,8,9]]\n",
    "\n",
    "print(transpose(matrix))"
   ]
  },
  {
   "cell_type": "markdown",
   "id": "a999ff52",
   "metadata": {},
   "source": [
    "This indicates that the transpose of the original matrix is [[1, 4, 7], [2, 5, 8], [3, 6, 9]]."
   ]
  },
  {
   "cell_type": "markdown",
   "id": "475e7872",
   "metadata": {},
   "source": [
    "# Q4"
   ]
  },
  {
   "cell_type": "code",
   "execution_count": null,
   "id": "d95af129",
   "metadata": {},
   "outputs": [],
   "source": [
    "Question 4\n",
    "Given an integer array nums of 2n integers, group these integers into n pairs (a1, b1), (a2, b2), ..., (an, bn) such that the sum of min(ai, bi) for all i is **maximized**. Return *the maximized sum*.\n",
    "\n",
    "Example 1:\n",
    "\n",
    "Input: nums = [1,4,3,2]\n",
    "\n",
    "Output: 4\n",
    "\n",
    "Explanation: All possible pairings (ignoring the ordering of elements) are:\n",
    "\n",
    "1. (1, 4), (2, 3) -> min(1, 4) + min(2, 3) = 1 + 2 = 3\n",
    "\n",
    "2. (1, 3), (2, 4) -> min(1, 3) + min(2, 4) = 1 + 2 = 3\n",
    "\n",
    "3. (1, 2), (3, 4) -> min(1, 2) + min(3, 4) = 1 + 3 = 4\n",
    "\n",
    "So the maximum possible sum is 4."
   ]
  },
  {
   "cell_type": "markdown",
   "id": "91ae2b48",
   "metadata": {},
   "source": [
    "Ans:- \n",
    "    To maximize the sum of the minimum values in pairs\n",
    "    \n",
    "- Sort the given array nums in ascending order.\n",
    "- Initialize a variable max_sum to 0 to keep track of the maximum sum.\n",
    "- Iterate over the sorted array starting from index 0 with a step size of 2. In each iteration, add the value at the current index to max_sum.\n",
    "- After iterating over the array, max_sum will contain the maximum sum of the minimum values in pairs.\n",
    "- Return max_sum."
   ]
  },
  {
   "cell_type": "code",
   "execution_count": 7,
   "id": "16a377ce",
   "metadata": {},
   "outputs": [],
   "source": [
    "def array_pair_sum(nums):\n",
    "    nums.sort()\n",
    "    max_sum = 0\n",
    "\n",
    "    for i in range(0, len(nums), 2):\n",
    "        max_sum += nums[i]\n",
    "\n",
    "    return max_sum"
   ]
  },
  {
   "cell_type": "code",
   "execution_count": 8,
   "id": "1e6c248d",
   "metadata": {},
   "outputs": [
    {
     "name": "stdout",
     "output_type": "stream",
     "text": [
      "4\n"
     ]
    }
   ],
   "source": [
    "nums = [1, 4, 3, 2]\n",
    "\n",
    "print(array_pair_sum(nums))"
   ]
  },
  {
   "cell_type": "markdown",
   "id": "a7d5590c",
   "metadata": {},
   "source": [
    "This indicates that the maximum possible sum of the minimum values in pairs is 4."
   ]
  },
  {
   "cell_type": "markdown",
   "id": "a42f9f6f",
   "metadata": {},
   "source": [
    "# Q5"
   ]
  },
  {
   "cell_type": "markdown",
   "id": "a269d43b",
   "metadata": {},
   "source": [
    "Question 5\n",
    "You have n coins and you want to build a staircase with these coins. The staircase consists of k rows where the ith row has exactly i coins. The last row of the staircase **may be** incomplete.\n",
    "\n",
    "Given the integer n, return the number of complete rows of the staircase you will build.\n",
    "\n",
    "Example 1:\n",
    "\n",
    "[]()\n",
    "\n",
    "![v2.jpg](https://s3-us-west-2.amazonaws.com/secure.notion-static.com/4bd91cfa-d2b1-47b3-8197-a72e8dcfff4b/v2.jpg)\n",
    "\n",
    "Input: n = 5\n",
    "\n",
    "Output: 2\n",
    "\n",
    "Explanation: Because the 3rd row is incomplete, we return 2."
   ]
  },
  {
   "cell_type": "markdown",
   "id": "ffecd85d",
   "metadata": {},
   "source": [
    "Ans:- \n",
    "    To find the number of complete rows of the staircase given the number of coins\n",
    "    \n",
    "1. Initialize a variable rows to 0, representing the number of complete rows.\n",
    "2. Iterate i from 1 onwards, incrementing by 1 in each iteration, until the number of coins n is greater than or equal to i.\n",
    "3. Subtract i from n and increment rows by 1.\n",
    "4. After the loop, return the value of rows."
   ]
  },
  {
   "cell_type": "code",
   "execution_count": 9,
   "id": "9b08cf53",
   "metadata": {},
   "outputs": [],
   "source": [
    "def arrange_coins(n):\n",
    "    rows = 0\n",
    "    i = 1\n",
    "\n",
    "    while n >= i:\n",
    "        n -= i\n",
    "        rows += 1\n",
    "        i += 1\n",
    "\n",
    "    return rows"
   ]
  },
  {
   "cell_type": "code",
   "execution_count": 10,
   "id": "670ae7a3",
   "metadata": {},
   "outputs": [
    {
     "name": "stdout",
     "output_type": "stream",
     "text": [
      "2\n"
     ]
    }
   ],
   "source": [
    "n = 5\n",
    "\n",
    "print(arrange_coins(n))"
   ]
  },
  {
   "cell_type": "markdown",
   "id": "511b5582",
   "metadata": {},
   "source": [
    "This indicates that you can build 2 complete rows of the staircase with 5 coins."
   ]
  },
  {
   "cell_type": "markdown",
   "id": "e57a78f5",
   "metadata": {},
   "source": [
    "# Q6"
   ]
  },
  {
   "cell_type": "code",
   "execution_count": null,
   "id": "4ce59d2d",
   "metadata": {},
   "outputs": [],
   "source": [
    "Question 6\n",
    "Given an integer array nums sorted in non-decreasing order, return an array of the squares of each number sorted in non-decreasing order*.\n",
    "\n",
    "Example 1:\n",
    "\n",
    "Input: nums = [-4,-1,0,3,10]\n",
    "\n",
    "Output: [0,1,9,16,100]\n",
    "\n",
    "Explanation: After squaring, the array becomes [16,1,0,9,100].\n",
    "After sorting, it becomes [0,1,9,16,100]"
   ]
  },
  {
   "cell_type": "markdown",
   "id": "8cab2fda",
   "metadata": {},
   "source": [
    "Ans:- \n",
    "    To obtain an array of the squares of each number from a sorted array nums in non-decreasing order\n",
    "    \n",
    "1. Initialize an empty result array, squares.\n",
    "2. Iterate over each element in nums:\n",
    "3. Square the current element and append it to squares.\n",
    "4. Sort the squares array in non-decreasing order.\n",
    "5. Return the squares array."
   ]
  },
  {
   "cell_type": "code",
   "execution_count": 11,
   "id": "6c2863c3",
   "metadata": {},
   "outputs": [],
   "source": [
    "def sorted_squares(nums):\n",
    "    squares = []\n",
    "\n",
    "    for num in nums:\n",
    "        squares.append(num * num)\n",
    "\n",
    "    squares.sort()\n",
    "\n",
    "    return squares"
   ]
  },
  {
   "cell_type": "code",
   "execution_count": 12,
   "id": "29092ec8",
   "metadata": {},
   "outputs": [
    {
     "name": "stdout",
     "output_type": "stream",
     "text": [
      "[0, 1, 9, 16, 100]\n"
     ]
    }
   ],
   "source": [
    "nums = [-4, -1, 0, 3, 10]\n",
    "\n",
    "print(sorted_squares(nums))"
   ]
  },
  {
   "cell_type": "markdown",
   "id": "df36f0f1",
   "metadata": {},
   "source": [
    "This indicates that after squaring each number in the array and sorting the squares, the resulting array is [0, 1, 9, 16, 100]."
   ]
  },
  {
   "cell_type": "markdown",
   "id": "c27e1c9e",
   "metadata": {},
   "source": [
    "# Q7"
   ]
  },
  {
   "cell_type": "code",
   "execution_count": null,
   "id": "8a758896",
   "metadata": {},
   "outputs": [],
   "source": [
    "Question 7\n",
    "You are given an m x n matrix M initialized with all 0's and an array of operations ops, where ops[i] = [ai, bi] means M[x][y] should be incremented by one for all 0 <= x < ai and 0 <= y < bi.\n",
    "\n",
    "Count and return the number of maximum integers in the matrix after performing all the operations\n",
    "\n",
    "Example 1:\n",
    "\n",
    "Input: m = 3, n = 3, ops = [[2,2],[3,3]]\n",
    "\n",
    "Output: 4\n",
    "\n",
    "Explanation: The maximum integer in M is 2, and there are four of it in M. So return 4."
   ]
  },
  {
   "cell_type": "markdown",
   "id": "534c0a31",
   "metadata": {},
   "source": [
    "Ans:- \n",
    "    To find the number of maximum integers in the matrix after performing the given operations\n",
    "    \n",
    "1. Initialize variables min_row and min_col to represent the minimum values of ai and bi in the ops array, respectively. Set them initially to m and n.\n",
    "2. Iterate over each operation in the ops array:\n",
    "- Update min_row to the minimum value between min_row and the first element of the current operation.\n",
    "- Update min_col to the minimum value between min_col and the second element of the current operation.\n",
    "3. Return the product of min_row and min_col, which represents the number of maximum integers in the matrix."
   ]
  },
  {
   "cell_type": "code",
   "execution_count": 13,
   "id": "69be47c5",
   "metadata": {},
   "outputs": [],
   "source": [
    "def max_count(m, n, ops):\n",
    "    min_row = m\n",
    "    min_col = n\n",
    "\n",
    "    for op in ops:\n",
    "        min_row = min(min_row, op[0])\n",
    "        min_col = min(min_col, op[1])\n",
    "\n",
    "    return min_row * min_col"
   ]
  },
  {
   "cell_type": "code",
   "execution_count": 14,
   "id": "a7155815",
   "metadata": {},
   "outputs": [
    {
     "name": "stdout",
     "output_type": "stream",
     "text": [
      "4\n"
     ]
    }
   ],
   "source": [
    "m = 3\n",
    "n = 3\n",
    "ops = [[2, 2], [3, 3]]\n",
    "\n",
    "print(max_count(m, n, ops))"
   ]
  },
  {
   "cell_type": "markdown",
   "id": "6ed83aea",
   "metadata": {},
   "source": [
    "This indicates that after performing the operations, the maximum integer in the matrix is 2, and there are four occurrences of it. Therefore, the function returns 4."
   ]
  },
  {
   "cell_type": "markdown",
   "id": "bb20ec63",
   "metadata": {},
   "source": [
    "# Q8"
   ]
  },
  {
   "cell_type": "code",
   "execution_count": null,
   "id": "e631208e",
   "metadata": {},
   "outputs": [],
   "source": [
    "Question 8\n",
    "\n",
    "Given the array nums consisting of 2n elements in the form [x1,x2,...,xn,y1,y2,...,yn].\n",
    "\n",
    "Return the array in the form [x1,y1,x2,y2,...,xn,yn].\n",
    "\n",
    "Example 1:\n",
    "\n",
    "Input: nums = [2,5,1,3,4,7], n = 3\n",
    "\n",
    "Output: [2,3,5,4,1,7]\n",
    "\n",
    "Explanation: Since x1=2, x2=5, x3=1, y1=3, y2=4, y3=7 then the answer is [2,3,5,4,1,7]."
   ]
  },
  {
   "cell_type": "markdown",
   "id": "4c1847eb",
   "metadata": {},
   "source": [
    "Ans:- \n",
    "    To rearrange the given array nums consisting of 2n elements in the specified form\n",
    "    \n",
    "1. Split the array nums into two halves: the first half contains the elements from index 0 to n-1, and the second half contains the elements from index n to 2n-1.\n",
    "2. Initialize an empty result array, result.\n",
    "3. Iterate i from 0 to n-1:\n",
    "- Append the ith element from the first half of nums to result.\n",
    "- Append the ith element from the second half of nums to result.\n",
    "4. Return the result array."
   ]
  },
  {
   "cell_type": "code",
   "execution_count": 15,
   "id": "974d5a7a",
   "metadata": {},
   "outputs": [],
   "source": [
    "def shuffle(nums, n):\n",
    "    first_half = nums[:n]\n",
    "    second_half = nums[n:]\n",
    "\n",
    "    result = []\n",
    "\n",
    "    for i in range(n):\n",
    "        result.append(first_half[i])\n",
    "        result.append(second_half[i])\n",
    "\n",
    "    return result"
   ]
  },
  {
   "cell_type": "code",
   "execution_count": 16,
   "id": "85ac172f",
   "metadata": {},
   "outputs": [
    {
     "name": "stdout",
     "output_type": "stream",
     "text": [
      "[2, 3, 5, 4, 1, 7]\n"
     ]
    }
   ],
   "source": [
    "nums = [2, 5, 1, 3, 4, 7]\n",
    "n = 3\n",
    "\n",
    "print(shuffle(nums, n))"
   ]
  },
  {
   "cell_type": "markdown",
   "id": "749dd61c",
   "metadata": {},
   "source": [
    "This indicates that the rearranged array in the specified form is [2, 3, 5, 4, 1, 7]."
   ]
  },
  {
   "cell_type": "code",
   "execution_count": null,
   "id": "f1e2ac24",
   "metadata": {},
   "outputs": [],
   "source": []
  },
  {
   "cell_type": "code",
   "execution_count": null,
   "id": "e906e273",
   "metadata": {},
   "outputs": [],
   "source": []
  }
 ],
 "metadata": {
  "kernelspec": {
   "display_name": "Python 3 (ipykernel)",
   "language": "python",
   "name": "python3"
  },
  "language_info": {
   "codemirror_mode": {
    "name": "ipython",
    "version": 3
   },
   "file_extension": ".py",
   "mimetype": "text/x-python",
   "name": "python",
   "nbconvert_exporter": "python",
   "pygments_lexer": "ipython3",
   "version": "3.9.13"
  }
 },
 "nbformat": 4,
 "nbformat_minor": 5
}
